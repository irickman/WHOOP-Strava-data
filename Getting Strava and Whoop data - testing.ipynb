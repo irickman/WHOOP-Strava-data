{
 "cells": [
  {
   "cell_type": "markdown",
   "metadata": {},
   "source": [
    "## This was very confusing for me, but the steps below seem to be helpful\n",
    "\n",
    "https://groups.google.com/forum/#!msg/strava-api/XbQJrQOm9Dg/rNnc2cL3DAAJ\n",
    "\n",
    "1. first i need to authenticate - authentication will happen by me going to this website:\n",
    "https://www.strava.com/oauth/authorize?redirect_uri=http://localhost:5744/&response_type=code&scope=read,read_all,activity:read,activity:read_all,profile:read_all&client_id=15756\n",
    "2. It will send me to a local host, so then i need to get the \"code\" value and store it\n",
    "3. Then i need to post it to the authentication site, using the code, my client id, and client secret so i can pull it\n",
    "POST https://www.strava.com/oauth/token?grant_type=authorization_code&client_id=<YOUR CLIENT ID>&client_secret=<YOUR CLIENT SECRET>&code=<code>\n",
    "\n"
   ]
  },
  {
   "cell_type": "code",
   "execution_count": 2,
   "metadata": {
    "collapsed": true
   },
   "outputs": [],
   "source": [
    "import requests\n",
    "import pandas as pd\n",
    "from selenium import webdriver\n",
    "from selenium.webdriver.common.keys import Keys\n",
    "from bs4 import BeautifulSoup as BS\n",
    "from selenium.webdriver.common.by import By\n",
    "from selenium.webdriver.support.ui import WebDriverWait\n",
    "from selenium.webdriver.support import expected_conditions as EC\n",
    "from selenium.webdriver.common.by import By\n",
    "from selenium.common.exceptions import StaleElementReferenceException,NoSuchElementException\n",
    "import configparser"
   ]
  },
  {
   "cell_type": "code",
   "execution_count": 13,
   "metadata": {},
   "outputs": [],
   "source": [
    "config = configparser.ConfigParser()\n",
    "config.read(\"../strava.ini\")\n",
    "params={'client_id':config['strava']['client_id'],\n",
    "        'client_secret':config['strava']['client_secret'],\n",
    "        'code':config['strava']['code']}\n",
    "auth_url=config['strava']['auth_url']\n",
    "ref_url=config['strava']['ref_url']\n",
    "athlete_id=config['strava']['athlete_id']"
   ]
  },
  {
   "cell_type": "code",
   "execution_count": 14,
   "metadata": {},
   "outputs": [
    {
     "data": {
      "text/plain": [
       "'15756'"
      ]
     },
     "execution_count": 14,
     "metadata": {},
     "output_type": "execute_result"
    }
   ],
   "source": [
    "config['strava']['client_id']"
   ]
  },
  {
   "cell_type": "code",
   "execution_count": 15,
   "metadata": {},
   "outputs": [
    {
     "name": "stdout",
     "output_type": "stream",
     "text": [
      "400\n"
     ]
    }
   ],
   "source": [
    "r_auth = requests.post(auth_url, data=params)\n",
    "print(r_auth.status_code)\n",
    "response=r_auth.json()"
   ]
  },
  {
   "cell_type": "code",
   "execution_count": 12,
   "metadata": {},
   "outputs": [
    {
     "data": {
      "text/plain": [
       "{'access_token': '40ddb954f220854ca19ebe1ebb788bb5dd7f3e2e',\n",
       " 'athlete': {'badge_type_id': 0,\n",
       "  'city': 'Washington',\n",
       "  'country': 'United States',\n",
       "  'created_at': '2016-07-01T12:05:32Z',\n",
       "  'firstname': 'Ira',\n",
       "  'follower': None,\n",
       "  'friend': None,\n",
       "  'id': 16081751,\n",
       "  'lastname': 'Rickman',\n",
       "  'premium': False,\n",
       "  'profile': 'https://dgalywyr863hv.cloudfront.net/pictures/athletes/16081751/4498868/2/large.jpg',\n",
       "  'profile_medium': 'https://dgalywyr863hv.cloudfront.net/pictures/athletes/16081751/4498868/2/medium.jpg',\n",
       "  'resource_state': 2,\n",
       "  'sex': 'M',\n",
       "  'state': 'District of Columbia',\n",
       "  'summit': False,\n",
       "  'updated_at': '2020-05-09T18:06:07Z',\n",
       "  'username': None},\n",
       " 'expires_at': 1590139266,\n",
       " 'expires_in': 21600,\n",
       " 'refresh_token': '3af76bbca07e8d016006062460329834731868c2',\n",
       " 'token_type': 'Bearer'}"
      ]
     },
     "execution_count": 12,
     "metadata": {},
     "output_type": "execute_result"
    }
   ],
   "source": [
    "response"
   ]
  },
  {
   "cell_type": "code",
   "execution_count": 6,
   "metadata": {},
   "outputs": [
    {
     "name": "stdout",
     "output_type": "stream",
     "text": [
      "400\n"
     ]
    }
   ],
   "source": [
    "r_ref = requests.post(ref_url, data=params)\n",
    "print(r_ref.status_code)\n",
    "ref_response=r_ref.json()"
   ]
  },
  {
   "cell_type": "code",
   "execution_count": 56,
   "metadata": {
    "collapsed": true
   },
   "outputs": [],
   "source": [
    "import time\n",
    "import datetime\n",
    "import swagger_client\n",
    "from swagger_client.rest import ApiException\n",
    "from pprint import pprint"
   ]
  },
  {
   "cell_type": "code",
   "execution_count": 11,
   "metadata": {
    "collapsed": true
   },
   "outputs": [],
   "source": [
    "### need to figure out how to pull all my activities over time"
   ]
  },
  {
   "cell_type": "code",
   "execution_count": 12,
   "metadata": {},
   "outputs": [
    {
     "name": "stdout",
     "output_type": "stream",
     "text": [
      "{'all_ride_totals': {'achievement_count': None,\n",
      "                     'count': 45,\n",
      "                     'distance': 1684605.0,\n",
      "                     'elapsed_time': 276979,\n",
      "                     'elevation_gain': 6155.0,\n",
      "                     'moving_time': 232803},\n",
      " 'all_run_totals': {'achievement_count': None,\n",
      "                    'count': 475,\n",
      "                    'distance': 4208496.0,\n",
      "                    'elapsed_time': 1500814,\n",
      "                    'elevation_gain': 27155.0,\n",
      "                    'moving_time': 1329110},\n",
      " 'all_swim_totals': {'achievement_count': None,\n",
      "                     'count': 45,\n",
      "                     'distance': 58605.0,\n",
      "                     'elapsed_time': 101728,\n",
      "                     'elevation_gain': 0.0,\n",
      "                     'moving_time': 80302},\n",
      " 'biggest_climb_elevation_gain': 139.7,\n",
      " 'biggest_ride_distance': 110666.0,\n",
      " 'recent_ride_totals': {'achievement_count': 0,\n",
      "                        'count': 0,\n",
      "                        'distance': 0.0,\n",
      "                        'elapsed_time': 0,\n",
      "                        'elevation_gain': 0.0,\n",
      "                        'moving_time': 0},\n",
      " 'recent_run_totals': {'achievement_count': 17,\n",
      "                       'count': 21,\n",
      "                       'distance': 191974.5,\n",
      "                       'elapsed_time': 76134,\n",
      "                       'elevation_gain': 2815.0,\n",
      "                       'moving_time': 64438},\n",
      " 'recent_swim_totals': {'achievement_count': 0,\n",
      "                        'count': 0,\n",
      "                        'distance': 0.0,\n",
      "                        'elapsed_time': 0,\n",
      "                        'elevation_gain': 0.0,\n",
      "                        'moving_time': 0},\n",
      " 'ytd_ride_totals': {'achievement_count': None,\n",
      "                     'count': 1,\n",
      "                     'distance': 32956.0,\n",
      "                     'elapsed_time': 2580,\n",
      "                     'elevation_gain': 0.0,\n",
      "                     'moving_time': 2580},\n",
      " 'ytd_run_totals': {'achievement_count': None,\n",
      "                    'count': 57,\n",
      "                    'distance': 542226.0,\n",
      "                    'elapsed_time': 204183,\n",
      "                    'elevation_gain': 6081.0,\n",
      "                    'moving_time': 175005},\n",
      " 'ytd_swim_totals': {'achievement_count': None,\n",
      "                     'count': 0,\n",
      "                     'distance': 0.0,\n",
      "                     'elapsed_time': 0,\n",
      "                     'elevation_gain': 0.0,\n",
      "                     'moving_time': 0}}\n"
     ]
    }
   ],
   "source": [
    "configuration=swagger_client.Configuration()\n",
    "configuration.access_token=response['access_token']\n",
    "api_instance = swagger_client.AthletesApi(swagger_client.ApiClient(configuration))\n",
    "\n",
    "try:\n",
    "    # Get stats\n",
    "    api_response = api_instance.get_stats(id=athlete_id)\n",
    "    pprint(api_response)\n",
    "except ApiException as e:\n",
    "    print(\"Exception when calling AthletesApi->get_logged_in_athlete: %s\\n\" % e)"
   ]
  },
  {
   "cell_type": "code",
   "execution_count": 25,
   "metadata": {
    "collapsed": true
   },
   "outputs": [],
   "source": [
    "## getting latest date\n",
    "strav=pd.read_csv(\"../data/my_actvities.csv\")"
   ]
  },
  {
   "cell_type": "code",
   "execution_count": 51,
   "metadata": {},
   "outputs": [
    {
     "data": {
      "text/plain": [
       "6"
      ]
     },
     "execution_count": 51,
     "metadata": {},
     "output_type": "execute_result"
    }
   ],
   "source": [
    "last_date=datetime.datetime.strptime(strav.start_date.max().split(' ')[0],\"%Y-%m-%d\")\n",
    "new_timestamp=last_date.timestamp\n",
    "delta=datetime.datetime.now() - last_date\n",
    "delta.days"
   ]
  },
  {
   "cell_type": "code",
   "execution_count": 30,
   "metadata": {},
   "outputs": [
    {
     "data": {
      "text/plain": [
       "1526356800.0"
      ]
     },
     "execution_count": 30,
     "metadata": {},
     "output_type": "execute_result"
    }
   ],
   "source": [
    "timestamp = (datetime.datetime(2018, 5, 15)).timestamp()\n",
    "timestamp "
   ]
  },
  {
   "cell_type": "code",
   "execution_count": null,
   "metadata": {
    "collapsed": true
   },
   "outputs": [],
   "source": []
  },
  {
   "cell_type": "code",
   "execution_count": 16,
   "metadata": {
    "scrolled": true
   },
   "outputs": [
    {
     "ename": "NameError",
     "evalue": "name 'swagger_client' is not defined",
     "output_type": "error",
     "traceback": [
      "\u001b[0;31m---------------------------------------------------------------------------\u001b[0m",
      "\u001b[0;31mNameError\u001b[0m                                 Traceback (most recent call last)",
      "\u001b[0;32m<ipython-input-16-ea4f43527b5c>\u001b[0m in \u001b[0;36m<module>\u001b[0;34m()\u001b[0m\n\u001b[0;32m----> 1\u001b[0;31m \u001b[0mconfiguration\u001b[0m \u001b[0;34m=\u001b[0m \u001b[0mswagger_client\u001b[0m\u001b[0;34m.\u001b[0m\u001b[0mConfiguration\u001b[0m\u001b[0;34m(\u001b[0m\u001b[0;34m)\u001b[0m\u001b[0;34m\u001b[0m\u001b[0;34m\u001b[0m\u001b[0m\n\u001b[0m\u001b[1;32m      2\u001b[0m \u001b[0mconfiguration\u001b[0m\u001b[0;34m.\u001b[0m\u001b[0maccess_token\u001b[0m \u001b[0;34m=\u001b[0m \u001b[0mresponse\u001b[0m\u001b[0;34m[\u001b[0m\u001b[0;34m'access_token'\u001b[0m\u001b[0;34m]\u001b[0m\u001b[0;34m\u001b[0m\u001b[0;34m\u001b[0m\u001b[0m\n\u001b[1;32m      3\u001b[0m \u001b[0;34m\u001b[0m\u001b[0m\n\u001b[1;32m      4\u001b[0m \u001b[0;31m# create an instance of the API class\u001b[0m\u001b[0;34m\u001b[0m\u001b[0;34m\u001b[0m\u001b[0;34m\u001b[0m\u001b[0m\n\u001b[1;32m      5\u001b[0m \u001b[0mapi_instance\u001b[0m \u001b[0;34m=\u001b[0m \u001b[0mswagger_client\u001b[0m\u001b[0;34m.\u001b[0m\u001b[0mActivitiesApi\u001b[0m\u001b[0;34m(\u001b[0m\u001b[0mswagger_client\u001b[0m\u001b[0;34m.\u001b[0m\u001b[0mApiClient\u001b[0m\u001b[0;34m(\u001b[0m\u001b[0mconfiguration\u001b[0m\u001b[0;34m)\u001b[0m\u001b[0;34m)\u001b[0m\u001b[0;34m\u001b[0m\u001b[0;34m\u001b[0m\u001b[0m\n",
      "\u001b[0;31mNameError\u001b[0m: name 'swagger_client' is not defined"
     ]
    }
   ],
   "source": [
    "configuration = swagger_client.Configuration()\n",
    "configuration.access_token = response['access_token']\n",
    "\n",
    "# create an instance of the API class\n",
    "api_instance = swagger_client.ActivitiesApi(swagger_client.ApiClient(configuration))\n",
    "\n",
    "try:\n",
    "    # Get Authenticated Athlete\n",
    "    api_response = api_instance.get_logged_in_athlete_activities(after=timestamp, per_page=30,page=2)\n",
    "    pprint(api_response)\n",
    "except ApiException as e:\n",
    "    print(\"Exception when calling AthletesApi->get_logged_in_athlete: %s\\n\" % e)"
   ]
  },
  {
   "cell_type": "code",
   "execution_count": 63,
   "metadata": {
    "collapsed": true
   },
   "outputs": [],
   "source": [
    "pd.options.display.max_columns=100"
   ]
  },
  {
   "cell_type": "code",
   "execution_count": 62,
   "metadata": {},
   "outputs": [
    {
     "data": {
      "text/plain": [
       "30"
      ]
     },
     "execution_count": 62,
     "metadata": {},
     "output_type": "execute_result"
    }
   ],
   "source": [
    "len(api_response)"
   ]
  },
  {
   "cell_type": "code",
   "execution_count": 58,
   "metadata": {
    "collapsed": true
   },
   "outputs": [],
   "source": [
    "len(api_response)\n",
    "type(api_response[len(api_response)-1])\n",
    "example=list(api_response[150].to_dict().keys())\n",
    "example=[x for x in example if x not in ['map','athlete','start_latlng','end_latlng']]\n",
    "dicts={}\n",
    "for n in range(len(api_response)):\n",
    "    d=api_response[n].to_dict()\n",
    "    new_dict={variable:d[variable] for variable in example}\n",
    "    dicts[n]=new_dict"
   ]
  },
  {
   "cell_type": "code",
   "execution_count": 60,
   "metadata": {},
   "outputs": [
    {
     "data": {
      "text/plain": [
       "list"
      ]
     },
     "execution_count": 60,
     "metadata": {},
     "output_type": "execute_result"
    }
   ],
   "source": [
    "type(api_response)"
   ]
  },
  {
   "cell_type": "code",
   "execution_count": 69,
   "metadata": {
    "collapsed": true
   },
   "outputs": [],
   "source": [
    "index=list(dicts.keys())\n",
    "all_activities=pd.DataFrame([dicts[key] for key in index],index=index)\n",
    "all_activities.to_csv('../Data/my_actvities.csv',index=False)"
   ]
  },
  {
   "cell_type": "code",
   "execution_count": 52,
   "metadata": {},
   "outputs": [
    {
     "ename": "NameError",
     "evalue": "name 'api_response' is not defined",
     "output_type": "error",
     "traceback": [
      "\u001b[0;31m---------------------------------------------------------------------------\u001b[0m",
      "\u001b[0;31mNameError\u001b[0m                                 Traceback (most recent call last)",
      "\u001b[0;32m<ipython-input-52-031ab8fc296d>\u001b[0m in \u001b[0;36m<module>\u001b[0;34m()\u001b[0m\n\u001b[0;32m----> 1\u001b[0;31m \u001b[0mapi_response\u001b[0m\u001b[0;34m\u001b[0m\u001b[0;34m\u001b[0m\u001b[0m\n\u001b[0m",
      "\u001b[0;31mNameError\u001b[0m: name 'api_response' is not defined"
     ]
    }
   ],
   "source": [
    "api_response"
   ]
  },
  {
   "cell_type": "code",
   "execution_count": 18,
   "metadata": {
    "collapsed": true
   },
   "outputs": [],
   "source": [
    "import requests\n",
    "import pandas as pd"
   ]
  },
  {
   "cell_type": "code",
   "execution_count": 19,
   "metadata": {},
   "outputs": [
    {
     "data": {
      "text/plain": [
       "Run       133\n",
       "Ride       38\n",
       "Swim       27\n",
       "Rowing      1\n",
       "Walk        1\n",
       "Name: type, dtype: int64"
      ]
     },
     "execution_count": 19,
     "metadata": {},
     "output_type": "execute_result"
    }
   ],
   "source": [
    "all_activities.type.value_counts()"
   ]
  },
  {
   "cell_type": "markdown",
   "metadata": {},
   "source": [
    "##### Steps\n",
    "1. Pull Whoop Data - labels should be red, yellow, green\n",
    "2. Look at how much data i have (split off into activity types)\n",
    "3. Brainstorm features - spend a lot of time on this\n",
    "    a. Time distribution of strain and recovery\n",
    "    b. time since last workout\n",
    "    c. speed * distance\n",
    "    d. be creative!\n",
    "4. Create observation level data"
   ]
  },
  {
   "cell_type": "markdown",
   "metadata": {},
   "source": [
    "##### Backlog\n",
    "1. Build model\n",
    "2. Automatically pull most recent data using AWS"
   ]
  },
  {
   "cell_type": "code",
   "execution_count": 187,
   "metadata": {
    "collapsed": true
   },
   "outputs": [],
   "source": [
    "w='https://app.whoop.com/login'"
   ]
  },
  {
   "cell_type": "code",
   "execution_count": 200,
   "metadata": {
    "collapsed": true
   },
   "outputs": [],
   "source": [
    "browser=webdriver.Chrome('/usr/local/bin/chromedriver')\n",
    "browser.get(w)"
   ]
  },
  {
   "cell_type": "code",
   "execution_count": 201,
   "metadata": {
    "collapsed": true
   },
   "outputs": [],
   "source": [
    "username=browser.find_element_by_name('username')\n",
    "password=browser.find_element_by_name('password')\n",
    "username.send_keys(config['whoop']['username'])\n",
    "password.send_keys(config['whoop']['pass'])\n",
    "submit=browser.find_element_by_name('form')\n",
    "submit.click()"
   ]
  },
  {
   "cell_type": "code",
   "execution_count": 93,
   "metadata": {
    "collapsed": true
   },
   "outputs": [],
   "source": [
    "strain_click=browser.find_elements_by_class_name('score')[0]\n",
    "strain_click.click()"
   ]
  },
  {
   "cell_type": "code",
   "execution_count": 23,
   "metadata": {},
   "outputs": [
    {
     "data": {
      "text/plain": [
       "'16.2'"
      ]
     },
     "execution_count": 23,
     "metadata": {},
     "output_type": "execute_result"
    }
   ],
   "source": [
    "strain_amt=browser.find_element_by_class_name(\"workout-strain\")\n",
    "strain_amt.get_attribute('innerHTML')\n",
    "strain_amt.find_element_by_tag_name(\"strong\").text"
   ]
  },
  {
   "cell_type": "code",
   "execution_count": 24,
   "metadata": {},
   "outputs": [
    {
     "data": {
      "text/plain": [
       "['Running', '16.2']"
      ]
     },
     "execution_count": 24,
     "metadata": {},
     "output_type": "execute_result"
    }
   ],
   "source": [
    "buttons=browser.find_elements_by_tag_name('button')\n",
    "#[x for x in [span.find_elements_by_tag_name('span')  \n",
    "[x.text for item in [x for x in [span.find_elements_by_tag_name('span') for span in [b for b in buttons if b.get_attribute(\"ng-click\")==\"click($event, activity.id)\"]]] for x in item]\n"
   ]
  },
  {
   "cell_type": "code",
   "execution_count": 25,
   "metadata": {},
   "outputs": [
    {
     "name": "stdout",
     "output_type": "stream",
     "text": [
      "nothing <selenium.webdriver.remote.webelement.WebElement (session=\"08fde42d8d6815291fceb7d2092c9f08\", element=\"0.7561134548339705-10\")>\n",
      "nothing <selenium.webdriver.remote.webelement.WebElement (session=\"08fde42d8d6815291fceb7d2092c9f08\", element=\"0.7561134548339705-11\")>\n",
      "['Running', '16.2'] <selenium.webdriver.remote.webelement.WebElement (session=\"08fde42d8d6815291fceb7d2092c9f08\", element=\"0.7561134548339705-12\")>\n",
      "nothing <selenium.webdriver.remote.webelement.WebElement (session=\"08fde42d8d6815291fceb7d2092c9f08\", element=\"0.7561134548339705-13\")>\n",
      "nothing <selenium.webdriver.remote.webelement.WebElement (session=\"08fde42d8d6815291fceb7d2092c9f08\", element=\"0.7561134548339705-14\")>\n",
      "nothing <selenium.webdriver.remote.webelement.WebElement (session=\"08fde42d8d6815291fceb7d2092c9f08\", element=\"0.7561134548339705-15\")>\n",
      "nothing <selenium.webdriver.remote.webelement.WebElement (session=\"08fde42d8d6815291fceb7d2092c9f08\", element=\"0.7561134548339705-16\")>\n",
      "nothing <selenium.webdriver.remote.webelement.WebElement (session=\"08fde42d8d6815291fceb7d2092c9f08\", element=\"0.7561134548339705-17\")>\n",
      "nothing <selenium.webdriver.remote.webelement.WebElement (session=\"08fde42d8d6815291fceb7d2092c9f08\", element=\"0.7561134548339705-18\")>\n",
      "nothing <selenium.webdriver.remote.webelement.WebElement (session=\"08fde42d8d6815291fceb7d2092c9f08\", element=\"0.7561134548339705-19\")>\n",
      "nothing <selenium.webdriver.remote.webelement.WebElement (session=\"08fde42d8d6815291fceb7d2092c9f08\", element=\"0.7561134548339705-20\")>\n",
      "nothing <selenium.webdriver.remote.webelement.WebElement (session=\"08fde42d8d6815291fceb7d2092c9f08\", element=\"0.7561134548339705-21\")>\n",
      "nothing <selenium.webdriver.remote.webelement.WebElement (session=\"08fde42d8d6815291fceb7d2092c9f08\", element=\"0.7561134548339705-22\")>\n",
      "nothing <selenium.webdriver.remote.webelement.WebElement (session=\"08fde42d8d6815291fceb7d2092c9f08\", element=\"0.7561134548339705-23\")>\n",
      "nothing <selenium.webdriver.remote.webelement.WebElement (session=\"08fde42d8d6815291fceb7d2092c9f08\", element=\"0.7561134548339705-24\")>\n",
      "nothing <selenium.webdriver.remote.webelement.WebElement (session=\"08fde42d8d6815291fceb7d2092c9f08\", element=\"0.7561134548339705-25\")>\n"
     ]
    }
   ],
   "source": [
    "\n",
    "\n",
    "for x in buttons:\n",
    "    if x.get_attribute(\"ng-click\")==\"click($event, activity.id)\":\n",
    "        spans=x.find_elements_by_tag_name(\"span\")\n",
    "        print([x.text for x in spans], x)\n",
    "    else:\n",
    "        print(\"nothing\", x)"
   ]
  },
  {
   "cell_type": "code",
   "execution_count": 26,
   "metadata": {},
   "outputs": [
    {
     "data": {
      "text/plain": [
       "['null', 'null', 'null', 'null', 'null', 'null']"
      ]
     },
     "execution_count": 26,
     "metadata": {},
     "output_type": "execute_result"
    }
   ],
   "source": [
    "new_strain=[\"null\"]*6\n",
    "new_strain"
   ]
  },
  {
   "cell_type": "code",
   "execution_count": 142,
   "metadata": {
    "collapsed": true,
    "scrolled": true
   },
   "outputs": [],
   "source": [
    "def go_to_strain():\n",
    "    work=0\n",
    "    try:\n",
    "        strain_click=browser.find_elements_by_class_name('score')[0]\n",
    "        strain_click.click()\n",
    "        work=1\n",
    "    except StaleElementReferenceException:\n",
    "        work=0"
   ]
  },
  {
   "cell_type": "code",
   "execution_count": 143,
   "metadata": {
    "collapsed": true
   },
   "outputs": [],
   "source": [
    "## goal function is tos look for the activity - if it doesn't exist, then look for \"no activity\" \n",
    "## store the result, if the old activity strain is the same as the new\n",
    "\n",
    "def get_activity_strain(old_strain,old_date):\n",
    "    work=0\n",
    "    while work==0:\n",
    "        try:\n",
    "            buttons=browser.find_elements_by_tag_name('button')\n",
    "            new_strain=[x.text for item in [x for x in [span.find_elements_by_tag_name('span') for span in [b for b in buttons if b.get_attribute(\"ng-click\")==\"click($event, activity.id)\"]]] for x in item]\n",
    "            if len(new_strain)==0:\n",
    "                new_strains=[\"null\"]*6\n",
    "            elif len(new_strain)<7:\n",
    "                new_strains=new_strain+['null']*(6-len(new_strain))\n",
    "            else:\n",
    "                new_strains=new_strain\n",
    "            if old_strain!=new_strains:\n",
    "                return new_strains\n",
    "                work=1\n",
    "            elif old_date!=get_date(old_date):\n",
    "                return new_strains\n",
    "                work=1\n",
    "        except StaleElementReferencException:\n",
    "            work=0"
   ]
  },
  {
   "cell_type": "code",
   "execution_count": 184,
   "metadata": {
    "collapsed": true
   },
   "outputs": [],
   "source": [
    "def get_date(old_date):\n",
    "    work=0\n",
    "    while work==0:\n",
    "        try:\n",
    "            #new_day=browser.find_element_by_class_name('datepicker--label')\n",
    "            new_day=WebDriverWait(browser, 3).until(EC.presence_of_element_located((By.CLASS_NAME, 'datepicker--label')))\n",
    "            new_date=new_day.text\n",
    "            if new_date!=old_date:\n",
    "                return [new_date]\n",
    "                work=1\n",
    "        except StaleElementReferenceException:\n",
    "            work=0"
   ]
  },
  {
   "cell_type": "code",
   "execution_count": 181,
   "metadata": {
    "collapsed": true
   },
   "outputs": [],
   "source": [
    "def get_scores(old_scores):\n",
    "    work=0\n",
    "#     new_scores=browser.find_elements_by_class_name('score')\n",
    "#     new_score_list=[x.text for x in new_scores]\n",
    "#     if new_score_list!=old_scores:\n",
    "#         return new_score_list\n",
    "#     else:\n",
    "#         return ['it','didn','t','work','bud']\n",
    "    while work==0:\n",
    "        try:\n",
    "            new_scores=browser.find_elements_by_class_name('score')\n",
    "            new_score_list=[x.text for x in new_scores]\n",
    "            if new_score_list!=old_scores:\n",
    "                return new_score_list\n",
    "                work=1\n",
    "            else:\n",
    "                work=0\n",
    "        except StaleElementReferenceException:\n",
    "            work=0\n",
    "            "
   ]
  },
  {
   "cell_type": "code",
   "execution_count": 146,
   "metadata": {
    "collapsed": true
   },
   "outputs": [],
   "source": [
    "def get_button():\n",
    "    work=0\n",
    "    while work==0:\n",
    "        try: \n",
    "            back=browser.find_element_by_class_name('datepicker--prev')\n",
    "            back.click()\n",
    "            work=1\n",
    "        except StaleElementReferenceException:\n",
    "            work=0"
   ]
  },
  {
   "cell_type": "code",
   "execution_count": 82,
   "metadata": {},
   "outputs": [
    {
     "data": {
      "text/plain": [
       "'https://app.whoop.com/athlete/24590/strain/1d/2019-03-29/16266225'"
      ]
     },
     "execution_count": 82,
     "metadata": {},
     "output_type": "execute_result"
    }
   ],
   "source": [
    "browser.current_url"
   ]
  },
  {
   "cell_type": "code",
   "execution_count": 73,
   "metadata": {
    "collapsed": true
   },
   "outputs": [],
   "source": [
    "browser.get('https://app.whoop.com/athlete/24590/strain/1d/2019-03-29')"
   ]
  },
  {
   "cell_type": "code",
   "execution_count": 80,
   "metadata": {},
   "outputs": [
    {
     "data": {
      "text/plain": [
       "'2019-03-31'"
      ]
     },
     "execution_count": 80,
     "metadata": {},
     "output_type": "execute_result"
    }
   ],
   "source": [
    "tod=datetime.datetime.today()-datetime.timedelta(1)\n",
    "tod.strftime('%Y-%m-%d')"
   ]
  },
  {
   "cell_type": "code",
   "execution_count": 38,
   "metadata": {},
   "outputs": [
    {
     "data": {
      "text/plain": [
       "False"
      ]
     },
     "execution_count": 38,
     "metadata": {},
     "output_type": "execute_result"
    }
   ],
   "source": [
    "num=1\n",
    "(get_date('today')[0].strip().lower()!='wed, may 30th' and num<300)"
   ]
  },
  {
   "cell_type": "code",
   "execution_count": 167,
   "metadata": {},
   "outputs": [
    {
     "name": "stdout",
     "output_type": "stream",
     "text": [
      "here\n",
      "here\n",
      "here\n",
      "here\n",
      "here\n",
      "here\n",
      "here\n",
      "here\n",
      "here\n",
      "here\n",
      "here\n",
      "here\n"
     ]
    }
   ],
   "source": [
    "whoop=pd.DataFrame(columns=['strain','recovery','sleep_perf','sleep','rec_sleep','date', \n",
    "                            'activity_1','activity_1_score','activity_2','activity_2_score',\n",
    "                           'activity_3','activity_3_score'])\n",
    "num=0\n",
    "old_date='today'\n",
    "old_scores=['none']\n",
    "old_strain=['null']\n",
    "go_to_strain()\n",
    "new_date=get_date(old_date)\n",
    "while (new_date[0].strip().lower()!='wed, mar 27th' and num<20):\n",
    "    new_date=get_date(old_date)\n",
    "    new_score=get_scores(old_scores)\n",
    "    strains=get_activity_strain(old_strain,old_date)\n",
    "    old_date=new_date\n",
    "    old_scores=new_score\n",
    "    old_strain=strains\n",
    "    whoop.loc[len(whoop)]=new_score[:5]+new_date+strains\n",
    "    get_button()\n",
    "    num+=1"
   ]
  },
  {
   "cell_type": "code",
   "execution_count": 47,
   "metadata": {},
   "outputs": [
    {
     "data": {
      "text/html": [
       "<div>\n",
       "<style scoped>\n",
       "    .dataframe tbody tr th:only-of-type {\n",
       "        vertical-align: middle;\n",
       "    }\n",
       "\n",
       "    .dataframe tbody tr th {\n",
       "        vertical-align: top;\n",
       "    }\n",
       "\n",
       "    .dataframe thead th {\n",
       "        text-align: right;\n",
       "    }\n",
       "</style>\n",
       "<table border=\"1\" class=\"dataframe\">\n",
       "  <thead>\n",
       "    <tr style=\"text-align: right;\">\n",
       "      <th></th>\n",
       "      <th>strain</th>\n",
       "      <th>recovery</th>\n",
       "      <th>sleep_perf</th>\n",
       "      <th>sleep</th>\n",
       "      <th>rec_sleep</th>\n",
       "      <th>date</th>\n",
       "      <th>activity_1</th>\n",
       "      <th>activity_1_score</th>\n",
       "      <th>activity_2</th>\n",
       "      <th>activity_2_score</th>\n",
       "      <th>activity_3</th>\n",
       "      <th>activity_3_score</th>\n",
       "    </tr>\n",
       "  </thead>\n",
       "  <tbody>\n",
       "    <tr>\n",
       "      <th>0</th>\n",
       "      <td>18.2</td>\n",
       "      <td>63%</td>\n",
       "      <td>100%</td>\n",
       "      <td>9:23</td>\n",
       "      <td>9:11</td>\n",
       "      <td>Today, Mar 24th</td>\n",
       "      <td>Running</td>\n",
       "      <td>15.6</td>\n",
       "      <td>Running</td>\n",
       "      <td>9.8</td>\n",
       "      <td>null</td>\n",
       "      <td>null</td>\n",
       "    </tr>\n",
       "    <tr>\n",
       "      <th>1</th>\n",
       "      <td>8.6</td>\n",
       "      <td>27%</td>\n",
       "      <td>66%</td>\n",
       "      <td>6:39</td>\n",
       "      <td>10:07</td>\n",
       "      <td>Sat, Mar 23rd</td>\n",
       "      <td>null</td>\n",
       "      <td>null</td>\n",
       "      <td>null</td>\n",
       "      <td>null</td>\n",
       "      <td>null</td>\n",
       "      <td>null</td>\n",
       "    </tr>\n",
       "    <tr>\n",
       "      <th>2</th>\n",
       "      <td>19.5</td>\n",
       "      <td>62%</td>\n",
       "      <td>75%</td>\n",
       "      <td>7:23</td>\n",
       "      <td>9:47</td>\n",
       "      <td>Fri, Mar 22nd</td>\n",
       "      <td>Running</td>\n",
       "      <td>18.6</td>\n",
       "      <td>null</td>\n",
       "      <td>null</td>\n",
       "      <td>null</td>\n",
       "      <td>null</td>\n",
       "    </tr>\n",
       "    <tr>\n",
       "      <th>3</th>\n",
       "      <td>18.0</td>\n",
       "      <td>30%</td>\n",
       "      <td>78%</td>\n",
       "      <td>7:16</td>\n",
       "      <td>9:18</td>\n",
       "      <td>Thu, Mar 21st</td>\n",
       "      <td>Running</td>\n",
       "      <td>17.2</td>\n",
       "      <td>null</td>\n",
       "      <td>null</td>\n",
       "      <td>null</td>\n",
       "      <td>null</td>\n",
       "    </tr>\n",
       "    <tr>\n",
       "      <th>4</th>\n",
       "      <td>12.0</td>\n",
       "      <td>25%</td>\n",
       "      <td>75%</td>\n",
       "      <td>6:56</td>\n",
       "      <td>9:16</td>\n",
       "      <td>Wed, Mar 20th</td>\n",
       "      <td>null</td>\n",
       "      <td>null</td>\n",
       "      <td>null</td>\n",
       "      <td>null</td>\n",
       "      <td>null</td>\n",
       "      <td>null</td>\n",
       "    </tr>\n",
       "    <tr>\n",
       "      <th>5</th>\n",
       "      <td>15.8</td>\n",
       "      <td>21%</td>\n",
       "      <td>83%</td>\n",
       "      <td>6:56</td>\n",
       "      <td>8:23</td>\n",
       "      <td>Tue, Mar 19th</td>\n",
       "      <td>Running</td>\n",
       "      <td>14.2</td>\n",
       "      <td>null</td>\n",
       "      <td>null</td>\n",
       "      <td>null</td>\n",
       "      <td>null</td>\n",
       "    </tr>\n",
       "    <tr>\n",
       "      <th>6</th>\n",
       "      <td>15.4</td>\n",
       "      <td>24%</td>\n",
       "      <td>100%</td>\n",
       "      <td>9:16</td>\n",
       "      <td>8:12</td>\n",
       "      <td>Mon, Mar 18th</td>\n",
       "      <td>Hiking/Rucking</td>\n",
       "      <td>12.2</td>\n",
       "      <td>null</td>\n",
       "      <td>null</td>\n",
       "      <td>null</td>\n",
       "      <td>null</td>\n",
       "    </tr>\n",
       "    <tr>\n",
       "      <th>7</th>\n",
       "      <td>14.5</td>\n",
       "      <td>17%</td>\n",
       "      <td>46%</td>\n",
       "      <td>3:28</td>\n",
       "      <td>7:35</td>\n",
       "      <td>Sun, Mar 17th</td>\n",
       "      <td>Running</td>\n",
       "      <td>12.1</td>\n",
       "      <td>null</td>\n",
       "      <td>null</td>\n",
       "      <td>null</td>\n",
       "      <td>null</td>\n",
       "    </tr>\n",
       "    <tr>\n",
       "      <th>8</th>\n",
       "      <td>15.3</td>\n",
       "      <td>13%</td>\n",
       "      <td>71%</td>\n",
       "      <td>7:10</td>\n",
       "      <td>10:08</td>\n",
       "      <td>Sat, Mar 16th</td>\n",
       "      <td>Running</td>\n",
       "      <td>12.4</td>\n",
       "      <td>null</td>\n",
       "      <td>null</td>\n",
       "      <td>null</td>\n",
       "      <td>null</td>\n",
       "    </tr>\n",
       "    <tr>\n",
       "      <th>9</th>\n",
       "      <td>18.3</td>\n",
       "      <td>72%</td>\n",
       "      <td>64%</td>\n",
       "      <td>6:00</td>\n",
       "      <td>9:21</td>\n",
       "      <td>Fri, Mar 15th</td>\n",
       "      <td>Running</td>\n",
       "      <td>17.6</td>\n",
       "      <td>null</td>\n",
       "      <td>null</td>\n",
       "      <td>null</td>\n",
       "      <td>null</td>\n",
       "    </tr>\n",
       "    <tr>\n",
       "      <th>10</th>\n",
       "      <td>12.6</td>\n",
       "      <td>13%</td>\n",
       "      <td>75%</td>\n",
       "      <td>8:00</td>\n",
       "      <td>10:37</td>\n",
       "      <td>Thu, Mar 14th</td>\n",
       "      <td>null</td>\n",
       "      <td>null</td>\n",
       "      <td>null</td>\n",
       "      <td>null</td>\n",
       "      <td>null</td>\n",
       "      <td>null</td>\n",
       "    </tr>\n",
       "    <tr>\n",
       "      <th>11</th>\n",
       "      <td>18.6</td>\n",
       "      <td>45%</td>\n",
       "      <td>52%</td>\n",
       "      <td>5:03</td>\n",
       "      <td>9:38</td>\n",
       "      <td>Wed, Mar 13th</td>\n",
       "      <td>Running</td>\n",
       "      <td>17.3</td>\n",
       "      <td>null</td>\n",
       "      <td>null</td>\n",
       "      <td>null</td>\n",
       "      <td>null</td>\n",
       "    </tr>\n",
       "    <tr>\n",
       "      <th>12</th>\n",
       "      <td>18.0</td>\n",
       "      <td>72%</td>\n",
       "      <td>81%</td>\n",
       "      <td>7:24</td>\n",
       "      <td>9:11</td>\n",
       "      <td>Tue, Mar 12th</td>\n",
       "      <td>Running</td>\n",
       "      <td>14.9</td>\n",
       "      <td>null</td>\n",
       "      <td>null</td>\n",
       "      <td>null</td>\n",
       "      <td>null</td>\n",
       "    </tr>\n",
       "    <tr>\n",
       "      <th>13</th>\n",
       "      <td>17.5</td>\n",
       "      <td>92%</td>\n",
       "      <td>89%</td>\n",
       "      <td>8:56</td>\n",
       "      <td>10:00</td>\n",
       "      <td>Mon, Mar 11th</td>\n",
       "      <td>Running</td>\n",
       "      <td>15.2</td>\n",
       "      <td>null</td>\n",
       "      <td>null</td>\n",
       "      <td>null</td>\n",
       "      <td>null</td>\n",
       "    </tr>\n",
       "    <tr>\n",
       "      <th>14</th>\n",
       "      <td>12.2</td>\n",
       "      <td>17%</td>\n",
       "      <td>50%</td>\n",
       "      <td>4:48</td>\n",
       "      <td>9:42</td>\n",
       "      <td>Sun, Mar 10th</td>\n",
       "      <td>null</td>\n",
       "      <td>null</td>\n",
       "      <td>null</td>\n",
       "      <td>null</td>\n",
       "      <td>null</td>\n",
       "      <td>null</td>\n",
       "    </tr>\n",
       "    <tr>\n",
       "      <th>15</th>\n",
       "      <td>17.7</td>\n",
       "      <td>58%</td>\n",
       "      <td>73%</td>\n",
       "      <td>7:08</td>\n",
       "      <td>9:48</td>\n",
       "      <td>Sat, Mar 9th</td>\n",
       "      <td>Running</td>\n",
       "      <td>16.1</td>\n",
       "      <td>null</td>\n",
       "      <td>null</td>\n",
       "      <td>null</td>\n",
       "      <td>null</td>\n",
       "    </tr>\n",
       "    <tr>\n",
       "      <th>16</th>\n",
       "      <td>16.6</td>\n",
       "      <td>65%</td>\n",
       "      <td>67%</td>\n",
       "      <td>6:25</td>\n",
       "      <td>9:37</td>\n",
       "      <td>Fri, Mar 8th</td>\n",
       "      <td>Running</td>\n",
       "      <td>14.0</td>\n",
       "      <td>null</td>\n",
       "      <td>null</td>\n",
       "      <td>null</td>\n",
       "      <td>null</td>\n",
       "    </tr>\n",
       "    <tr>\n",
       "      <th>17</th>\n",
       "      <td>17.3</td>\n",
       "      <td>69%</td>\n",
       "      <td>74%</td>\n",
       "      <td>6:50</td>\n",
       "      <td>9:18</td>\n",
       "      <td>Thu, Mar 7th</td>\n",
       "      <td>Running</td>\n",
       "      <td>15.2</td>\n",
       "      <td>null</td>\n",
       "      <td>null</td>\n",
       "      <td>null</td>\n",
       "      <td>null</td>\n",
       "    </tr>\n",
       "    <tr>\n",
       "      <th>18</th>\n",
       "      <td>12.5</td>\n",
       "      <td>79%</td>\n",
       "      <td>69%</td>\n",
       "      <td>6:38</td>\n",
       "      <td>9:40</td>\n",
       "      <td>Wed, Mar 6th</td>\n",
       "      <td>Weightlifting</td>\n",
       "      <td>6.6</td>\n",
       "      <td>null</td>\n",
       "      <td>null</td>\n",
       "      <td>null</td>\n",
       "      <td>null</td>\n",
       "    </tr>\n",
       "    <tr>\n",
       "      <th>19</th>\n",
       "      <td>15.1</td>\n",
       "      <td>81%</td>\n",
       "      <td>66%</td>\n",
       "      <td>5:32</td>\n",
       "      <td>8:26</td>\n",
       "      <td>Tue, Mar 5th</td>\n",
       "      <td>Running</td>\n",
       "      <td>12.0</td>\n",
       "      <td>null</td>\n",
       "      <td>null</td>\n",
       "      <td>null</td>\n",
       "      <td>null</td>\n",
       "    </tr>\n",
       "    <tr>\n",
       "      <th>20</th>\n",
       "      <td>15.9</td>\n",
       "      <td>80%</td>\n",
       "      <td>100%</td>\n",
       "      <td>7:45</td>\n",
       "      <td>7:11</td>\n",
       "      <td>Mon, Mar 4th</td>\n",
       "      <td>Running</td>\n",
       "      <td>14.2</td>\n",
       "      <td>null</td>\n",
       "      <td>null</td>\n",
       "      <td>null</td>\n",
       "      <td>null</td>\n",
       "    </tr>\n",
       "    <tr>\n",
       "      <th>21</th>\n",
       "      <td>14.1</td>\n",
       "      <td>27%</td>\n",
       "      <td>86%</td>\n",
       "      <td>7:37</td>\n",
       "      <td>8:55</td>\n",
       "      <td>Sun, Mar 3rd</td>\n",
       "      <td>Activity</td>\n",
       "      <td>9.4</td>\n",
       "      <td>null</td>\n",
       "      <td>null</td>\n",
       "      <td>null</td>\n",
       "      <td>null</td>\n",
       "    </tr>\n",
       "    <tr>\n",
       "      <th>22</th>\n",
       "      <td>20.4</td>\n",
       "      <td>34%</td>\n",
       "      <td>90%</td>\n",
       "      <td>9:02</td>\n",
       "      <td>10:05</td>\n",
       "      <td>Sat, Mar 2nd</td>\n",
       "      <td>Running</td>\n",
       "      <td>19.6</td>\n",
       "      <td>null</td>\n",
       "      <td>null</td>\n",
       "      <td>null</td>\n",
       "      <td>null</td>\n",
       "    </tr>\n",
       "    <tr>\n",
       "      <th>23</th>\n",
       "      <td>14.7</td>\n",
       "      <td>85%</td>\n",
       "      <td>54%</td>\n",
       "      <td>5:12</td>\n",
       "      <td>9:40</td>\n",
       "      <td>Fri, Mar 1st</td>\n",
       "      <td>Running</td>\n",
       "      <td>11.6</td>\n",
       "      <td>null</td>\n",
       "      <td>null</td>\n",
       "      <td>null</td>\n",
       "      <td>null</td>\n",
       "    </tr>\n",
       "    <tr>\n",
       "      <th>24</th>\n",
       "      <td>15.8</td>\n",
       "      <td>32%</td>\n",
       "      <td>68%</td>\n",
       "      <td>6:08</td>\n",
       "      <td>9:00</td>\n",
       "      <td>Thu, Feb 28th</td>\n",
       "      <td>Running</td>\n",
       "      <td>11.2</td>\n",
       "      <td>null</td>\n",
       "      <td>null</td>\n",
       "      <td>null</td>\n",
       "      <td>null</td>\n",
       "    </tr>\n",
       "    <tr>\n",
       "      <th>25</th>\n",
       "      <td>15.1</td>\n",
       "      <td>37%</td>\n",
       "      <td>87%</td>\n",
       "      <td>7:56</td>\n",
       "      <td>9:10</td>\n",
       "      <td>Wed, Feb 27th</td>\n",
       "      <td>Running</td>\n",
       "      <td>12.5</td>\n",
       "      <td>null</td>\n",
       "      <td>null</td>\n",
       "      <td>null</td>\n",
       "      <td>null</td>\n",
       "    </tr>\n",
       "    <tr>\n",
       "      <th>26</th>\n",
       "      <td>12.2</td>\n",
       "      <td>31%</td>\n",
       "      <td>78%</td>\n",
       "      <td>7:50</td>\n",
       "      <td>10:04</td>\n",
       "      <td>Tue, Feb 26th</td>\n",
       "      <td>null</td>\n",
       "      <td>null</td>\n",
       "      <td>null</td>\n",
       "      <td>null</td>\n",
       "      <td>null</td>\n",
       "      <td>null</td>\n",
       "    </tr>\n",
       "    <tr>\n",
       "      <th>27</th>\n",
       "      <td>17.1</td>\n",
       "      <td>58%</td>\n",
       "      <td>62%</td>\n",
       "      <td>5:50</td>\n",
       "      <td>9:27</td>\n",
       "      <td>Mon, Feb 25th</td>\n",
       "      <td>Running</td>\n",
       "      <td>15.2</td>\n",
       "      <td>null</td>\n",
       "      <td>null</td>\n",
       "      <td>null</td>\n",
       "      <td>null</td>\n",
       "    </tr>\n",
       "    <tr>\n",
       "      <th>28</th>\n",
       "      <td>11.6</td>\n",
       "      <td>32%</td>\n",
       "      <td>63%</td>\n",
       "      <td>6:04</td>\n",
       "      <td>9:40</td>\n",
       "      <td>Sun, Feb 24th</td>\n",
       "      <td>null</td>\n",
       "      <td>null</td>\n",
       "      <td>null</td>\n",
       "      <td>null</td>\n",
       "      <td>null</td>\n",
       "      <td>null</td>\n",
       "    </tr>\n",
       "    <tr>\n",
       "      <th>29</th>\n",
       "      <td>16.6</td>\n",
       "      <td>21%</td>\n",
       "      <td>77%</td>\n",
       "      <td>8:11</td>\n",
       "      <td>10:40</td>\n",
       "      <td>Sat, Feb 23rd</td>\n",
       "      <td>Running</td>\n",
       "      <td>8.3</td>\n",
       "      <td>null</td>\n",
       "      <td>null</td>\n",
       "      <td>null</td>\n",
       "      <td>null</td>\n",
       "    </tr>\n",
       "    <tr>\n",
       "      <th>...</th>\n",
       "      <td>...</td>\n",
       "      <td>...</td>\n",
       "      <td>...</td>\n",
       "      <td>...</td>\n",
       "      <td>...</td>\n",
       "      <td>...</td>\n",
       "      <td>...</td>\n",
       "      <td>...</td>\n",
       "      <td>...</td>\n",
       "      <td>...</td>\n",
       "      <td>...</td>\n",
       "      <td>...</td>\n",
       "    </tr>\n",
       "    <tr>\n",
       "      <th>269</th>\n",
       "      <td>16.1</td>\n",
       "      <td>67%</td>\n",
       "      <td>61%</td>\n",
       "      <td>5:39</td>\n",
       "      <td>9:15</td>\n",
       "      <td>Thu, Jun 28th</td>\n",
       "      <td>Running</td>\n",
       "      <td>15.3</td>\n",
       "      <td>null</td>\n",
       "      <td>null</td>\n",
       "      <td>null</td>\n",
       "      <td>null</td>\n",
       "    </tr>\n",
       "    <tr>\n",
       "      <th>270</th>\n",
       "      <td>12.4</td>\n",
       "      <td>34%</td>\n",
       "      <td>77%</td>\n",
       "      <td>7:48</td>\n",
       "      <td>10:07</td>\n",
       "      <td>Wed, Jun 27th</td>\n",
       "      <td>Swimming</td>\n",
       "      <td>10.4</td>\n",
       "      <td>null</td>\n",
       "      <td>null</td>\n",
       "      <td>null</td>\n",
       "      <td>null</td>\n",
       "    </tr>\n",
       "    <tr>\n",
       "      <th>271</th>\n",
       "      <td>12.4</td>\n",
       "      <td>39%</td>\n",
       "      <td>48%</td>\n",
       "      <td>5:05</td>\n",
       "      <td>10:42</td>\n",
       "      <td>Tue, Jun 26th</td>\n",
       "      <td>Cycling</td>\n",
       "      <td>11.8</td>\n",
       "      <td>null</td>\n",
       "      <td>null</td>\n",
       "      <td>null</td>\n",
       "      <td>null</td>\n",
       "    </tr>\n",
       "    <tr>\n",
       "      <th>272</th>\n",
       "      <td>15.9</td>\n",
       "      <td>72%</td>\n",
       "      <td>42%</td>\n",
       "      <td>4:05</td>\n",
       "      <td>9:48</td>\n",
       "      <td>Mon, Jun 25th</td>\n",
       "      <td>Running</td>\n",
       "      <td>15.3</td>\n",
       "      <td>null</td>\n",
       "      <td>null</td>\n",
       "      <td>null</td>\n",
       "      <td>null</td>\n",
       "    </tr>\n",
       "    <tr>\n",
       "      <th>273</th>\n",
       "      <td>10.3</td>\n",
       "      <td>17%</td>\n",
       "      <td>63%</td>\n",
       "      <td>6:36</td>\n",
       "      <td>10:30</td>\n",
       "      <td>Sun, Jun 24th</td>\n",
       "      <td>Golf</td>\n",
       "      <td>7.2</td>\n",
       "      <td>null</td>\n",
       "      <td>null</td>\n",
       "      <td>null</td>\n",
       "      <td>null</td>\n",
       "    </tr>\n",
       "    <tr>\n",
       "      <th>274</th>\n",
       "      <td>20.5</td>\n",
       "      <td>27%</td>\n",
       "      <td>61%</td>\n",
       "      <td>6:01</td>\n",
       "      <td>9:56</td>\n",
       "      <td>Sat, Jun 23rd</td>\n",
       "      <td>Cycling</td>\n",
       "      <td>18.9</td>\n",
       "      <td>Running</td>\n",
       "      <td>12.7</td>\n",
       "      <td>null</td>\n",
       "      <td>null</td>\n",
       "    </tr>\n",
       "    <tr>\n",
       "      <th>275</th>\n",
       "      <td>14.6</td>\n",
       "      <td>89%</td>\n",
       "      <td>58%</td>\n",
       "      <td>6:00</td>\n",
       "      <td>10:27</td>\n",
       "      <td>Fri, Jun 22nd</td>\n",
       "      <td>Swimming</td>\n",
       "      <td>13.4</td>\n",
       "      <td>null</td>\n",
       "      <td>null</td>\n",
       "      <td>null</td>\n",
       "      <td>null</td>\n",
       "    </tr>\n",
       "    <tr>\n",
       "      <th>276</th>\n",
       "      <td>16.3</td>\n",
       "      <td>63%</td>\n",
       "      <td>50%</td>\n",
       "      <td>4:27</td>\n",
       "      <td>9:00</td>\n",
       "      <td>Thu, Jun 21st</td>\n",
       "      <td>Running</td>\n",
       "      <td>15.5</td>\n",
       "      <td>null</td>\n",
       "      <td>null</td>\n",
       "      <td>null</td>\n",
       "      <td>null</td>\n",
       "    </tr>\n",
       "    <tr>\n",
       "      <th>277</th>\n",
       "      <td>9.0</td>\n",
       "      <td>37%</td>\n",
       "      <td>78%</td>\n",
       "      <td>7:33</td>\n",
       "      <td>9:45</td>\n",
       "      <td>Wed, Jun 20th</td>\n",
       "      <td>null</td>\n",
       "      <td>null</td>\n",
       "      <td>null</td>\n",
       "      <td>null</td>\n",
       "      <td>null</td>\n",
       "      <td>null</td>\n",
       "    </tr>\n",
       "    <tr>\n",
       "      <th>278</th>\n",
       "      <td>15.4</td>\n",
       "      <td>35%</td>\n",
       "      <td>73%</td>\n",
       "      <td>7:14</td>\n",
       "      <td>9:55</td>\n",
       "      <td>Tue, Jun 19th</td>\n",
       "      <td>Cycling</td>\n",
       "      <td>14.7</td>\n",
       "      <td>null</td>\n",
       "      <td>null</td>\n",
       "      <td>null</td>\n",
       "      <td>null</td>\n",
       "    </tr>\n",
       "    <tr>\n",
       "      <th>279</th>\n",
       "      <td>16.3</td>\n",
       "      <td>89%</td>\n",
       "      <td>72%</td>\n",
       "      <td>7:11</td>\n",
       "      <td>9:57</td>\n",
       "      <td>Mon, Jun 18th</td>\n",
       "      <td>Running</td>\n",
       "      <td>15.2</td>\n",
       "      <td>null</td>\n",
       "      <td>null</td>\n",
       "      <td>null</td>\n",
       "      <td>null</td>\n",
       "    </tr>\n",
       "    <tr>\n",
       "      <th>280</th>\n",
       "      <td>6.4</td>\n",
       "      <td>19%</td>\n",
       "      <td>45%</td>\n",
       "      <td>4:22</td>\n",
       "      <td>9:49</td>\n",
       "      <td>Sun, Jun 17th</td>\n",
       "      <td>null</td>\n",
       "      <td>null</td>\n",
       "      <td>null</td>\n",
       "      <td>null</td>\n",
       "      <td>null</td>\n",
       "      <td>null</td>\n",
       "    </tr>\n",
       "    <tr>\n",
       "      <th>281</th>\n",
       "      <td>7.3</td>\n",
       "      <td>21%</td>\n",
       "      <td>49%</td>\n",
       "      <td>4:56</td>\n",
       "      <td>10:01</td>\n",
       "      <td>Sat, Jun 16th</td>\n",
       "      <td>null</td>\n",
       "      <td>null</td>\n",
       "      <td>null</td>\n",
       "      <td>null</td>\n",
       "      <td>null</td>\n",
       "      <td>null</td>\n",
       "    </tr>\n",
       "    <tr>\n",
       "      <th>282</th>\n",
       "      <td>16.3</td>\n",
       "      <td>43%</td>\n",
       "      <td>70%</td>\n",
       "      <td>6:43</td>\n",
       "      <td>9:34</td>\n",
       "      <td>Fri, Jun 15th</td>\n",
       "      <td>Cycling</td>\n",
       "      <td>14.7</td>\n",
       "      <td>null</td>\n",
       "      <td>null</td>\n",
       "      <td>null</td>\n",
       "      <td>null</td>\n",
       "    </tr>\n",
       "    <tr>\n",
       "      <th>283</th>\n",
       "      <td>16.0</td>\n",
       "      <td>26%</td>\n",
       "      <td>78%</td>\n",
       "      <td>7:20</td>\n",
       "      <td>9:27</td>\n",
       "      <td>Thu, Jun 14th</td>\n",
       "      <td>Running</td>\n",
       "      <td>14.8</td>\n",
       "      <td>null</td>\n",
       "      <td>null</td>\n",
       "      <td>null</td>\n",
       "      <td>null</td>\n",
       "    </tr>\n",
       "    <tr>\n",
       "      <th>284</th>\n",
       "      <td>7.6</td>\n",
       "      <td>46%</td>\n",
       "      <td>59%</td>\n",
       "      <td>5:40</td>\n",
       "      <td>9:40</td>\n",
       "      <td>Wed, Jun 13th</td>\n",
       "      <td>null</td>\n",
       "      <td>null</td>\n",
       "      <td>null</td>\n",
       "      <td>null</td>\n",
       "      <td>null</td>\n",
       "      <td>null</td>\n",
       "    </tr>\n",
       "    <tr>\n",
       "      <th>285</th>\n",
       "      <td>8.0</td>\n",
       "      <td>60%</td>\n",
       "      <td>64%</td>\n",
       "      <td>6:18</td>\n",
       "      <td>9:48</td>\n",
       "      <td>Tue, Jun 12th</td>\n",
       "      <td>null</td>\n",
       "      <td>null</td>\n",
       "      <td>null</td>\n",
       "      <td>null</td>\n",
       "      <td>null</td>\n",
       "      <td>null</td>\n",
       "    </tr>\n",
       "    <tr>\n",
       "      <th>286</th>\n",
       "      <td>14.3</td>\n",
       "      <td>31%</td>\n",
       "      <td>61%</td>\n",
       "      <td>5:32</td>\n",
       "      <td>9:05</td>\n",
       "      <td>Mon, Jun 11th</td>\n",
       "      <td>Activity</td>\n",
       "      <td>13.5</td>\n",
       "      <td>null</td>\n",
       "      <td>null</td>\n",
       "      <td>null</td>\n",
       "      <td>null</td>\n",
       "    </tr>\n",
       "    <tr>\n",
       "      <th>287</th>\n",
       "      <td>11.4</td>\n",
       "      <td>25%</td>\n",
       "      <td>79%</td>\n",
       "      <td>7:57</td>\n",
       "      <td>10:07</td>\n",
       "      <td>Sun, Jun 10th</td>\n",
       "      <td>null</td>\n",
       "      <td>null</td>\n",
       "      <td>null</td>\n",
       "      <td>null</td>\n",
       "      <td>null</td>\n",
       "      <td>null</td>\n",
       "    </tr>\n",
       "    <tr>\n",
       "      <th>288</th>\n",
       "      <td>15.7</td>\n",
       "      <td>Incomplete\\nData</td>\n",
       "      <td></td>\n",
       "      <td></td>\n",
       "      <td>10:11</td>\n",
       "      <td>Sat, Jun 9th</td>\n",
       "      <td>Swimming</td>\n",
       "      <td>13.1</td>\n",
       "      <td>null</td>\n",
       "      <td>null</td>\n",
       "      <td>null</td>\n",
       "      <td>null</td>\n",
       "    </tr>\n",
       "    <tr>\n",
       "      <th>289</th>\n",
       "      <td>16.3</td>\n",
       "      <td>13%</td>\n",
       "      <td>57%</td>\n",
       "      <td>5:41</td>\n",
       "      <td>9:57</td>\n",
       "      <td>Fri, Jun 8th</td>\n",
       "      <td>Cycling</td>\n",
       "      <td>13.7</td>\n",
       "      <td>null</td>\n",
       "      <td>null</td>\n",
       "      <td>null</td>\n",
       "      <td>null</td>\n",
       "    </tr>\n",
       "    <tr>\n",
       "      <th>290</th>\n",
       "      <td>8.8</td>\n",
       "      <td>76%</td>\n",
       "      <td>47%</td>\n",
       "      <td>4:28</td>\n",
       "      <td>9:24</td>\n",
       "      <td>Thu, Jun 7th</td>\n",
       "      <td>null</td>\n",
       "      <td>null</td>\n",
       "      <td>null</td>\n",
       "      <td>null</td>\n",
       "      <td>null</td>\n",
       "      <td>null</td>\n",
       "    </tr>\n",
       "    <tr>\n",
       "      <th>291</th>\n",
       "      <td>7.5</td>\n",
       "      <td>16%</td>\n",
       "      <td>60%</td>\n",
       "      <td>5:37</td>\n",
       "      <td>9:26</td>\n",
       "      <td>Wed, Jun 6th</td>\n",
       "      <td>null</td>\n",
       "      <td>null</td>\n",
       "      <td>null</td>\n",
       "      <td>null</td>\n",
       "      <td>null</td>\n",
       "      <td>null</td>\n",
       "    </tr>\n",
       "    <tr>\n",
       "      <th>292</th>\n",
       "      <td>10.9</td>\n",
       "      <td>28%</td>\n",
       "      <td>63%</td>\n",
       "      <td>6:25</td>\n",
       "      <td>10:10</td>\n",
       "      <td>Tue, Jun 5th</td>\n",
       "      <td>null</td>\n",
       "      <td>null</td>\n",
       "      <td>null</td>\n",
       "      <td>null</td>\n",
       "      <td>null</td>\n",
       "      <td>null</td>\n",
       "    </tr>\n",
       "    <tr>\n",
       "      <th>293</th>\n",
       "      <td>14.1</td>\n",
       "      <td>32%</td>\n",
       "      <td>51%</td>\n",
       "      <td>4:57</td>\n",
       "      <td>9:47</td>\n",
       "      <td>Mon, Jun 4th</td>\n",
       "      <td>Swimming</td>\n",
       "      <td>10.4</td>\n",
       "      <td>null</td>\n",
       "      <td>null</td>\n",
       "      <td>null</td>\n",
       "      <td>null</td>\n",
       "    </tr>\n",
       "    <tr>\n",
       "      <th>294</th>\n",
       "      <td>17.8</td>\n",
       "      <td>94%</td>\n",
       "      <td>72%</td>\n",
       "      <td>6:51</td>\n",
       "      <td>9:33</td>\n",
       "      <td>Sun, Jun 3rd</td>\n",
       "      <td>Running</td>\n",
       "      <td>17.3</td>\n",
       "      <td>null</td>\n",
       "      <td>null</td>\n",
       "      <td>null</td>\n",
       "      <td>null</td>\n",
       "    </tr>\n",
       "    <tr>\n",
       "      <th>295</th>\n",
       "      <td>16.6</td>\n",
       "      <td>61%</td>\n",
       "      <td>80%</td>\n",
       "      <td>7:28</td>\n",
       "      <td>9:18</td>\n",
       "      <td>Sat, Jun 2nd</td>\n",
       "      <td>Swimming</td>\n",
       "      <td>13.9</td>\n",
       "      <td>null</td>\n",
       "      <td>null</td>\n",
       "      <td>null</td>\n",
       "      <td>null</td>\n",
       "    </tr>\n",
       "    <tr>\n",
       "      <th>296</th>\n",
       "      <td>12.4</td>\n",
       "      <td>75%</td>\n",
       "      <td>76%</td>\n",
       "      <td>7:13</td>\n",
       "      <td>9:33</td>\n",
       "      <td>Fri, Jun 1st</td>\n",
       "      <td>null</td>\n",
       "      <td>null</td>\n",
       "      <td>null</td>\n",
       "      <td>null</td>\n",
       "      <td>null</td>\n",
       "      <td>null</td>\n",
       "    </tr>\n",
       "    <tr>\n",
       "      <th>297</th>\n",
       "      <td>15.9</td>\n",
       "      <td>94%</td>\n",
       "      <td>72%</td>\n",
       "      <td>6:31</td>\n",
       "      <td>9:04</td>\n",
       "      <td>Thu, May 31st</td>\n",
       "      <td>Running</td>\n",
       "      <td>14.2</td>\n",
       "      <td>null</td>\n",
       "      <td>null</td>\n",
       "      <td>null</td>\n",
       "      <td>null</td>\n",
       "    </tr>\n",
       "    <tr>\n",
       "      <th>298</th>\n",
       "      <td>11.9</td>\n",
       "      <td>69%</td>\n",
       "      <td>74%</td>\n",
       "      <td>6:12</td>\n",
       "      <td>8:25</td>\n",
       "      <td>Wed, May 30th</td>\n",
       "      <td>Swimming</td>\n",
       "      <td>10.3</td>\n",
       "      <td>null</td>\n",
       "      <td>null</td>\n",
       "      <td>null</td>\n",
       "      <td>null</td>\n",
       "    </tr>\n",
       "  </tbody>\n",
       "</table>\n",
       "<p>299 rows × 12 columns</p>\n",
       "</div>"
      ],
      "text/plain": [
       "    strain          recovery sleep_perf sleep rec_sleep             date  \\\n",
       "0     18.2               63%       100%  9:23      9:11  Today, Mar 24th   \n",
       "1      8.6               27%        66%  6:39     10:07    Sat, Mar 23rd   \n",
       "2     19.5               62%        75%  7:23      9:47    Fri, Mar 22nd   \n",
       "3     18.0               30%        78%  7:16      9:18    Thu, Mar 21st   \n",
       "4     12.0               25%        75%  6:56      9:16    Wed, Mar 20th   \n",
       "5     15.8               21%        83%  6:56      8:23    Tue, Mar 19th   \n",
       "6     15.4               24%       100%  9:16      8:12    Mon, Mar 18th   \n",
       "7     14.5               17%        46%  3:28      7:35    Sun, Mar 17th   \n",
       "8     15.3               13%        71%  7:10     10:08    Sat, Mar 16th   \n",
       "9     18.3               72%        64%  6:00      9:21    Fri, Mar 15th   \n",
       "10    12.6               13%        75%  8:00     10:37    Thu, Mar 14th   \n",
       "11    18.6               45%        52%  5:03      9:38    Wed, Mar 13th   \n",
       "12    18.0               72%        81%  7:24      9:11    Tue, Mar 12th   \n",
       "13    17.5               92%        89%  8:56     10:00    Mon, Mar 11th   \n",
       "14    12.2               17%        50%  4:48      9:42    Sun, Mar 10th   \n",
       "15    17.7               58%        73%  7:08      9:48     Sat, Mar 9th   \n",
       "16    16.6               65%        67%  6:25      9:37     Fri, Mar 8th   \n",
       "17    17.3               69%        74%  6:50      9:18     Thu, Mar 7th   \n",
       "18    12.5               79%        69%  6:38      9:40     Wed, Mar 6th   \n",
       "19    15.1               81%        66%  5:32      8:26     Tue, Mar 5th   \n",
       "20    15.9               80%       100%  7:45      7:11     Mon, Mar 4th   \n",
       "21    14.1               27%        86%  7:37      8:55     Sun, Mar 3rd   \n",
       "22    20.4               34%        90%  9:02     10:05     Sat, Mar 2nd   \n",
       "23    14.7               85%        54%  5:12      9:40     Fri, Mar 1st   \n",
       "24    15.8               32%        68%  6:08      9:00    Thu, Feb 28th   \n",
       "25    15.1               37%        87%  7:56      9:10    Wed, Feb 27th   \n",
       "26    12.2               31%        78%  7:50     10:04    Tue, Feb 26th   \n",
       "27    17.1               58%        62%  5:50      9:27    Mon, Feb 25th   \n",
       "28    11.6               32%        63%  6:04      9:40    Sun, Feb 24th   \n",
       "29    16.6               21%        77%  8:11     10:40    Sat, Feb 23rd   \n",
       "..     ...               ...        ...   ...       ...              ...   \n",
       "269   16.1               67%        61%  5:39      9:15    Thu, Jun 28th   \n",
       "270   12.4               34%        77%  7:48     10:07    Wed, Jun 27th   \n",
       "271   12.4               39%        48%  5:05     10:42    Tue, Jun 26th   \n",
       "272   15.9               72%        42%  4:05      9:48    Mon, Jun 25th   \n",
       "273   10.3               17%        63%  6:36     10:30    Sun, Jun 24th   \n",
       "274   20.5               27%        61%  6:01      9:56    Sat, Jun 23rd   \n",
       "275   14.6               89%        58%  6:00     10:27    Fri, Jun 22nd   \n",
       "276   16.3               63%        50%  4:27      9:00    Thu, Jun 21st   \n",
       "277    9.0               37%        78%  7:33      9:45    Wed, Jun 20th   \n",
       "278   15.4               35%        73%  7:14      9:55    Tue, Jun 19th   \n",
       "279   16.3               89%        72%  7:11      9:57    Mon, Jun 18th   \n",
       "280    6.4               19%        45%  4:22      9:49    Sun, Jun 17th   \n",
       "281    7.3               21%        49%  4:56     10:01    Sat, Jun 16th   \n",
       "282   16.3               43%        70%  6:43      9:34    Fri, Jun 15th   \n",
       "283   16.0               26%        78%  7:20      9:27    Thu, Jun 14th   \n",
       "284    7.6               46%        59%  5:40      9:40    Wed, Jun 13th   \n",
       "285    8.0               60%        64%  6:18      9:48    Tue, Jun 12th   \n",
       "286   14.3               31%        61%  5:32      9:05    Mon, Jun 11th   \n",
       "287   11.4               25%        79%  7:57     10:07    Sun, Jun 10th   \n",
       "288   15.7  Incomplete\\nData                      10:11     Sat, Jun 9th   \n",
       "289   16.3               13%        57%  5:41      9:57     Fri, Jun 8th   \n",
       "290    8.8               76%        47%  4:28      9:24     Thu, Jun 7th   \n",
       "291    7.5               16%        60%  5:37      9:26     Wed, Jun 6th   \n",
       "292   10.9               28%        63%  6:25     10:10     Tue, Jun 5th   \n",
       "293   14.1               32%        51%  4:57      9:47     Mon, Jun 4th   \n",
       "294   17.8               94%        72%  6:51      9:33     Sun, Jun 3rd   \n",
       "295   16.6               61%        80%  7:28      9:18     Sat, Jun 2nd   \n",
       "296   12.4               75%        76%  7:13      9:33     Fri, Jun 1st   \n",
       "297   15.9               94%        72%  6:31      9:04    Thu, May 31st   \n",
       "298   11.9               69%        74%  6:12      8:25    Wed, May 30th   \n",
       "\n",
       "         activity_1 activity_1_score activity_2 activity_2_score activity_3  \\\n",
       "0           Running             15.6    Running              9.8       null   \n",
       "1              null             null       null             null       null   \n",
       "2           Running             18.6       null             null       null   \n",
       "3           Running             17.2       null             null       null   \n",
       "4              null             null       null             null       null   \n",
       "5           Running             14.2       null             null       null   \n",
       "6    Hiking/Rucking             12.2       null             null       null   \n",
       "7           Running             12.1       null             null       null   \n",
       "8           Running             12.4       null             null       null   \n",
       "9           Running             17.6       null             null       null   \n",
       "10             null             null       null             null       null   \n",
       "11          Running             17.3       null             null       null   \n",
       "12          Running             14.9       null             null       null   \n",
       "13          Running             15.2       null             null       null   \n",
       "14             null             null       null             null       null   \n",
       "15          Running             16.1       null             null       null   \n",
       "16          Running             14.0       null             null       null   \n",
       "17          Running             15.2       null             null       null   \n",
       "18    Weightlifting              6.6       null             null       null   \n",
       "19          Running             12.0       null             null       null   \n",
       "20          Running             14.2       null             null       null   \n",
       "21         Activity              9.4       null             null       null   \n",
       "22          Running             19.6       null             null       null   \n",
       "23          Running             11.6       null             null       null   \n",
       "24          Running             11.2       null             null       null   \n",
       "25          Running             12.5       null             null       null   \n",
       "26             null             null       null             null       null   \n",
       "27          Running             15.2       null             null       null   \n",
       "28             null             null       null             null       null   \n",
       "29          Running              8.3       null             null       null   \n",
       "..              ...              ...        ...              ...        ...   \n",
       "269         Running             15.3       null             null       null   \n",
       "270        Swimming             10.4       null             null       null   \n",
       "271         Cycling             11.8       null             null       null   \n",
       "272         Running             15.3       null             null       null   \n",
       "273            Golf              7.2       null             null       null   \n",
       "274         Cycling             18.9    Running             12.7       null   \n",
       "275        Swimming             13.4       null             null       null   \n",
       "276         Running             15.5       null             null       null   \n",
       "277            null             null       null             null       null   \n",
       "278         Cycling             14.7       null             null       null   \n",
       "279         Running             15.2       null             null       null   \n",
       "280            null             null       null             null       null   \n",
       "281            null             null       null             null       null   \n",
       "282         Cycling             14.7       null             null       null   \n",
       "283         Running             14.8       null             null       null   \n",
       "284            null             null       null             null       null   \n",
       "285            null             null       null             null       null   \n",
       "286        Activity             13.5       null             null       null   \n",
       "287            null             null       null             null       null   \n",
       "288        Swimming             13.1       null             null       null   \n",
       "289         Cycling             13.7       null             null       null   \n",
       "290            null             null       null             null       null   \n",
       "291            null             null       null             null       null   \n",
       "292            null             null       null             null       null   \n",
       "293        Swimming             10.4       null             null       null   \n",
       "294         Running             17.3       null             null       null   \n",
       "295        Swimming             13.9       null             null       null   \n",
       "296            null             null       null             null       null   \n",
       "297         Running             14.2       null             null       null   \n",
       "298        Swimming             10.3       null             null       null   \n",
       "\n",
       "    activity_3_score  \n",
       "0               null  \n",
       "1               null  \n",
       "2               null  \n",
       "3               null  \n",
       "4               null  \n",
       "5               null  \n",
       "6               null  \n",
       "7               null  \n",
       "8               null  \n",
       "9               null  \n",
       "10              null  \n",
       "11              null  \n",
       "12              null  \n",
       "13              null  \n",
       "14              null  \n",
       "15              null  \n",
       "16              null  \n",
       "17              null  \n",
       "18              null  \n",
       "19              null  \n",
       "20              null  \n",
       "21              null  \n",
       "22              null  \n",
       "23              null  \n",
       "24              null  \n",
       "25              null  \n",
       "26              null  \n",
       "27              null  \n",
       "28              null  \n",
       "29              null  \n",
       "..               ...  \n",
       "269             null  \n",
       "270             null  \n",
       "271             null  \n",
       "272             null  \n",
       "273             null  \n",
       "274             null  \n",
       "275             null  \n",
       "276             null  \n",
       "277             null  \n",
       "278             null  \n",
       "279             null  \n",
       "280             null  \n",
       "281             null  \n",
       "282             null  \n",
       "283             null  \n",
       "284             null  \n",
       "285             null  \n",
       "286             null  \n",
       "287             null  \n",
       "288             null  \n",
       "289             null  \n",
       "290             null  \n",
       "291             null  \n",
       "292             null  \n",
       "293             null  \n",
       "294             null  \n",
       "295             null  \n",
       "296             null  \n",
       "297             null  \n",
       "298             null  \n",
       "\n",
       "[299 rows x 12 columns]"
      ]
     },
     "execution_count": 47,
     "metadata": {},
     "output_type": "execute_result"
    }
   ],
   "source": [
    "whoop"
   ]
  },
  {
   "cell_type": "code",
   "execution_count": 48,
   "metadata": {
    "collapsed": true
   },
   "outputs": [],
   "source": [
    "whoop.to_csv('../Data/whoop_data.csv',index=False)"
   ]
  },
  {
   "cell_type": "code",
   "execution_count": 199,
   "metadata": {
    "collapsed": true
   },
   "outputs": [],
   "source": [
    "def next_page(tod):\n",
    "    yesterday=tod-datetime.timedelta(1)\n",
    "    yesterdate=yesterday.strftime('%Y-%m-%d')\n",
    "    browser.get('https://app.whoop.com/athlete/24590/strain/1d/{}'.format(yesterdate))\n",
    "    tod=yesterday\n",
    "    return tod"
   ]
  },
  {
   "cell_type": "code",
   "execution_count": 202,
   "metadata": {},
   "outputs": [
    {
     "name": "stdout",
     "output_type": "stream",
     "text": [
      "made it\n",
      "made it\n",
      "made it\n",
      "made it\n",
      "made it\n",
      "made it\n"
     ]
    }
   ],
   "source": [
    "whoop=pd.DataFrame(columns=['strain','recovery','sleep_perf','sleep','rec_sleep','date', \n",
    "                            'activity_1','activity_1_score','activity_2','activity_2_score',\n",
    "                           'activity_3','activity_3_score'])\n",
    "tod=datetime.datetime.today()\n",
    "num=0\n",
    "old_date='today'\n",
    "old_scores=['none']\n",
    "old_strain=['null']\n",
    "go_to_strain()\n",
    "new_date=get_date(old_date)\n",
    "while (new_date[0].strip().lower()!='wed, mar 27th' and num<10):\n",
    "    new_date=get_date(old_date)\n",
    "    print('made it')\n",
    "    new_score=get_scores(old_scores)\n",
    "    strains=get_activity_strain(old_strain,old_date)\n",
    "    old_date=new_date\n",
    "    old_scores=new_score\n",
    "    old_strain=strains\n",
    "    whoop.loc[len(whoop)]=new_score[:5]+new_date+strains\n",
    "    tod=next_page(tod)\n",
    "    num+=1"
   ]
  },
  {
   "cell_type": "code",
   "execution_count": 195,
   "metadata": {
    "collapsed": true
   },
   "outputs": [],
   "source": [
    "tod"
   ]
  },
  {
   "cell_type": "code",
   "execution_count": 150,
   "metadata": {
    "collapsed": true
   },
   "outputs": [],
   "source": [
    "new_date=get_date(old_date)"
   ]
  },
  {
   "cell_type": "code",
   "execution_count": 151,
   "metadata": {},
   "outputs": [
    {
     "data": {
      "text/plain": [
       "['Sun, Mar 31st']"
      ]
     },
     "execution_count": 151,
     "metadata": {},
     "output_type": "execute_result"
    }
   ],
   "source": [
    "new_date"
   ]
  },
  {
   "cell_type": "code",
   "execution_count": 152,
   "metadata": {
    "collapsed": true
   },
   "outputs": [],
   "source": [
    "new_score=get_scores(old_scores)\n",
    "strains=get_activity_strain(old_strain,old_date)"
   ]
  },
  {
   "cell_type": "code",
   "execution_count": 155,
   "metadata": {
    "collapsed": true
   },
   "outputs": [],
   "source": [
    "old_date=new_date\n",
    "old_scores=new_score\n",
    "old_strain=strains\n",
    "whoop.loc[len(whoop)]=new_score[:5]+new_date+strains"
   ]
  },
  {
   "cell_type": "code",
   "execution_count": 156,
   "metadata": {},
   "outputs": [
    {
     "data": {
      "text/html": [
       "<div>\n",
       "<style scoped>\n",
       "    .dataframe tbody tr th:only-of-type {\n",
       "        vertical-align: middle;\n",
       "    }\n",
       "\n",
       "    .dataframe tbody tr th {\n",
       "        vertical-align: top;\n",
       "    }\n",
       "\n",
       "    .dataframe thead th {\n",
       "        text-align: right;\n",
       "    }\n",
       "</style>\n",
       "<table border=\"1\" class=\"dataframe\">\n",
       "  <thead>\n",
       "    <tr style=\"text-align: right;\">\n",
       "      <th></th>\n",
       "      <th>strain</th>\n",
       "      <th>recovery</th>\n",
       "      <th>sleep_perf</th>\n",
       "      <th>sleep</th>\n",
       "      <th>rec_sleep</th>\n",
       "      <th>date</th>\n",
       "      <th>activity_1</th>\n",
       "      <th>activity_1_score</th>\n",
       "      <th>activity_2</th>\n",
       "      <th>activity_2_score</th>\n",
       "      <th>activity_3</th>\n",
       "      <th>activity_3_score</th>\n",
       "    </tr>\n",
       "  </thead>\n",
       "  <tbody>\n",
       "    <tr>\n",
       "      <th>0</th>\n",
       "      <td>16.9</td>\n",
       "      <td>37%</td>\n",
       "      <td>75%</td>\n",
       "      <td>5:56</td>\n",
       "      <td>7:55</td>\n",
       "      <td>Today, Apr 1st</td>\n",
       "      <td>Running</td>\n",
       "      <td>14.1</td>\n",
       "      <td>null</td>\n",
       "      <td>null</td>\n",
       "      <td>null</td>\n",
       "      <td>null</td>\n",
       "    </tr>\n",
       "    <tr>\n",
       "      <th>1</th>\n",
       "      <td>9.9</td>\n",
       "      <td>80%</td>\n",
       "      <td>100%</td>\n",
       "      <td>9:54</td>\n",
       "      <td>9:39</td>\n",
       "      <td>Sun, Mar 31st</td>\n",
       "      <td>null</td>\n",
       "      <td>null</td>\n",
       "      <td>null</td>\n",
       "      <td>null</td>\n",
       "      <td>null</td>\n",
       "      <td>null</td>\n",
       "    </tr>\n",
       "  </tbody>\n",
       "</table>\n",
       "</div>"
      ],
      "text/plain": [
       "  strain recovery sleep_perf sleep rec_sleep            date activity_1  \\\n",
       "0   16.9      37%        75%  5:56      7:55  Today, Apr 1st    Running   \n",
       "1    9.9      80%       100%  9:54      9:39   Sun, Mar 31st       null   \n",
       "\n",
       "  activity_1_score activity_2 activity_2_score activity_3 activity_3_score  \n",
       "0             14.1       null             null       null             null  \n",
       "1             null       null             null       null             null  "
      ]
     },
     "execution_count": 156,
     "metadata": {},
     "output_type": "execute_result"
    }
   ],
   "source": [
    "whoop"
   ]
  },
  {
   "cell_type": "code",
   "execution_count": null,
   "metadata": {
    "collapsed": true
   },
   "outputs": [],
   "source": [
    "findings[0].get_attribute('innerHTML')"
   ]
  },
  {
   "cell_type": "code",
   "execution_count": 213,
   "metadata": {},
   "outputs": [
    {
     "name": "stdout",
     "output_type": "stream",
     "text": [
      "Mon, Dec 31st\n"
     ]
    },
    {
     "ename": "StaleElementReferenceException",
     "evalue": "Message: stale element reference: element is not attached to the page document\n  (Session info: chrome=71.0.3578.98)\n  (Driver info: chromedriver=2.43.600229 (3fae4d0cda5334b4f533bede5a4787f7b832d052),platform=Mac OS X 10.14.1 x86_64)\n",
     "output_type": "error",
     "traceback": [
      "\u001b[0;31m---------------------------------------------------------------------------\u001b[0m",
      "\u001b[0;31mStaleElementReferenceException\u001b[0m            Traceback (most recent call last)",
      "\u001b[0;32m<ipython-input-213-35fce713dfbf>\u001b[0m in \u001b[0;36m<module>\u001b[0;34m()\u001b[0m\n\u001b[1;32m     13\u001b[0m         \u001b[0mprint\u001b[0m\u001b[0;34m(\u001b[0m\u001b[0;34m\"It broke here :(\"\u001b[0m\u001b[0;34m)\u001b[0m\u001b[0;34m\u001b[0m\u001b[0;34m\u001b[0m\u001b[0m\n\u001b[1;32m     14\u001b[0m     \u001b[0mdate\u001b[0m\u001b[0;34m=\u001b[0m\u001b[0;34m[\u001b[0m\u001b[0mday\u001b[0m\u001b[0;34m.\u001b[0m\u001b[0mtext\u001b[0m\u001b[0;34m]\u001b[0m\u001b[0;34m\u001b[0m\u001b[0;34m\u001b[0m\u001b[0m\n\u001b[0;32m---> 15\u001b[0;31m     \u001b[0mscore_list\u001b[0m\u001b[0;34m=\u001b[0m\u001b[0;34m[\u001b[0m\u001b[0mx\u001b[0m\u001b[0;34m.\u001b[0m\u001b[0mtext\u001b[0m \u001b[0;32mfor\u001b[0m \u001b[0mx\u001b[0m \u001b[0;32min\u001b[0m \u001b[0mscores\u001b[0m\u001b[0;34m]\u001b[0m\u001b[0;34m\u001b[0m\u001b[0;34m\u001b[0m\u001b[0m\n\u001b[0m\u001b[1;32m     16\u001b[0m     \u001b[0mwhoop\u001b[0m\u001b[0;34m.\u001b[0m\u001b[0mloc\u001b[0m\u001b[0;34m[\u001b[0m\u001b[0mlen\u001b[0m\u001b[0;34m(\u001b[0m\u001b[0mwhoop\u001b[0m\u001b[0;34m)\u001b[0m\u001b[0;34m]\u001b[0m\u001b[0;34m=\u001b[0m\u001b[0mscore_list\u001b[0m\u001b[0;34m[\u001b[0m\u001b[0;34m:\u001b[0m\u001b[0;36m5\u001b[0m\u001b[0;34m]\u001b[0m\u001b[0;34m+\u001b[0m\u001b[0mdate\u001b[0m\u001b[0;34m\u001b[0m\u001b[0;34m\u001b[0m\u001b[0m\n\u001b[1;32m     17\u001b[0m     \u001b[0mback\u001b[0m\u001b[0;34m=\u001b[0m\u001b[0mbrowser\u001b[0m\u001b[0;34m.\u001b[0m\u001b[0mfind_element_by_class_name\u001b[0m\u001b[0;34m(\u001b[0m\u001b[0;34m'datepicker--prev'\u001b[0m\u001b[0;34m)\u001b[0m\u001b[0;34m\u001b[0m\u001b[0;34m\u001b[0m\u001b[0m\n",
      "\u001b[0;32m<ipython-input-213-35fce713dfbf>\u001b[0m in \u001b[0;36m<listcomp>\u001b[0;34m(.0)\u001b[0m\n\u001b[1;32m     13\u001b[0m         \u001b[0mprint\u001b[0m\u001b[0;34m(\u001b[0m\u001b[0;34m\"It broke here :(\"\u001b[0m\u001b[0;34m)\u001b[0m\u001b[0;34m\u001b[0m\u001b[0;34m\u001b[0m\u001b[0m\n\u001b[1;32m     14\u001b[0m     \u001b[0mdate\u001b[0m\u001b[0;34m=\u001b[0m\u001b[0;34m[\u001b[0m\u001b[0mday\u001b[0m\u001b[0;34m.\u001b[0m\u001b[0mtext\u001b[0m\u001b[0;34m]\u001b[0m\u001b[0;34m\u001b[0m\u001b[0;34m\u001b[0m\u001b[0m\n\u001b[0;32m---> 15\u001b[0;31m     \u001b[0mscore_list\u001b[0m\u001b[0;34m=\u001b[0m\u001b[0;34m[\u001b[0m\u001b[0mx\u001b[0m\u001b[0;34m.\u001b[0m\u001b[0mtext\u001b[0m \u001b[0;32mfor\u001b[0m \u001b[0mx\u001b[0m \u001b[0;32min\u001b[0m \u001b[0mscores\u001b[0m\u001b[0;34m]\u001b[0m\u001b[0;34m\u001b[0m\u001b[0;34m\u001b[0m\u001b[0m\n\u001b[0m\u001b[1;32m     16\u001b[0m     \u001b[0mwhoop\u001b[0m\u001b[0;34m.\u001b[0m\u001b[0mloc\u001b[0m\u001b[0;34m[\u001b[0m\u001b[0mlen\u001b[0m\u001b[0;34m(\u001b[0m\u001b[0mwhoop\u001b[0m\u001b[0;34m)\u001b[0m\u001b[0;34m]\u001b[0m\u001b[0;34m=\u001b[0m\u001b[0mscore_list\u001b[0m\u001b[0;34m[\u001b[0m\u001b[0;34m:\u001b[0m\u001b[0;36m5\u001b[0m\u001b[0;34m]\u001b[0m\u001b[0;34m+\u001b[0m\u001b[0mdate\u001b[0m\u001b[0;34m\u001b[0m\u001b[0;34m\u001b[0m\u001b[0m\n\u001b[1;32m     17\u001b[0m     \u001b[0mback\u001b[0m\u001b[0;34m=\u001b[0m\u001b[0mbrowser\u001b[0m\u001b[0;34m.\u001b[0m\u001b[0mfind_element_by_class_name\u001b[0m\u001b[0;34m(\u001b[0m\u001b[0;34m'datepicker--prev'\u001b[0m\u001b[0;34m)\u001b[0m\u001b[0;34m\u001b[0m\u001b[0;34m\u001b[0m\u001b[0m\n",
      "\u001b[0;32m~/anaconda2/envs/py35/lib/python3.6/site-packages/selenium/webdriver/remote/webelement.py\u001b[0m in \u001b[0;36mtext\u001b[0;34m(self)\u001b[0m\n\u001b[1;32m     74\u001b[0m     \u001b[0;32mdef\u001b[0m \u001b[0mtext\u001b[0m\u001b[0;34m(\u001b[0m\u001b[0mself\u001b[0m\u001b[0;34m)\u001b[0m\u001b[0;34m:\u001b[0m\u001b[0;34m\u001b[0m\u001b[0;34m\u001b[0m\u001b[0m\n\u001b[1;32m     75\u001b[0m         \u001b[0;34m\"\"\"The text of the element.\"\"\"\u001b[0m\u001b[0;34m\u001b[0m\u001b[0;34m\u001b[0m\u001b[0m\n\u001b[0;32m---> 76\u001b[0;31m         \u001b[0;32mreturn\u001b[0m \u001b[0mself\u001b[0m\u001b[0;34m.\u001b[0m\u001b[0m_execute\u001b[0m\u001b[0;34m(\u001b[0m\u001b[0mCommand\u001b[0m\u001b[0;34m.\u001b[0m\u001b[0mGET_ELEMENT_TEXT\u001b[0m\u001b[0;34m)\u001b[0m\u001b[0;34m[\u001b[0m\u001b[0;34m'value'\u001b[0m\u001b[0;34m]\u001b[0m\u001b[0;34m\u001b[0m\u001b[0;34m\u001b[0m\u001b[0m\n\u001b[0m\u001b[1;32m     77\u001b[0m \u001b[0;34m\u001b[0m\u001b[0m\n\u001b[1;32m     78\u001b[0m     \u001b[0;32mdef\u001b[0m \u001b[0mclick\u001b[0m\u001b[0;34m(\u001b[0m\u001b[0mself\u001b[0m\u001b[0;34m)\u001b[0m\u001b[0;34m:\u001b[0m\u001b[0;34m\u001b[0m\u001b[0;34m\u001b[0m\u001b[0m\n",
      "\u001b[0;32m~/anaconda2/envs/py35/lib/python3.6/site-packages/selenium/webdriver/remote/webelement.py\u001b[0m in \u001b[0;36m_execute\u001b[0;34m(self, command, params)\u001b[0m\n\u001b[1;32m    631\u001b[0m             \u001b[0mparams\u001b[0m \u001b[0;34m=\u001b[0m \u001b[0;34m{\u001b[0m\u001b[0;34m}\u001b[0m\u001b[0;34m\u001b[0m\u001b[0;34m\u001b[0m\u001b[0m\n\u001b[1;32m    632\u001b[0m         \u001b[0mparams\u001b[0m\u001b[0;34m[\u001b[0m\u001b[0;34m'id'\u001b[0m\u001b[0;34m]\u001b[0m \u001b[0;34m=\u001b[0m \u001b[0mself\u001b[0m\u001b[0;34m.\u001b[0m\u001b[0m_id\u001b[0m\u001b[0;34m\u001b[0m\u001b[0;34m\u001b[0m\u001b[0m\n\u001b[0;32m--> 633\u001b[0;31m         \u001b[0;32mreturn\u001b[0m \u001b[0mself\u001b[0m\u001b[0;34m.\u001b[0m\u001b[0m_parent\u001b[0m\u001b[0;34m.\u001b[0m\u001b[0mexecute\u001b[0m\u001b[0;34m(\u001b[0m\u001b[0mcommand\u001b[0m\u001b[0;34m,\u001b[0m \u001b[0mparams\u001b[0m\u001b[0;34m)\u001b[0m\u001b[0;34m\u001b[0m\u001b[0;34m\u001b[0m\u001b[0m\n\u001b[0m\u001b[1;32m    634\u001b[0m \u001b[0;34m\u001b[0m\u001b[0m\n\u001b[1;32m    635\u001b[0m     \u001b[0;32mdef\u001b[0m \u001b[0mfind_element\u001b[0m\u001b[0;34m(\u001b[0m\u001b[0mself\u001b[0m\u001b[0;34m,\u001b[0m \u001b[0mby\u001b[0m\u001b[0;34m=\u001b[0m\u001b[0mBy\u001b[0m\u001b[0;34m.\u001b[0m\u001b[0mID\u001b[0m\u001b[0;34m,\u001b[0m \u001b[0mvalue\u001b[0m\u001b[0;34m=\u001b[0m\u001b[0;32mNone\u001b[0m\u001b[0;34m)\u001b[0m\u001b[0;34m:\u001b[0m\u001b[0;34m\u001b[0m\u001b[0;34m\u001b[0m\u001b[0m\n",
      "\u001b[0;32m~/anaconda2/envs/py35/lib/python3.6/site-packages/selenium/webdriver/remote/webdriver.py\u001b[0m in \u001b[0;36mexecute\u001b[0;34m(self, driver_command, params)\u001b[0m\n\u001b[1;32m    319\u001b[0m         \u001b[0mresponse\u001b[0m \u001b[0;34m=\u001b[0m \u001b[0mself\u001b[0m\u001b[0;34m.\u001b[0m\u001b[0mcommand_executor\u001b[0m\u001b[0;34m.\u001b[0m\u001b[0mexecute\u001b[0m\u001b[0;34m(\u001b[0m\u001b[0mdriver_command\u001b[0m\u001b[0;34m,\u001b[0m \u001b[0mparams\u001b[0m\u001b[0;34m)\u001b[0m\u001b[0;34m\u001b[0m\u001b[0;34m\u001b[0m\u001b[0m\n\u001b[1;32m    320\u001b[0m         \u001b[0;32mif\u001b[0m \u001b[0mresponse\u001b[0m\u001b[0;34m:\u001b[0m\u001b[0;34m\u001b[0m\u001b[0;34m\u001b[0m\u001b[0m\n\u001b[0;32m--> 321\u001b[0;31m             \u001b[0mself\u001b[0m\u001b[0;34m.\u001b[0m\u001b[0merror_handler\u001b[0m\u001b[0;34m.\u001b[0m\u001b[0mcheck_response\u001b[0m\u001b[0;34m(\u001b[0m\u001b[0mresponse\u001b[0m\u001b[0;34m)\u001b[0m\u001b[0;34m\u001b[0m\u001b[0;34m\u001b[0m\u001b[0m\n\u001b[0m\u001b[1;32m    322\u001b[0m             response['value'] = self._unwrap_value(\n\u001b[1;32m    323\u001b[0m                 response.get('value', None))\n",
      "\u001b[0;32m~/anaconda2/envs/py35/lib/python3.6/site-packages/selenium/webdriver/remote/errorhandler.py\u001b[0m in \u001b[0;36mcheck_response\u001b[0;34m(self, response)\u001b[0m\n\u001b[1;32m    240\u001b[0m                 \u001b[0malert_text\u001b[0m \u001b[0;34m=\u001b[0m \u001b[0mvalue\u001b[0m\u001b[0;34m[\u001b[0m\u001b[0;34m'alert'\u001b[0m\u001b[0;34m]\u001b[0m\u001b[0;34m.\u001b[0m\u001b[0mget\u001b[0m\u001b[0;34m(\u001b[0m\u001b[0;34m'text'\u001b[0m\u001b[0;34m)\u001b[0m\u001b[0;34m\u001b[0m\u001b[0;34m\u001b[0m\u001b[0m\n\u001b[1;32m    241\u001b[0m             \u001b[0;32mraise\u001b[0m \u001b[0mexception_class\u001b[0m\u001b[0;34m(\u001b[0m\u001b[0mmessage\u001b[0m\u001b[0;34m,\u001b[0m \u001b[0mscreen\u001b[0m\u001b[0;34m,\u001b[0m \u001b[0mstacktrace\u001b[0m\u001b[0;34m,\u001b[0m \u001b[0malert_text\u001b[0m\u001b[0;34m)\u001b[0m\u001b[0;34m\u001b[0m\u001b[0;34m\u001b[0m\u001b[0m\n\u001b[0;32m--> 242\u001b[0;31m         \u001b[0;32mraise\u001b[0m \u001b[0mexception_class\u001b[0m\u001b[0;34m(\u001b[0m\u001b[0mmessage\u001b[0m\u001b[0;34m,\u001b[0m \u001b[0mscreen\u001b[0m\u001b[0;34m,\u001b[0m \u001b[0mstacktrace\u001b[0m\u001b[0;34m)\u001b[0m\u001b[0;34m\u001b[0m\u001b[0;34m\u001b[0m\u001b[0m\n\u001b[0m\u001b[1;32m    243\u001b[0m \u001b[0;34m\u001b[0m\u001b[0m\n\u001b[1;32m    244\u001b[0m     \u001b[0;32mdef\u001b[0m \u001b[0m_value_or_default\u001b[0m\u001b[0;34m(\u001b[0m\u001b[0mself\u001b[0m\u001b[0;34m,\u001b[0m \u001b[0mobj\u001b[0m\u001b[0;34m,\u001b[0m \u001b[0mkey\u001b[0m\u001b[0;34m,\u001b[0m \u001b[0mdefault\u001b[0m\u001b[0;34m)\u001b[0m\u001b[0;34m:\u001b[0m\u001b[0;34m\u001b[0m\u001b[0;34m\u001b[0m\u001b[0m\n",
      "\u001b[0;31mStaleElementReferenceException\u001b[0m: Message: stale element reference: element is not attached to the page document\n  (Session info: chrome=71.0.3578.98)\n  (Driver info: chromedriver=2.43.600229 (3fae4d0cda5334b4f533bede5a4787f7b832d052),platform=Mac OS X 10.14.1 x86_64)\n"
     ]
    }
   ],
   "source": [
    "whoop=pd.DataFrame(c`aolumns=['strain','recovery','sleep_perf','sleep','rec_sleep','date'])\n",
    "num=0\n",
    "date=['a']\n",
    "while date[0].strip()!='Tue, May 29th' or num<300:\n",
    "    browser.implicitly_wait(10)\n",
    "    try:\n",
    "        \n",
    "        day = WebDriverWait(browser, 10).until(EC.presence_of_element_located((By.CLASS_NAME, \"datepicker--label\")))\n",
    "    except TimeoutException:\n",
    "        print(\"It broke :(\")\n",
    "    try:\n",
    "        scores = WebDriverWait(browser, 10).until(EC.presence_of_all_elements_located((By.CLASS_NAME, \"score\")))\n",
    "    except TimeoutException:\n",
    "        print(\"It broke here :(\")\n",
    "    date=[day.text]\n",
    "    score_list=[x.text for x in scores]\n",
    "    old_scores=scores\n",
    "    old_date=day.text\n",
    "    whoop.loc[len(whoop)]=score_list[:5]+date\n",
    "    back=browser.find_element_by_class_name('datepicker--prev')\n",
    "    back.click()\n",
    "    num+=1\n",
    "    print(date[0])"
   ]
  },
  {
   "cell_type": "code",
   "execution_count": 214,
   "metadata": {},
   "outputs": [
    {
     "name": "stdout",
     "output_type": "stream",
     "text": [
      "Sun, Dec 30th\n"
     ]
    },
    {
     "ename": "StaleElementReferenceException",
     "evalue": "Message: stale element reference: element is not attached to the page document\n  (Session info: chrome=71.0.3578.98)\n  (Driver info: chromedriver=2.43.600229 (3fae4d0cda5334b4f533bede5a4787f7b832d052),platform=Mac OS X 10.14.1 x86_64)\n",
     "output_type": "error",
     "traceback": [
      "\u001b[0;31m---------------------------------------------------------------------------\u001b[0m",
      "\u001b[0;31mStaleElementReferenceException\u001b[0m            Traceback (most recent call last)",
      "\u001b[0;32m<ipython-input-214-a36ffa9ac317>\u001b[0m in \u001b[0;36m<module>\u001b[0;34m()\u001b[0m\n\u001b[1;32m      7\u001b[0m     \u001b[0mdate\u001b[0m\u001b[0;34m=\u001b[0m\u001b[0;34m[\u001b[0m\u001b[0mday\u001b[0m\u001b[0;34m.\u001b[0m\u001b[0mtext\u001b[0m\u001b[0;34m]\u001b[0m\u001b[0;34m\u001b[0m\u001b[0;34m\u001b[0m\u001b[0m\n\u001b[1;32m      8\u001b[0m     \u001b[0mscores\u001b[0m\u001b[0;34m=\u001b[0m\u001b[0mbrowser\u001b[0m\u001b[0;34m.\u001b[0m\u001b[0mfind_elements_by_class_name\u001b[0m\u001b[0;34m(\u001b[0m\u001b[0;34m'score'\u001b[0m\u001b[0;34m)\u001b[0m\u001b[0;34m\u001b[0m\u001b[0;34m\u001b[0m\u001b[0m\n\u001b[0;32m----> 9\u001b[0;31m     \u001b[0mscore_list\u001b[0m\u001b[0;34m=\u001b[0m\u001b[0;34m[\u001b[0m\u001b[0mx\u001b[0m\u001b[0;34m.\u001b[0m\u001b[0mtext\u001b[0m \u001b[0;32mfor\u001b[0m \u001b[0mx\u001b[0m \u001b[0;32min\u001b[0m \u001b[0mscores\u001b[0m\u001b[0;34m]\u001b[0m\u001b[0;34m\u001b[0m\u001b[0;34m\u001b[0m\u001b[0m\n\u001b[0m\u001b[1;32m     10\u001b[0m     \u001b[0mwhoop\u001b[0m\u001b[0;34m.\u001b[0m\u001b[0mloc\u001b[0m\u001b[0;34m[\u001b[0m\u001b[0mlen\u001b[0m\u001b[0;34m(\u001b[0m\u001b[0mwhoop\u001b[0m\u001b[0;34m)\u001b[0m\u001b[0;34m]\u001b[0m\u001b[0;34m=\u001b[0m\u001b[0mscore_list\u001b[0m\u001b[0;34m[\u001b[0m\u001b[0;34m:\u001b[0m\u001b[0;36m5\u001b[0m\u001b[0;34m]\u001b[0m\u001b[0;34m+\u001b[0m\u001b[0mdate\u001b[0m\u001b[0;34m\u001b[0m\u001b[0;34m\u001b[0m\u001b[0m\n\u001b[1;32m     11\u001b[0m     \u001b[0mback\u001b[0m\u001b[0;34m=\u001b[0m\u001b[0mbrowser\u001b[0m\u001b[0;34m.\u001b[0m\u001b[0mfind_element_by_class_name\u001b[0m\u001b[0;34m(\u001b[0m\u001b[0;34m'datepicker--prev'\u001b[0m\u001b[0;34m)\u001b[0m\u001b[0;34m\u001b[0m\u001b[0;34m\u001b[0m\u001b[0m\n",
      "\u001b[0;32m<ipython-input-214-a36ffa9ac317>\u001b[0m in \u001b[0;36m<listcomp>\u001b[0;34m(.0)\u001b[0m\n\u001b[1;32m      7\u001b[0m     \u001b[0mdate\u001b[0m\u001b[0;34m=\u001b[0m\u001b[0;34m[\u001b[0m\u001b[0mday\u001b[0m\u001b[0;34m.\u001b[0m\u001b[0mtext\u001b[0m\u001b[0;34m]\u001b[0m\u001b[0;34m\u001b[0m\u001b[0;34m\u001b[0m\u001b[0m\n\u001b[1;32m      8\u001b[0m     \u001b[0mscores\u001b[0m\u001b[0;34m=\u001b[0m\u001b[0mbrowser\u001b[0m\u001b[0;34m.\u001b[0m\u001b[0mfind_elements_by_class_name\u001b[0m\u001b[0;34m(\u001b[0m\u001b[0;34m'score'\u001b[0m\u001b[0;34m)\u001b[0m\u001b[0;34m\u001b[0m\u001b[0;34m\u001b[0m\u001b[0m\n\u001b[0;32m----> 9\u001b[0;31m     \u001b[0mscore_list\u001b[0m\u001b[0;34m=\u001b[0m\u001b[0;34m[\u001b[0m\u001b[0mx\u001b[0m\u001b[0;34m.\u001b[0m\u001b[0mtext\u001b[0m \u001b[0;32mfor\u001b[0m \u001b[0mx\u001b[0m \u001b[0;32min\u001b[0m \u001b[0mscores\u001b[0m\u001b[0;34m]\u001b[0m\u001b[0;34m\u001b[0m\u001b[0;34m\u001b[0m\u001b[0m\n\u001b[0m\u001b[1;32m     10\u001b[0m     \u001b[0mwhoop\u001b[0m\u001b[0;34m.\u001b[0m\u001b[0mloc\u001b[0m\u001b[0;34m[\u001b[0m\u001b[0mlen\u001b[0m\u001b[0;34m(\u001b[0m\u001b[0mwhoop\u001b[0m\u001b[0;34m)\u001b[0m\u001b[0;34m]\u001b[0m\u001b[0;34m=\u001b[0m\u001b[0mscore_list\u001b[0m\u001b[0;34m[\u001b[0m\u001b[0;34m:\u001b[0m\u001b[0;36m5\u001b[0m\u001b[0;34m]\u001b[0m\u001b[0;34m+\u001b[0m\u001b[0mdate\u001b[0m\u001b[0;34m\u001b[0m\u001b[0;34m\u001b[0m\u001b[0m\n\u001b[1;32m     11\u001b[0m     \u001b[0mback\u001b[0m\u001b[0;34m=\u001b[0m\u001b[0mbrowser\u001b[0m\u001b[0;34m.\u001b[0m\u001b[0mfind_element_by_class_name\u001b[0m\u001b[0;34m(\u001b[0m\u001b[0;34m'datepicker--prev'\u001b[0m\u001b[0;34m)\u001b[0m\u001b[0;34m\u001b[0m\u001b[0;34m\u001b[0m\u001b[0m\n",
      "\u001b[0;32m~/anaconda2/envs/py35/lib/python3.6/site-packages/selenium/webdriver/remote/webelement.py\u001b[0m in \u001b[0;36mtext\u001b[0;34m(self)\u001b[0m\n\u001b[1;32m     74\u001b[0m     \u001b[0;32mdef\u001b[0m \u001b[0mtext\u001b[0m\u001b[0;34m(\u001b[0m\u001b[0mself\u001b[0m\u001b[0;34m)\u001b[0m\u001b[0;34m:\u001b[0m\u001b[0;34m\u001b[0m\u001b[0;34m\u001b[0m\u001b[0m\n\u001b[1;32m     75\u001b[0m         \u001b[0;34m\"\"\"The text of the element.\"\"\"\u001b[0m\u001b[0;34m\u001b[0m\u001b[0;34m\u001b[0m\u001b[0m\n\u001b[0;32m---> 76\u001b[0;31m         \u001b[0;32mreturn\u001b[0m \u001b[0mself\u001b[0m\u001b[0;34m.\u001b[0m\u001b[0m_execute\u001b[0m\u001b[0;34m(\u001b[0m\u001b[0mCommand\u001b[0m\u001b[0;34m.\u001b[0m\u001b[0mGET_ELEMENT_TEXT\u001b[0m\u001b[0;34m)\u001b[0m\u001b[0;34m[\u001b[0m\u001b[0;34m'value'\u001b[0m\u001b[0;34m]\u001b[0m\u001b[0;34m\u001b[0m\u001b[0;34m\u001b[0m\u001b[0m\n\u001b[0m\u001b[1;32m     77\u001b[0m \u001b[0;34m\u001b[0m\u001b[0m\n\u001b[1;32m     78\u001b[0m     \u001b[0;32mdef\u001b[0m \u001b[0mclick\u001b[0m\u001b[0;34m(\u001b[0m\u001b[0mself\u001b[0m\u001b[0;34m)\u001b[0m\u001b[0;34m:\u001b[0m\u001b[0;34m\u001b[0m\u001b[0;34m\u001b[0m\u001b[0m\n",
      "\u001b[0;32m~/anaconda2/envs/py35/lib/python3.6/site-packages/selenium/webdriver/remote/webelement.py\u001b[0m in \u001b[0;36m_execute\u001b[0;34m(self, command, params)\u001b[0m\n\u001b[1;32m    631\u001b[0m             \u001b[0mparams\u001b[0m \u001b[0;34m=\u001b[0m \u001b[0;34m{\u001b[0m\u001b[0;34m}\u001b[0m\u001b[0;34m\u001b[0m\u001b[0;34m\u001b[0m\u001b[0m\n\u001b[1;32m    632\u001b[0m         \u001b[0mparams\u001b[0m\u001b[0;34m[\u001b[0m\u001b[0;34m'id'\u001b[0m\u001b[0;34m]\u001b[0m \u001b[0;34m=\u001b[0m \u001b[0mself\u001b[0m\u001b[0;34m.\u001b[0m\u001b[0m_id\u001b[0m\u001b[0;34m\u001b[0m\u001b[0;34m\u001b[0m\u001b[0m\n\u001b[0;32m--> 633\u001b[0;31m         \u001b[0;32mreturn\u001b[0m \u001b[0mself\u001b[0m\u001b[0;34m.\u001b[0m\u001b[0m_parent\u001b[0m\u001b[0;34m.\u001b[0m\u001b[0mexecute\u001b[0m\u001b[0;34m(\u001b[0m\u001b[0mcommand\u001b[0m\u001b[0;34m,\u001b[0m \u001b[0mparams\u001b[0m\u001b[0;34m)\u001b[0m\u001b[0;34m\u001b[0m\u001b[0;34m\u001b[0m\u001b[0m\n\u001b[0m\u001b[1;32m    634\u001b[0m \u001b[0;34m\u001b[0m\u001b[0m\n\u001b[1;32m    635\u001b[0m     \u001b[0;32mdef\u001b[0m \u001b[0mfind_element\u001b[0m\u001b[0;34m(\u001b[0m\u001b[0mself\u001b[0m\u001b[0;34m,\u001b[0m \u001b[0mby\u001b[0m\u001b[0;34m=\u001b[0m\u001b[0mBy\u001b[0m\u001b[0;34m.\u001b[0m\u001b[0mID\u001b[0m\u001b[0;34m,\u001b[0m \u001b[0mvalue\u001b[0m\u001b[0;34m=\u001b[0m\u001b[0;32mNone\u001b[0m\u001b[0;34m)\u001b[0m\u001b[0;34m:\u001b[0m\u001b[0;34m\u001b[0m\u001b[0;34m\u001b[0m\u001b[0m\n",
      "\u001b[0;32m~/anaconda2/envs/py35/lib/python3.6/site-packages/selenium/webdriver/remote/webdriver.py\u001b[0m in \u001b[0;36mexecute\u001b[0;34m(self, driver_command, params)\u001b[0m\n\u001b[1;32m    319\u001b[0m         \u001b[0mresponse\u001b[0m \u001b[0;34m=\u001b[0m \u001b[0mself\u001b[0m\u001b[0;34m.\u001b[0m\u001b[0mcommand_executor\u001b[0m\u001b[0;34m.\u001b[0m\u001b[0mexecute\u001b[0m\u001b[0;34m(\u001b[0m\u001b[0mdriver_command\u001b[0m\u001b[0;34m,\u001b[0m \u001b[0mparams\u001b[0m\u001b[0;34m)\u001b[0m\u001b[0;34m\u001b[0m\u001b[0;34m\u001b[0m\u001b[0m\n\u001b[1;32m    320\u001b[0m         \u001b[0;32mif\u001b[0m \u001b[0mresponse\u001b[0m\u001b[0;34m:\u001b[0m\u001b[0;34m\u001b[0m\u001b[0;34m\u001b[0m\u001b[0m\n\u001b[0;32m--> 321\u001b[0;31m             \u001b[0mself\u001b[0m\u001b[0;34m.\u001b[0m\u001b[0merror_handler\u001b[0m\u001b[0;34m.\u001b[0m\u001b[0mcheck_response\u001b[0m\u001b[0;34m(\u001b[0m\u001b[0mresponse\u001b[0m\u001b[0;34m)\u001b[0m\u001b[0;34m\u001b[0m\u001b[0;34m\u001b[0m\u001b[0m\n\u001b[0m\u001b[1;32m    322\u001b[0m             response['value'] = self._unwrap_value(\n\u001b[1;32m    323\u001b[0m                 response.get('value', None))\n",
      "\u001b[0;32m~/anaconda2/envs/py35/lib/python3.6/site-packages/selenium/webdriver/remote/errorhandler.py\u001b[0m in \u001b[0;36mcheck_response\u001b[0;34m(self, response)\u001b[0m\n\u001b[1;32m    240\u001b[0m                 \u001b[0malert_text\u001b[0m \u001b[0;34m=\u001b[0m \u001b[0mvalue\u001b[0m\u001b[0;34m[\u001b[0m\u001b[0;34m'alert'\u001b[0m\u001b[0;34m]\u001b[0m\u001b[0;34m.\u001b[0m\u001b[0mget\u001b[0m\u001b[0;34m(\u001b[0m\u001b[0;34m'text'\u001b[0m\u001b[0;34m)\u001b[0m\u001b[0;34m\u001b[0m\u001b[0;34m\u001b[0m\u001b[0m\n\u001b[1;32m    241\u001b[0m             \u001b[0;32mraise\u001b[0m \u001b[0mexception_class\u001b[0m\u001b[0;34m(\u001b[0m\u001b[0mmessage\u001b[0m\u001b[0;34m,\u001b[0m \u001b[0mscreen\u001b[0m\u001b[0;34m,\u001b[0m \u001b[0mstacktrace\u001b[0m\u001b[0;34m,\u001b[0m \u001b[0malert_text\u001b[0m\u001b[0;34m)\u001b[0m\u001b[0;34m\u001b[0m\u001b[0;34m\u001b[0m\u001b[0m\n\u001b[0;32m--> 242\u001b[0;31m         \u001b[0;32mraise\u001b[0m \u001b[0mexception_class\u001b[0m\u001b[0;34m(\u001b[0m\u001b[0mmessage\u001b[0m\u001b[0;34m,\u001b[0m \u001b[0mscreen\u001b[0m\u001b[0;34m,\u001b[0m \u001b[0mstacktrace\u001b[0m\u001b[0;34m)\u001b[0m\u001b[0;34m\u001b[0m\u001b[0;34m\u001b[0m\u001b[0m\n\u001b[0m\u001b[1;32m    243\u001b[0m \u001b[0;34m\u001b[0m\u001b[0m\n\u001b[1;32m    244\u001b[0m     \u001b[0;32mdef\u001b[0m \u001b[0m_value_or_default\u001b[0m\u001b[0;34m(\u001b[0m\u001b[0mself\u001b[0m\u001b[0;34m,\u001b[0m \u001b[0mobj\u001b[0m\u001b[0;34m,\u001b[0m \u001b[0mkey\u001b[0m\u001b[0;34m,\u001b[0m \u001b[0mdefault\u001b[0m\u001b[0;34m)\u001b[0m\u001b[0;34m:\u001b[0m\u001b[0;34m\u001b[0m\u001b[0;34m\u001b[0m\u001b[0m\n",
      "\u001b[0;31mStaleElementReferenceException\u001b[0m: Message: stale element reference: element is not attached to the page document\n  (Session info: chrome=71.0.3578.98)\n  (Driver info: chromedriver=2.43.600229 (3fae4d0cda5334b4f533bede5a4787f7b832d052),platform=Mac OS X 10.14.1 x86_64)\n"
     ]
    }
   ],
   "source": [
    "whoop=pd.DataFrame(columns=['strain','recovery','sleep_perf','sleep','rec_sleep','date'])\n",
    "num=0\n",
    "date=['a']\n",
    "while date[0].strip()!='Tue, May 29th' or num<300:\n",
    "    browser.implicitly_wait(10)\n",
    "    day=browser.find_element_by_class_name(\"datepicker--label\")\n",
    "    date=[day.text]\n",
    "    scores=browser.find_elements_by_class_name('score')\n",
    "    score_list=[x.text for x in scores]\n",
    "    whoop.loc[len(whoop)]=score_list[:5]+date\n",
    "    back=browser.find_element_by_class_name('datepicker--prev')\n",
    "    back.click()\n",
    "    num+=1\n",
    "    print(date[0])"
   ]
  },
  {
   "cell_type": "code",
   "execution_count": 202,
   "metadata": {},
   "outputs": [
    {
     "data": {
      "text/plain": [
       "[<selenium.webdriver.remote.webelement.WebElement (session=\"d07f868c969de8b3a0ae540d52d821a8\", element=\"0.7655306361203951-2\")>,\n",
       " <selenium.webdriver.remote.webelement.WebElement (session=\"d07f868c969de8b3a0ae540d52d821a8\", element=\"0.7655306361203951-41\")>,\n",
       " <selenium.webdriver.remote.webelement.WebElement (session=\"d07f868c969de8b3a0ae540d52d821a8\", element=\"0.7655306361203951-42\")>,\n",
       " <selenium.webdriver.remote.webelement.WebElement (session=\"d07f868c969de8b3a0ae540d52d821a8\", element=\"0.7655306361203951-43\")>,\n",
       " <selenium.webdriver.remote.webelement.WebElement (session=\"d07f868c969de8b3a0ae540d52d821a8\", element=\"0.7655306361203951-6\")>,\n",
       " <selenium.webdriver.remote.webelement.WebElement (session=\"d07f868c969de8b3a0ae540d52d821a8\", element=\"0.7655306361203951-53\")>,\n",
       " <selenium.webdriver.remote.webelement.WebElement (session=\"d07f868c969de8b3a0ae540d52d821a8\", element=\"0.7655306361203951-56\")>,\n",
       " <selenium.webdriver.remote.webelement.WebElement (session=\"d07f868c969de8b3a0ae540d52d821a8\", element=\"0.7655306361203951-57\")>]"
      ]
     },
     "execution_count": 202,
     "metadata": {},
     "output_type": "execute_result"
    }
   ],
   "source": [
    "scores"
   ]
  },
  {
   "cell_type": "code",
   "execution_count": 144,
   "metadata": {
    "collapsed": true
   },
   "outputs": [],
   "source": [
    "months=browser.find_element_by_xpath('/html/body/ui-view/div[4]/main/ui-view/div/ui-view/div/div[2]/div[1]/duration-picker/div/section[2]/button[1]')\n",
    "months.click()"
   ]
  },
  {
   "cell_type": "code",
   "execution_count": 40,
   "metadata": {
    "collapsed": true
   },
   "outputs": [],
   "source": [
    "data=browser.page_source"
   ]
  },
  {
   "cell_type": "code",
   "execution_count": 147,
   "metadata": {
    "collapsed": true
   },
   "outputs": [],
   "source": [
    "cont=BS(data,'html.parser')"
   ]
  },
  {
   "cell_type": "code",
   "execution_count": 68,
   "metadata": {
    "collapsed": true
   },
   "outputs": [],
   "source": [
    "import re"
   ]
  },
  {
   "cell_type": "code",
   "execution_count": 82,
   "metadata": {},
   "outputs": [
    {
     "data": {
      "text/plain": [
       "'115'"
      ]
     },
     "execution_count": 82,
     "metadata": {},
     "output_type": "execute_result"
    }
   ],
   "source": [
    "re.search(\"\\d{3}\",'left: 115px; top: 264px;').group()"
   ]
  },
  {
   "cell_type": "code",
   "execution_count": 149,
   "metadata": {},
   "outputs": [
    {
     "name": "stdout",
     "output_type": "stream",
     "text": [
      "<div class=\"point recovery strain-strenuous recovery-medium\" style=\"left: 0px; top: 180px;\"></div>\n",
      "<div class=\"point recovery strain-minimal recovery-low\" style=\"left: 5px; top: 275px;\"></div>\n",
      "<div class=\"point recovery strain-all-out recovery-low\" style=\"left: 9px; top: 257px;\"></div>\n",
      "<div class=\"point recovery strain-strenuous recovery-low\" style=\"left: 14px; top: 250px;\"></div>\n",
      "<div class=\"point recovery strain-minimal recovery-low\" style=\"left: 18px; top: 246px;\"></div>\n",
      "<div class=\"point recovery strain-moderate recovery-low\" style=\"left: 23px; top: 239px;\"></div>\n",
      "<div class=\"point recovery strain-moderate recovery-low\" style=\"left: 28px; top: 271px;\"></div>\n",
      "<div class=\"point recovery strain-moderate recovery-high\" style=\"left: 32px; top: 113px;\"></div>\n",
      "<div class=\"point recovery strain-strenuous recovery-medium\" style=\"left: 37px; top: 141px;\"></div>\n",
      "<div class=\"point recovery strain-moderate recovery-medium\" style=\"left: 41px; top: 197px;\"></div>\n",
      "<div class=\"point recovery strain-moderate recovery-low\" style=\"left: 46px; top: 271px;\"></div>\n",
      "<div class=\"point recovery strain-minimal recovery-high\" style=\"left: 51px; top: 49px;\"></div>\n",
      "<div class=\"point recovery strain-moderate recovery-high\" style=\"left: 55px; top: 21px;\"></div>\n",
      "<div class=\"point recovery strain-all-out recovery-low\" style=\"left: 60px; top: 282px;\"></div>\n",
      "<div class=\"point recovery strain-moderate recovery-medium\" style=\"left: 65px; top: 180px;\"></div>\n",
      "<div class=\"point recovery strain-moderate recovery-medium\" style=\"left: 69px; top: 197px;\"></div>\n",
      "<div class=\"point recovery strain-minimal recovery-low\" style=\"left: 74px; top: 285px;\"></div>\n",
      "<div class=\"point recovery strain-strenuous recovery-medium\" style=\"left: 78px; top: 180px;\"></div>\n",
      "<div class=\"point recovery strain-moderate recovery-medium\" style=\"left: 83px; top: 158px;\"></div>\n",
      "<div class=\"point recovery strain-minimal recovery-high\" style=\"left: 88px; top: 106px;\"></div>\n",
      "<div class=\"point recovery strain-all-out recovery-medium\" style=\"left: 92px; top: 137px;\"></div>\n",
      "<div class=\"point recovery strain-strenuous recovery-low\" style=\"left: 97px; top: 246px;\"></div>\n",
      "<div class=\"point recovery strain-minimal recovery-medium\" style=\"left: 101px; top: 232px;\"></div>\n",
      "<div class=\"point recovery strain-minimal recovery-medium\" style=\"left: 106px; top: 197px;\"></div>\n",
      "<div class=\"point recovery strain-minimal recovery-low\" style=\"left: 111px; top: 264px;\"></div>\n",
      "<div class=\"point recovery strain-strenuous recovery-low\" style=\"left: 115px; top: 264px;\"></div>\n",
      "<div class=\"point recovery strain-all-out recovery-high\" style=\"left: 120px; top: 53px;\"></div>\n",
      "<div class=\"point recovery strain-minimal recovery-low\" style=\"left: 124px; top: 310px;\"></div>\n",
      "<div class=\"point recovery strain-strenuous recovery-high\" style=\"left: 129px; top: 109px;\"></div>\n",
      "<div class=\"point recovery strain-moderate recovery-high\" style=\"left: 134px; top: 28px;\"></div>\n",
      "<div class=\"point recovery strain-moderate recovery-medium\" style=\"left: 138px; top: 190px;\"></div>\n",
      "<div class=\"point recovery strain-moderate recovery-medium\" style=\"left: 143px; top: 169px;\"></div>\n",
      "<div class=\"point recovery strain-moderate recovery-medium\" style=\"left: 148px; top: 158px;\"></div>\n",
      "<div class=\"point recovery strain-all-out recovery-high\" style=\"left: 152px; top: 14px;\"></div>\n",
      "<div class=\"point recovery strain-moderate recovery-medium\" style=\"left: 157px; top: 218px;\"></div>\n",
      "<div class=\"point recovery strain-strenuous recovery-medium\" style=\"left: 161px; top: 148px;\"></div>\n",
      "<div class=\"point recovery strain-moderate recovery-medium\" style=\"left: 166px; top: 162px;\"></div>\n",
      "<div class=\"point recovery strain-strenuous recovery-medium\" style=\"left: 175px; top: 232px;\"></div>\n",
      "<div class=\"point recovery strain-moderate recovery-low\" style=\"left: 180px; top: 292px;\"></div>\n",
      "<div class=\"point recovery strain-all-out recovery-high\" style=\"left: 184px; top: 53px;\"></div>\n",
      "<div class=\"point recovery strain-moderate recovery-low\" style=\"left: 189px; top: 306px;\"></div>\n",
      "<div class=\"point recovery strain-strenuous recovery-medium\" style=\"left: 194px; top: 127px;\"></div>\n",
      "<div class=\"point recovery strain-moderate recovery-high\" style=\"left: 198px; top: 88px;\"></div>\n",
      "<div class=\"point recovery strain-moderate recovery-medium\" style=\"left: 203px; top: 215px;\"></div>\n",
      "<div class=\"point recovery strain-strenuous recovery-medium\" style=\"left: 212px; top: 218px;\"></div>\n",
      "<div class=\"point recovery strain-all-out recovery-medium\" style=\"left: 217px; top: 225px;\"></div>\n",
      "<div class=\"point recovery strain-strenuous recovery-low\" style=\"left: 221px; top: 257px;\"></div>\n",
      "<div class=\"point recovery strain-moderate recovery-low\" style=\"left: 226px; top: 253px;\"></div>\n",
      "<div class=\"point recovery strain-moderate recovery-medium\" style=\"left: 231px; top: 183px;\"></div>\n",
      "<div class=\"point recovery strain-moderate recovery-low\" style=\"left: 235px; top: 268px;\"></div>\n",
      "<div class=\"point recovery strain-strenuous recovery-high\" style=\"left: 240px; top: 46px;\"></div>\n",
      "<div class=\"point recovery strain-minimal recovery-low\" style=\"left: 244px; top: 278px;\"></div>\n",
      "<div class=\"point recovery strain-all-out recovery-medium\" style=\"left: 249px; top: 183px;\"></div>\n",
      "<div class=\"point recovery strain-all-out recovery-low\" style=\"left: 254px; top: 278px;\"></div>\n",
      "<div class=\"point recovery strain-moderate recovery-medium\" style=\"left: 258px; top: 229px;\"></div>\n",
      "<div class=\"point recovery strain-moderate recovery-high\" style=\"left: 263px; top: 81px;\"></div>\n",
      "<div class=\"point recovery strain-strenuous recovery-low\" style=\"left: 267px; top: 264px;\"></div>\n",
      "<div class=\"point recovery strain-moderate recovery-medium\" style=\"left: 272px; top: 190px;\"></div>\n",
      "<div class=\"point recovery strain-minimal recovery-low\" style=\"left: 277px; top: 289px;\"></div>\n",
      "<div class=\"point recovery strain-all-out recovery-high\" style=\"left: 281px; top: 88px;\"></div>\n",
      "<div class=\"point recovery strain-strenuous recovery-low\" style=\"left: 286px; top: 260px;\"></div>\n",
      "<div class=\"point recovery strain-all-out recovery-low\" style=\"left: 290px; top: 268px;\"></div>\n",
      "<div class=\"point recovery strain-minimal recovery-medium\" style=\"left: 295px; top: 229px;\"></div>\n",
      "<div class=\"point recovery strain-strenuous recovery-medium\" style=\"left: 300px; top: 183px;\"></div>\n",
      "<div class=\"point recovery strain-strenuous recovery-medium\" style=\"left: 304px; top: 187px;\"></div>\n",
      "<div class=\"point recovery strain-moderate recovery-low\" style=\"left: 309px; top: 246px;\"></div>\n",
      "<div class=\"point recovery strain-strenuous recovery-high\" style=\"left: 314px; top: 21px;\"></div>\n",
      "<div class=\"point recovery strain-strenuous recovery-high\" style=\"left: 318px; top: 53px;\"></div>\n",
      "<div class=\"point recovery strain-strenuous recovery-medium\" style=\"left: 323px; top: 141px;\"></div>\n",
      "<div class=\"point recovery strain-moderate recovery-medium\" style=\"left: 327px; top: 130px;\"></div>\n",
      "<div class=\"point recovery strain-minimal recovery-medium\" style=\"left: 332px; top: 151px;\"></div>\n",
      "<div class=\"point recovery strain-strenuous recovery-high\" style=\"left: 337px; top: 67px;\"></div>\n",
      "<div class=\"point recovery strain-strenuous recovery-low\" style=\"left: 341px; top: 268px;\"></div>\n",
      "<div class=\"point recovery strain-all-out recovery-low\" style=\"left: 346px; top: 306px;\"></div>\n",
      "<div class=\"point recovery strain-moderate recovery-low\" style=\"left: 350px; top: 268px;\"></div>\n",
      "<div class=\"point recovery strain-minimal recovery-low\" style=\"left: 355px; top: 264px;\"></div>\n",
      "<div class=\"point recovery strain-moderate recovery-high\" style=\"left: 360px; top: 42px;\"></div>\n",
      "<div class=\"point recovery strain-moderate recovery-low\" style=\"left: 364px; top: 239px;\"></div>\n",
      "<div class=\"point recovery strain-moderate recovery-low\" style=\"left: 369px; top: 257px;\"></div>\n",
      "<div class=\"point recovery strain-moderate recovery-low\" style=\"left: 373px; top: 250px;\"></div>\n",
      "<div class=\"point recovery strain-all-out recovery-high\" style=\"left: 378px; top: 77px;\"></div>\n",
      "<div class=\"point recovery strain-moderate recovery-low\" style=\"left: 383px; top: 282px;\"></div>\n",
      "<div class=\"point recovery strain-moderate recovery-medium\" style=\"left: 387px; top: 222px;\"></div>\n",
      "<div class=\"point recovery strain-moderate recovery-low\" style=\"left: 392px; top: 260px;\"></div>\n",
      "<div class=\"point recovery strain-strenuous recovery-medium\" style=\"left: 397px; top: 225px;\"></div>\n",
      "<div class=\"point recovery strain-moderate recovery-medium\" style=\"left: 401px; top: 155px;\"></div>\n",
      "<div class=\"point recovery strain-moderate recovery-low\" style=\"left: 406px; top: 246px;\"></div>\n",
      "<div class=\"point recovery strain-all-out recovery-low\" style=\"left: 410px; top: 239px;\"></div>\n",
      "<div class=\"point recovery strain-moderate recovery-low\" style=\"left: 415px; top: 260px;\"></div>\n",
      "<div class=\"point recovery strain-minimal recovery-medium\" style=\"left: 420px; top: 180px;\"></div>\n",
      "<div class=\"point recovery strain-moderate recovery-medium\" style=\"left: 424px; top: 144px;\"></div>\n",
      "<div class=\"point recovery strain-all-out recovery-high\" style=\"left: 429px; top: 46px;\"></div>\n",
      "<div class=\"point recovery strain-moderate recovery-medium\" style=\"left: 433px; top: 162px;\"></div>\n",
      "<div class=\"point recovery strain-moderate recovery-low\" style=\"left: 438px; top: 257px;\"></div>\n",
      "<div class=\"point recovery strain-moderate recovery-medium\" style=\"left: 443px; top: 218px;\"></div>\n",
      "<div class=\"point recovery strain-all-out recovery-high\" style=\"left: 447px; top: 25px;\"></div>\n",
      "<div class=\"point recovery strain-moderate recovery-low\" style=\"left: 452px; top: 303px;\"></div>\n",
      "<div class=\"point recovery strain-strenuous recovery-high\" style=\"left: 456px; top: 92px;\"></div>\n",
      "<div class=\"point recovery strain-moderate recovery-medium\" style=\"left: 461px; top: 225px;\"></div>\n",
      "<div class=\"point recovery strain-strenuous recovery-low\" style=\"left: 466px; top: 268px;\"></div>\n",
      "<div class=\"point recovery strain-strenuous recovery-high\" style=\"left: 470px; top: 56px;\"></div>\n",
      "<div class=\"point recovery strain-strenuous recovery-high\" style=\"left: 475px; top: 39px;\"></div>\n",
      "<div class=\"point recovery strain-strenuous recovery-low\" style=\"left: 480px; top: 289px;\"></div>\n",
      "<div class=\"point recovery strain-strenuous recovery-high\" style=\"left: 484px; top: 88px;\"></div>\n",
      "<div class=\"point recovery strain-moderate recovery-medium\" style=\"left: 489px; top: 137px;\"></div>\n",
      "<div class=\"point recovery strain-strenuous recovery-medium\" style=\"left: 493px; top: 232px;\"></div>\n",
      "<div class=\"point recovery strain-moderate recovery-medium\" style=\"left: 498px; top: 229px;\"></div>\n",
      "<div class=\"point recovery strain-moderate recovery-high\" style=\"left: 503px; top: 53px;\"></div>\n",
      "<div class=\"point recovery strain-strenuous recovery-low\" style=\"left: 507px; top: 296px;\"></div>\n",
      "<div class=\"point recovery strain-moderate recovery-medium\" style=\"left: 512px; top: 208px;\"></div>\n",
      "<div class=\"point recovery strain-strenuous recovery-high\" style=\"left: 516px; top: 35px;\"></div>\n",
      "<div class=\"point recovery strain-moderate recovery-medium\" style=\"left: 521px; top: 222px;\"></div>\n",
      "<div class=\"point recovery strain-all-out recovery-medium\" style=\"left: 526px; top: 180px;\"></div>\n",
      "<div class=\"point recovery strain-moderate recovery-medium\" style=\"left: 530px; top: 229px;\"></div>\n",
      "<div class=\"point recovery strain-minimal recovery-low\" style=\"left: 535px; top: 285px;\"></div>\n",
      "<div class=\"point recovery strain-all-out recovery-medium\" style=\"left: 539px; top: 134px;\"></div>\n",
      "<div class=\"point recovery strain-moderate recovery-low\" style=\"left: 544px; top: 236px;\"></div>\n",
      "<div class=\"point recovery strain-strenuous recovery-medium\" style=\"left: 549px; top: 130px;\"></div>\n",
      "<div class=\"point recovery strain-moderate recovery-medium\" style=\"left: 553px; top: 218px;\"></div>\n",
      "<div class=\"point recovery strain-strenuous recovery-high\" style=\"left: 558px; top: 53px;\"></div>\n",
      "<div class=\"point recovery strain-strenuous recovery-high\" style=\"left: 563px; top: 18px;\"></div>\n",
      "<div class=\"point recovery strain-moderate recovery-low\" style=\"left: 567px; top: 264px;\"></div>\n",
      "<div class=\"point recovery strain-strenuous recovery-low\" style=\"left: 572px; top: 253px;\"></div>\n",
      "<div class=\"point recovery strain-strenuous recovery-medium\" style=\"left: 576px; top: 225px;\"></div>\n",
      "<div class=\"point recovery strain-minimal recovery-low\" style=\"left: 581px; top: 239px;\"></div>\n",
      "<div class=\"point recovery strain-moderate recovery-low\" style=\"left: 586px; top: 278px;\"></div>\n",
      "<div class=\"point recovery strain-strenuous recovery-low\" style=\"left: 590px; top: 268px;\"></div>\n",
      "<div class=\"point recovery strain-moderate recovery-low\" style=\"left: 595px; top: 239px;\"></div>\n",
      "<div class=\"point recovery strain-moderate recovery-low\" style=\"left: 600px; top: 246px;\"></div>\n",
      "<div class=\"point recovery strain-all-out recovery-low\" style=\"left: 604px; top: 313px;\"></div>\n",
      "<div class=\"point recovery strain-moderate recovery-low\" style=\"left: 609px; top: 296px;\"></div>\n",
      "<div class=\"point recovery strain-strenuous recovery-medium\" style=\"left: 613px; top: 225px;\"></div>\n",
      "<div class=\"point recovery strain-moderate recovery-medium\" style=\"left: 618px; top: 162px;\"></div>\n",
      "<div class=\"point recovery strain-strenuous recovery-medium\" style=\"left: 623px; top: 144px;\"></div>\n",
      "<div class=\"point recovery strain-moderate recovery-low\" style=\"left: 627px; top: 250px;\"></div>\n",
      "<div class=\"point recovery strain-all-out recovery-low\" style=\"left: 632px; top: 239px;\"></div>\n",
      "<div class=\"point recovery strain-strenuous recovery-low\" style=\"left: 637px; top: 313px;\"></div>\n",
      "<div class=\"point recovery strain-all-out recovery-low\" style=\"left: 641px; top: 278px;\"></div>\n",
      "<div class=\"point recovery strain-moderate recovery-low\" style=\"left: 646px; top: 236px;\"></div>\n",
      "<div class=\"point recovery strain-strenuous recovery-high\" style=\"left: 650px; top: 60px;\"></div>\n",
      "<div class=\"point recovery strain-strenuous recovery-medium\" style=\"left: 655px; top: 130px;\"></div>\n",
      "<div class=\"point recovery strain-all-out recovery-low\" style=\"left: 660px; top: 268px;\"></div>\n",
      "<div class=\"point recovery strain-strenuous recovery-low\" style=\"left: 664px; top: 236px;\"></div>\n",
      "<div class=\"point recovery strain-minimal recovery-low\" style=\"left: 669px; top: 268px;\"></div>\n",
      "<div class=\"point recovery strain-strenuous recovery-medium\" style=\"left: 673px; top: 204px;\"></div>\n",
      "<div class=\"point recovery strain-moderate recovery-medium\" style=\"left: 678px; top: 148px;\"></div>\n",
      "<div class=\"point recovery strain-moderate recovery-medium\" style=\"left: 683px; top: 218px;\"></div>\n",
      "<div class=\"point recovery strain-strenuous recovery-medium\" style=\"left: 687px; top: 222px;\"></div>\n",
      "<div class=\"point recovery strain-moderate recovery-medium\" style=\"left: 692px; top: 222px;\"></div>\n",
      "<div class=\"point recovery strain-moderate recovery-low\" style=\"left: 696px; top: 253px;\"></div>\n",
      "<div class=\"point recovery strain-strenuous recovery-medium\" style=\"left: 701px; top: 225px;\"></div>\n",
      "<div class=\"point recovery strain-minimal recovery-low\" style=\"left: 706px; top: 257px;\"></div>\n",
      "<div class=\"point recovery strain-strenuous recovery-high\" style=\"left: 710px; top: 106px;\"></div>\n",
      "<div class=\"point recovery strain-moderate recovery-medium\" style=\"left: 715px; top: 197px;\"></div>\n",
      "<div class=\"point recovery strain-strenuous recovery-high\" style=\"left: 720px; top: 53px;\"></div>\n",
      "<div class=\"point recovery strain-moderate recovery-high\" style=\"left: 724px; top: 116px;\"></div>\n",
      "<div class=\"point recovery strain-moderate recovery-high\" style=\"left: 729px; top: 63px;\"></div>\n",
      "<div class=\"point recovery strain-all-out recovery-medium\" style=\"left: 733px; top: 211px;\"></div>\n",
      "<div class=\"point recovery strain-strenuous recovery-high\" style=\"left: 738px; top: 11px;\"></div>\n",
      "<div class=\"point recovery strain-moderate recovery-medium\" style=\"left: 743px; top: 187px;\"></div>\n",
      "<div class=\"point recovery strain-strenuous recovery-high\" style=\"left: 747px; top: 18px;\"></div>\n",
      "<div class=\"point recovery strain-moderate recovery-medium\" style=\"left: 752px; top: 208px;\"></div>\n",
      "<div class=\"point recovery strain-strenuous recovery-medium\" style=\"left: 756px; top: 130px;\"></div>\n",
      "<div class=\"point recovery strain-strenuous recovery-high\" style=\"left: 761px; top: 109px;\"></div>\n",
      "<div class=\"point recovery strain-all-out recovery-low\" style=\"left: 766px; top: 289px;\"></div>\n",
      "<div class=\"point recovery strain-strenuous recovery-high\" style=\"left: 770px; top: 25px;\"></div>\n",
      "<div class=\"point recovery strain-strenuous recovery-high\" style=\"left: 775px; top: 49px;\"></div>\n",
      "<div class=\"point recovery strain-minimal recovery-medium\" style=\"left: 779px; top: 180px;\"></div>\n",
      "<div class=\"point recovery strain-minimal recovery-medium\" style=\"left: 784px; top: 183px;\"></div>\n",
      "<div class=\"point recovery strain-all-out recovery-low\" style=\"left: 789px; top: 236px;\"></div>\n",
      "<div class=\"point recovery strain-moderate recovery-medium\" style=\"left: 793px; top: 197px;\"></div>\n",
      "<div class=\"point recovery strain-all-out recovery-high\" style=\"left: 798px; top: 63px;\"></div>\n",
      "<div class=\"point recovery strain-moderate recovery-medium\" style=\"left: 803px; top: 194px;\"></div>\n",
      "<div class=\"point recovery strain-strenuous recovery-high\" style=\"left: 807px; top: 109px;\"></div>\n",
      "<div class=\"point recovery strain-strenuous recovery-low\" style=\"left: 816px; top: 289px;\"></div>\n",
      "<div class=\"point recovery strain-minimal recovery-medium\" style=\"left: 821px; top: 144px;\"></div>\n",
      "<div class=\"point recovery strain-moderate recovery-low\" style=\"left: 826px; top: 296px;\"></div>\n",
      "<div class=\"point recovery strain-moderate recovery-low\" style=\"left: 830px; top: 246px;\"></div>\n",
      "<div class=\"point recovery strain-all-out recovery-low\" style=\"left: 835px; top: 296px;\"></div>\n",
      "<div class=\"point recovery strain-moderate recovery-medium\" style=\"left: 839px; top: 225px;\"></div>\n",
      "<div class=\"point recovery strain-strenuous recovery-medium selected-day\" style=\"left: 844px; top: 222px;\"></div>\n"
     ]
    }
   ],
   "source": [
    "graphs=cont.find_all('graph-points', attrs={'graph-series':['recoverySeries','strainSeries']})\n",
    "points=[]\n",
    "for d in graphs[0].find_all('div'):\n",
    "    px=re.search(\"(\\d{3}|\\d{2})\",d.get('style')).group()\n",
    "    points.append(px)\n",
    "    print(d)"
   ]
  },
  {
   "cell_type": "code",
   "execution_count": 146,
   "metadata": {},
   "outputs": [
    {
     "ename": "AttributeError",
     "evalue": "'WebElement' object has no attribute 'load'",
     "output_type": "error",
     "traceback": [
      "\u001b[0;31m---------------------------------------------------------------------------\u001b[0m",
      "\u001b[0;31mAttributeError\u001b[0m                            Traceback (most recent call last)",
      "\u001b[0;32m<ipython-input-146-56975fb5ed40>\u001b[0m in \u001b[0;36m<module>\u001b[0;34m()\u001b[0m\n\u001b[1;32m      1\u001b[0m \u001b[0mhover\u001b[0m\u001b[0;34m=\u001b[0m\u001b[0mbrowser\u001b[0m\u001b[0;34m.\u001b[0m\u001b[0mfind_element_by_tag_name\u001b[0m\u001b[0;34m(\u001b[0m\u001b[0;34m'graph-tracker'\u001b[0m\u001b[0;34m)\u001b[0m\u001b[0;31m#.find_element_by_tag_name('svg')\u001b[0m\u001b[0;34m\u001b[0m\u001b[0;34m\u001b[0m\u001b[0m\n\u001b[1;32m      2\u001b[0m \u001b[0;31m#browser.execute_script(\"arguments[0].set_attribute(style)\")\u001b[0m\u001b[0;34m\u001b[0m\u001b[0;34m\u001b[0m\u001b[0;34m\u001b[0m\u001b[0m\n\u001b[0;32m----> 3\u001b[0;31m \u001b[0mhover\u001b[0m\u001b[0;34m.\u001b[0m\u001b[0mload\u001b[0m\u001b[0;34m(\u001b[0m\u001b[0;34m)\u001b[0m\u001b[0;34m\u001b[0m\u001b[0;34m\u001b[0m\u001b[0m\n\u001b[0m\u001b[1;32m      4\u001b[0m \u001b[0;31m# hover=browser.find_element_by_tag_name('graph-tracker')#.find_element_by_tag_name('svg')\u001b[0m\u001b[0;34m\u001b[0m\u001b[0;34m\u001b[0m\u001b[0;34m\u001b[0m\u001b[0m\n\u001b[1;32m      5\u001b[0m \u001b[0;31m# hover.get_attribute(\"innerHTML\")\u001b[0m\u001b[0;34m\u001b[0m\u001b[0;34m\u001b[0m\u001b[0;34m\u001b[0m\u001b[0m\n",
      "\u001b[0;31mAttributeError\u001b[0m: 'WebElement' object has no attribute 'load'"
     ]
    }
   ],
   "source": [
    "hover=browser.find_element_by_tag_name('graph-tracker')#.find_element_by_tag_name('svg')\n",
    "#browser.execute_script(\"arguments[0].set_attribute(style)\")\n",
    "\n",
    "# hover=browser.find_element_by_tag_name('graph-tracker')#.find_element_by_tag_name('svg')\n",
    "# hover.get_attribute(\"innerHTML\")\n",
    "\n"
   ]
  },
  {
   "cell_type": "markdown",
   "metadata": {},
   "source": [
    "<svg class=\"hovered tracker hidden\" style=\"width: 120px; transform: translateX(143px);\">\n",
    "  <line x1=\"42.15\" x2=\"42.15\" y1=\"0\" y2=\"100%\" stroke-width=\"1\"></line>\n",
    "<circle cx=\"42.15\" r=\"5.3\" cy=\"158\" class=\"recovery strain-moderate recovery-medium\"></circle><circle cx=\"42.15\" r=\"5.3\" cy=\"145\" class=\"strain strain-moderate recovery-medium\"></circle></svg>"
   ]
  },
  {
   "cell_type": "markdown",
   "metadata": {},
   "source": [
    "<svg class=\"hovered tracker hidden\" style=\"width: 120px; transform: translateX(143px);\">\n",
    "  <line x1=\"42.15\" x2=\"42.15\" y1=\"0\" y2=\"100%\" stroke-width=\"1\"></line>\n",
    "<circle cx=\"42.15\" r=\"5.3\" cy=\"158\" class=\"recovery strain-moderate recovery-medium\"></circle><circle cx=\"42.15\" r=\"5.3\" cy=\"145\" class=\"strain strain-moderate recovery-medium\"></circle></svg>"
   ]
  },
  {
   "cell_type": "code",
   "execution_count": null,
   "metadata": {
    "collapsed": true
   },
   "outputs": [],
   "source": [
    "<svg class=\"hovered tracker hidden\" style=\"width: 120px; transform: translateX(143px);\">\n",
    "  <line x1=\"42.15\" x2=\"42.15\" y1=\"0\" y2=\"100%\" stroke-width=\"1\"></line>\n",
    "<circle cx=\"42.15\" r=\"5.3\" cy=\"158\" class=\"recovery strain-moderate recovery-medium\"></circle><circle cx=\"42.15\" r=\"5.3\" cy=\"145\" class=\"strain strain-moderate recovery-medium\"></circle></svg>"
   ]
  },
  {
   "cell_type": "code",
   "execution_count": 128,
   "metadata": {},
   "outputs": [
    {
     "ename": "SyntaxError",
     "evalue": "unexpected EOF while parsing (<ipython-input-128-94bdea4a75cc>, line 4)",
     "output_type": "error",
     "traceback": [
      "\u001b[0;36m  File \u001b[0;32m\"<ipython-input-128-94bdea4a75cc>\"\u001b[0;36m, line \u001b[0;32m4\u001b[0m\n\u001b[0;31m    #(\"title\").innerHTML = \"New text!\";\"\")\u001b[0m\n\u001b[0m                                          ^\u001b[0m\n\u001b[0;31mSyntaxError\u001b[0m\u001b[0;31m:\u001b[0m unexpected EOF while parsing\n"
     ]
    }
   ],
   "source": [
    "hover=browser.find_element_by_tag_name('graph-tracker').find_element_\n",
    "#browser.execute_sc`ript(hover.)\n",
    "\n",
    "\n",
    "#browser.execute_script(\"browser.find_element_by_xpath(\"\n",
    "                       #(\"title\").innerHTML = \"New text!\";\"\")"
   ]
  },
  {
   "cell_type": "code",
   "execution_count": 106,
   "metadata": {
    "scrolled": false
   },
   "outputs": [
    {
     "data": {
      "text/plain": [
       "'\\n  <line x1=\"42.15\" x2=\"42.15\" y1=\"0\" y2=\"100%\" stroke-width=\"1\"></line>\\n<circle cx=\"42.15\" r=\"5.3\" cy=\"180\" class=\"recovery strain-strenuous recovery-medium\"></circle><circle cx=\"42.15\" r=\"5.3\" cy=\"43\" class=\"strain strain-strenuous recovery-medium\"></circle>'"
      ]
     },
     "execution_count": 106,
     "metadata": {},
     "output_type": "execute_result"
    }
   ],
   "source": [
    "hover.get_attribute('innerHTML')"
   ]
  },
  {
   "cell_type": "code",
   "execution_count": null,
   "metadata": {
    "collapsed": true
   },
   "outputs": [],
   "source": []
  },
  {
   "cell_type": "code",
   "execution_count": null,
   "metadata": {
    "collapsed": true
   },
   "outputs": [],
   "source": []
  },
  {
   "cell_type": "code",
   "execution_count": null,
   "metadata": {
    "collapsed": true
   },
   "outputs": [],
   "source": []
  },
  {
   "cell_type": "code",
   "execution_count": null,
   "metadata": {
    "collapsed": true
   },
   "outputs": [],
   "source": []
  },
  {
   "cell_type": "code",
   "execution_count": null,
   "metadata": {
    "collapsed": true
   },
   "outputs": [],
   "source": []
  },
  {
   "cell_type": "code",
   "execution_count": null,
   "metadata": {
    "collapsed": true
   },
   "outputs": [],
   "source": []
  },
  {
   "cell_type": "code",
   "execution_count": null,
   "metadata": {
    "collapsed": true
   },
   "outputs": [],
   "source": []
  },
  {
   "cell_type": "code",
   "execution_count": null,
   "metadata": {
    "collapsed": true
   },
   "outputs": [],
   "source": []
  },
  {
   "cell_type": "code",
   "execution_count": null,
   "metadata": {
    "collapsed": true
   },
   "outputs": [],
   "source": [
    "url=\"https://www.strava.com/oauth/token\"\n",
    "rest=\"&grant_type:refresh_token&refresh_token:e2aca17c0295ff2d460f3ca1755c354fa15efd82\""
   ]
  },
  {
   "cell_type": "code",
   "execution_count": 19,
   "metadata": {
    "collapsed": true
   },
   "outputs": [],
   "source": [
    "r=requests.get(url+rest)"
   ]
  },
  {
   "cell_type": "code",
   "execution_count": 20,
   "metadata": {
    "collapsed": true
   },
   "outputs": [],
   "source": [
    "CLIENT_ID='15756'\n",
    "CLIENT_SECRET='4fa0d8ee1b178973ce553031c075f25bd22e9abe'\n",
    "tok='e2aca17c0295ff2d460f3ca1755c354fa15efd82'"
   ]
  },
  {
   "cell_type": "code",
   "execution_count": 73,
   "metadata": {
    "collapsed": true
   },
   "outputs": [],
   "source": [
    "def get_token(ref_token):\n",
    "    client_auth = requests.auth.HTTPBasicAuth(CLIENT_ID, CLIENT_SECRET)\n",
    "    post_data = {\"grant_type\": \"refresh_token\",\n",
    "                \"refresh_token\": ref_token}\n",
    "    response = requests.post(\"https://www.strava.com/oauth/token\",\n",
    "                            auth=client_auth,\n",
    "                            data=post_data)\n",
    "    token_json = response.json()\n",
    "    return token_json"
   ]
  },
  {
   "cell_type": "code",
   "execution_count": 74,
   "metadata": {},
   "outputs": [
    {
     "data": {
      "text/plain": [
       "{'errors': [{'code': 'invalid',\n",
       "   'field': 'client_id',\n",
       "   'resource': 'Application'}],\n",
       " 'message': 'Bad Request'}"
      ]
     },
     "execution_count": 74,
     "metadata": {},
     "output_type": "execute_result"
    }
   ],
   "source": [
    "get_token(tok)"
   ]
  },
  {
   "cell_type": "code",
   "execution_count": 27,
   "metadata": {
    "collapsed": true
   },
   "outputs": [],
   "source": [
    "# Initialize the dataframe\n",
    "col_names = ['id','type']\n",
    "activities = pd.DataFrame(columns=col_names)\n",
    "\n",
    "access_token = \"access_token=e2aca17c0295ff2d460f3ca1755c354fa15efd82\" # replace with your access token here\n",
    "url = \"https://www.strava.com/api/v3/activities\""
   ]
  },
  {
   "cell_type": "code",
   "execution_count": 28,
   "metadata": {},
   "outputs": [
    {
     "ename": "KeyError",
     "evalue": "0",
     "output_type": "error",
     "traceback": [
      "\u001b[0;31m---------------------------------------------------------------------------\u001b[0m",
      "\u001b[0;31mKeyError\u001b[0m                                  Traceback (most recent call last)",
      "\u001b[0;32m<ipython-input-28-e022a0f387a2>\u001b[0m in \u001b[0;36m<module>\u001b[0;34m()\u001b[0m\n\u001b[1;32m     13\u001b[0m     \u001b[0;31m# otherwise add new data to dataframe\u001b[0m\u001b[0;34m\u001b[0m\u001b[0;34m\u001b[0m\u001b[0;34m\u001b[0m\u001b[0m\n\u001b[1;32m     14\u001b[0m     \u001b[0;32mfor\u001b[0m \u001b[0mx\u001b[0m \u001b[0;32min\u001b[0m \u001b[0mrange\u001b[0m\u001b[0;34m(\u001b[0m\u001b[0mlen\u001b[0m\u001b[0;34m(\u001b[0m\u001b[0mr\u001b[0m\u001b[0;34m)\u001b[0m\u001b[0;34m)\u001b[0m\u001b[0;34m:\u001b[0m\u001b[0;34m\u001b[0m\u001b[0;34m\u001b[0m\u001b[0m\n\u001b[0;32m---> 15\u001b[0;31m         \u001b[0mactivities\u001b[0m\u001b[0;34m.\u001b[0m\u001b[0mloc\u001b[0m\u001b[0;34m[\u001b[0m\u001b[0mx\u001b[0m \u001b[0;34m+\u001b[0m \u001b[0;34m(\u001b[0m\u001b[0mpage\u001b[0m\u001b[0;34m-\u001b[0m\u001b[0;36m1\u001b[0m\u001b[0;34m)\u001b[0m\u001b[0;34m*\u001b[0m\u001b[0;36m50\u001b[0m\u001b[0;34m,\u001b[0m\u001b[0;34m'id'\u001b[0m\u001b[0;34m]\u001b[0m \u001b[0;34m=\u001b[0m \u001b[0mr\u001b[0m\u001b[0;34m[\u001b[0m\u001b[0mx\u001b[0m\u001b[0;34m]\u001b[0m\u001b[0;34m[\u001b[0m\u001b[0;34m'id'\u001b[0m\u001b[0;34m]\u001b[0m\u001b[0;34m\u001b[0m\u001b[0;34m\u001b[0m\u001b[0m\n\u001b[0m\u001b[1;32m     16\u001b[0m         \u001b[0mactivities\u001b[0m\u001b[0;34m.\u001b[0m\u001b[0mloc\u001b[0m\u001b[0;34m[\u001b[0m\u001b[0mx\u001b[0m \u001b[0;34m+\u001b[0m \u001b[0;34m(\u001b[0m\u001b[0mpage\u001b[0m\u001b[0;34m-\u001b[0m\u001b[0;36m1\u001b[0m\u001b[0;34m)\u001b[0m\u001b[0;34m*\u001b[0m\u001b[0;36m50\u001b[0m\u001b[0;34m,\u001b[0m\u001b[0;34m'type'\u001b[0m\u001b[0;34m]\u001b[0m \u001b[0;34m=\u001b[0m \u001b[0mr\u001b[0m\u001b[0;34m[\u001b[0m\u001b[0mx\u001b[0m\u001b[0;34m]\u001b[0m\u001b[0;34m[\u001b[0m\u001b[0;34m'type'\u001b[0m\u001b[0;34m]\u001b[0m\u001b[0;34m\u001b[0m\u001b[0;34m\u001b[0m\u001b[0m\n\u001b[1;32m     17\u001b[0m \u001b[0;34m\u001b[0m\u001b[0m\n",
      "\u001b[0;31mKeyError\u001b[0m: 0"
     ]
    }
   ],
   "source": [
    "page = 1\n",
    "\n",
    "while True:\n",
    "    \n",
    "    # get page of activities from Strava\n",
    "    r = requests.get(url + '?' + access_token + '&per_page=50' + '&page=' + str(page))\n",
    "    r = r.json()\n",
    "\n",
    "    # if no results then exit loop\n",
    "    if (not r):\n",
    "        break\n",
    "    \n",
    "    # otherwise add new data to dataframe\n",
    "    for x in range(len(r)):\n",
    "        activities.loc[x + (page-1)*50,'id'] = r[x]['id']\n",
    "        activities.loc[x + (page-1)*50,'type'] = r[x]['type']\n",
    "\n",
    "    # increment page\n",
    "    page += 1"
   ]
  },
  {
   "cell_type": "code",
   "execution_count": null,
   "metadata": {
    "collapsed": true
   },
   "outputs": [],
   "source": []
  },
  {
   "cell_type": "code",
   "execution_count": null,
   "metadata": {
    "collapsed": true
   },
   "outputs": [],
   "source": []
  },
  {
   "cell_type": "code",
   "execution_count": null,
   "metadata": {
    "collapsed": true
   },
   "outputs": [],
   "source": []
  }
 ],
 "metadata": {
  "kernelspec": {
   "display_name": "py35",
   "language": "python",
   "name": "py35"
  },
  "language_info": {
   "codemirror_mode": {
    "name": "ipython",
    "version": 3
   },
   "file_extension": ".py",
   "mimetype": "text/x-python",
   "name": "python",
   "nbconvert_exporter": "python",
   "pygments_lexer": "ipython3",
   "version": "3.6.7"
  }
 },
 "nbformat": 4,
 "nbformat_minor": 2
}
