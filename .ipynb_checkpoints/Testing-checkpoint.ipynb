{
 "cells": [
  {
   "cell_type": "code",
   "execution_count": 97,
   "metadata": {
    "collapsed": true
   },
   "outputs": [],
   "source": [
    "import pandas as pd\n",
    "import pygsheets\n",
    "import numpy as np"
   ]
  },
  {
   "cell_type": "code",
   "execution_count": 116,
   "metadata": {},
   "outputs": [],
   "source": [
    "gc = pygsheets.authorize(outh_file='/Users/irarickman/client_secret.json')\n",
    "file = 'Activity data'\n",
    "sh = gc.open(file)\n",
    "\n",
    "wks = sh[0]\n",
    "strav=wks.get_as_df(empty_value=np.nan)"
   ]
  },
  {
   "cell_type": "code",
   "execution_count": 137,
   "metadata": {},
   "outputs": [],
   "source": [
    "import requests\n",
    "import pandas as pd\n",
    "from selenium import webdriver\n",
    "from selenium.webdriver.common.keys import Keys\n",
    "from bs4 import BeautifulSoup as BS\n",
    "from selenium.webdriver.common.by import By\n",
    "from selenium.webdriver.support.ui import WebDriverWait\n",
    "from selenium.webdriver.support import expected_conditions as EC\n",
    "from selenium.common.exceptions import StaleElementReferenceException\n",
    "from selenium.webdriver.chrome.options import Options \n",
    "import configparser\n",
    "import time\n",
    "import datetime\n",
    "import swagger_client\n",
    "from swagger_client.rest import ApiException\n",
    "import pygsheets\n",
    "import math\n",
    "\n",
    "\n",
    "#authorization\n",
    "gc = pygsheets.authorize(outh_file='/Users/irarickman/client_secret.json')\n",
    "file = 'Activity data'\n",
    "sh = gc.open(file)\n",
    "\n",
    "wks_1 = sh[0]\n",
    "strav=wks_1.get_as_df(empty_value=np.nan)\n",
    "strav.dropna(how='all',inplace=True)\n",
    "\n",
    "wks_2=sh[1]\n",
    "whoo=wks_2.get_as_df(empty_value=np.nan)\n",
    "whoo.dropna(how='all',inplace=True)\n",
    "whoo.dropna(axis=1,how='all',inplace=True)\n"
   ]
  },
  {
   "cell_type": "code",
   "execution_count": 144,
   "metadata": {
    "collapsed": true
   },
   "outputs": [],
   "source": [
    "from selenium.webdriver.chrome.options import Options as cOptions"
   ]
  },
  {
   "cell_type": "code",
   "execution_count": 145,
   "metadata": {
    "collapsed": true
   },
   "outputs": [],
   "source": [
    "testopts=cOptions()"
   ]
  },
  {
   "cell_type": "code",
   "execution_count": 140,
   "metadata": {
    "collapsed": true
   },
   "outputs": [],
   "source": [
    "def get_strava(last_date=False):\n",
    "    ## Getting log in info\n",
    "    config = configparser.ConfigParser()\n",
    "    config.read(\"../strava.ini\")\n",
    "    params={'client_id':config['strava']['client_id'],\n",
    "            'client_secret':config['strava']['client_secret'],\n",
    "            'code':config['strava']['code']}\n",
    "    auth_url=config['strava']['auth_url']\n",
    "    ref_url=config['strava']['ref_url']\n",
    "    athlete_id=config['strava']['athlete_id']\n",
    "    \n",
    "    if not last_date:\n",
    "        ## Getting the most recent date\n",
    "        last_date=datetime.datetime.strptime(strav.start_date.max().split(' ')[0],\"%Y-%m-%d\")\n",
    "    else:\n",
    "        last_date=datetime.datetime.strptime(last_date,\"%Y-%m-%d\")\n",
    "    timestamp=last_date.timestamp()\n",
    "    delta=datetime.datetime.now() - last_date\n",
    "    date_diff=delta.days+5\n",
    "\n",
    "    r_auth = requests.post(auth_url, data=params)\n",
    "    response=r_auth.json()\n",
    "\n",
    "    configuration = swagger_client.Configuration()\n",
    "    configuration.access_token = response['access_token']\n",
    "\n",
    "    # create an instance of the API class\n",
    "    api_instance = swagger_client.ActivitiesApi(swagger_client.ApiClient(configuration))\n",
    "    if date_diff<200:\n",
    "        try:\n",
    "            # Get Authenticated Athlete\n",
    "            api_response = api_instance.get_logged_in_athlete_activities(after=timestamp, per_page=date_diff)\n",
    "        except ApiException as e:\n",
    "            print(\"Exception when calling AthletesApi->get_logged_in_athlete: {}\\n\".format(e))\n",
    "    else:\n",
    "        num_rounds=math.ceil(date_diff/200)\n",
    "        api_response=[]\n",
    "        for n in range(num_rounds):\n",
    "            if n==num_rounds:\n",
    "                page_num=date_diff-(200*(n-1))\n",
    "            else:\n",
    "                page_num=200\n",
    "            try:\n",
    "                # Get Authenticated Athlete\n",
    "                activities = api_instance.get_logged_in_athlete_activities(after=timestamp, page=n+1,per_page=page_num)\n",
    "            except ApiException as e:\n",
    "                print(\"Exception when calling AthletesApi->get_logged_in_athlete: {}\\n\".format(e))\n",
    "            api_response=api_response+activities\n",
    "                \n",
    "    example=list(api_response[len(api_response)-1].to_dict().keys())\n",
    "    example=[x for x in example if x not in ['map','athlete','start_latlng','end_latlng']]\n",
    "    dicts={}\n",
    "    for n in range(len(api_response)):\n",
    "        d=api_response[n].to_dict()\n",
    "        new_dict={variable:d[variable] for variable in example}\n",
    "        dicts[n]=new_dict\n",
    "\n",
    "    index=list(dicts.keys())\n",
    "    new_acts=pd.DataFrame([dicts[key] for key in index],index=index)\n",
    "    if len(strav)==0:\n",
    "        wks_1.set_dataframe(new_acts,(1,1))\n",
    "    else:\n",
    "        all_acts=pd.concat([new_acts,strav])\n",
    "        all_acts.drop_duplicates(inplace=True)\n",
    "        wks_1.set_dataframe(all_acts,(1,1))"
   ]
  },
  {
   "cell_type": "code",
   "execution_count": 152,
   "metadata": {},
   "outputs": [],
   "source": [
    "def get_whoop(most_recent=False):\n",
    "    \n",
    "    config = configparser.ConfigParser()\n",
    "    config.read(\"../strava.ini\")\n",
    "    \n",
    "    w='https://app.whoop.com/login'\n",
    "    \n",
    "    chrome_options = Options()  \n",
    "    chrome_options.add_argument(\"--headless\")  \n",
    "    chrome_options.binary_location = '/Applications/Google Chrome Canary.app/Contents/MacOS/Google Chrome Canary'\n",
    "\n",
    "    browser=webdriver.Chrome('/usr/local/bin/chromedriver',chrome_options=chrome_options)\n",
    "    browser.get(w)\n",
    "    \n",
    "    username=browser.find_element_by_name('username')\n",
    "    password=browser.find_element_by_name('password')\n",
    "    username.send_keys(config['whoop']['username'])\n",
    "    password.send_keys(config['whoop']['pass'])\n",
    "    submit=browser.find_element_by_name('form')\n",
    "    submit.click()\n",
    "    \n",
    "    def go_to_strain():\n",
    "        work=0\n",
    "        while work==0:\n",
    "            try:\n",
    "                strain_click=browser.find_elements_by_class_name('score')[0]\n",
    "                strain_click.click()\n",
    "                work=1\n",
    "            except (StaleElementReferenceException,IndexError):\n",
    "                work=0\n",
    "        \n",
    "    ## goal function is tos look for the activity - if it doesn't exist, then look for \"no activity\" \n",
    "## store the result, if the old activity strain is the same as the new\n",
    "\n",
    "    def get_activity_strain(old_strain,old_date):\n",
    "        work=0\n",
    "        while work==0:\n",
    "            try:\n",
    "                buttons=browser.find_elements_by_tag_name('button')\n",
    "                new_strain=[x.text for item in [x for x in [span.find_elements_by_tag_name('span') for span in [b for b in buttons if b.get_attribute(\"ng-click\")==\"click($event, activity.id)\"]]] for x in item]\n",
    "                if len(new_strain)==0:\n",
    "                    new_strains=[\"null\"]*6\n",
    "                elif len(new_strain)<7:\n",
    "                    new_strains=new_strain+['null']*(6-len(new_strain))\n",
    "                else:\n",
    "                    new_strains=new_strain\n",
    "                if old_strain!=new_strains:\n",
    "                    return new_strains\n",
    "                    work=1\n",
    "                elif old_date!=get_date(old_date):\n",
    "                    return new_strains\n",
    "                    work=1\n",
    "            except StaleElementReferencException:\n",
    "                work=0\n",
    "                 \n",
    "    def get_date(old_date):\n",
    "        work=0\n",
    "        while work==0:\n",
    "            try:\n",
    "                new_day=browser.find_element_by_class_name('datepicker--label')\n",
    "                new_date=new_day.text\n",
    "                if new_date!=old_date:\n",
    "                    return [new_date]\n",
    "                    work=1\n",
    "            except StaleElementReferenceException:\n",
    "                work=0\n",
    "            \n",
    "    def get_scores(old_scores):\n",
    "        work=0\n",
    "        while work==0:\n",
    "            try:\n",
    "                new_scores=browser.find_elements_by_class_name('score')\n",
    "                new_score_list=[x.text for x in new_scores]\n",
    "                if new_score_list!=old_scores:\n",
    "                    return new_score_list\n",
    "                    work=1\n",
    "            except StaleElementReferenceException:\n",
    "                work=0\n",
    "            \n",
    "    def get_button():\n",
    "        work=0\n",
    "        while work==0:\n",
    "            try: \n",
    "                #back=browser.find_element_by_class_name('datepicker--prev')\n",
    "                back=browser.find_element_by_xpath('/html/body/ui-view/div[4]/main/ui-view/div/ui-view/div/div[2]/div/datepicker/div/button[1]')\n",
    "                back.click()\n",
    "                #back.send_keys(Keys.ENTER)\n",
    "                work=1\n",
    "            except StaleElementReferenceException:\n",
    "                work=0\n",
    "\n",
    "    if not most_recent:\n",
    "        most_recent=whoo.date[0].split(', ')[1]\n",
    "    \n",
    "    new_whoop=pd.DataFrame(columns=['strain','recovery','sleep_perf','sleep','rec_sleep','date', \n",
    "                            'activity_1','activity_1_score','activity_2','activity_2_score',\n",
    "                           'activity_3','activity_3_score'])\n",
    "    num=0\n",
    "    old_date='today'\n",
    "    old_scores=['none']\n",
    "    old_strain=['null']\n",
    "    go_to_strain()\n",
    "    new_date=get_date(old_date)\n",
    "    while (new_date[0].split(', ')[1].strip().lower()!=most_recent and num<20):\n",
    "        new_date=get_date(old_date)\n",
    "        new_score=get_scores(old_scores)\n",
    "        strains=get_activity_strain(old_strain,old_date)\n",
    "        old_date=new_date\n",
    "        old_scores=new_score\n",
    "        old_strain=strains\n",
    "        new_whoop.loc[len(new_whoop)]=new_score[:5]+new_date+strains\n",
    "        get_button()\n",
    "        num+=1\n",
    "    print(new_whoop.columns, whoo.columns)\n",
    "#     all_whoop=pd.concat([new_whoop,whoo])\n",
    "#     all_whoop.drop_duplicates(inplace=True)\n",
    "#     if len(all_whoop)>=len(whoo):\n",
    "#         wks_2.set_dataframe(all_whoop,(1,1))"
   ]
  },
  {
   "cell_type": "code",
   "execution_count": 150,
   "metadata": {},
   "outputs": [
    {
     "name": "stdout",
     "output_type": "stream",
     "text": [
      "2\n",
      "3\n",
      "4\n",
      "5\n",
      "6\n",
      "7\n",
      "8\n",
      "9\n",
      "10\n",
      "11\n"
     ]
    }
   ],
   "source": [
    "a=1\n",
    "for n in range(10):\n",
    "    a+=1\n",
    "    print(a)"
   ]
  },
  {
   "cell_type": "code",
   "execution_count": 125,
   "metadata": {},
   "outputs": [],
   "source": [
    "get_strava(last_date='2018-04-01')"
   ]
  },
  {
   "cell_type": "code",
   "execution_count": 153,
   "metadata": {},
   "outputs": [
    {
     "name": "stderr",
     "output_type": "stream",
     "text": [
      "/Users/irarickman/anaconda2/envs/py35/lib/python3.6/site-packages/ipykernel_launcher.py:12: DeprecationWarning: use options instead of chrome_options\n",
      "  if sys.path[0] == '':\n"
     ]
    },
    {
     "ename": "NoSuchElementException",
     "evalue": "Message: no such element: Unable to locate element: {\"method\":\"xpath\",\"selector\":\"//*[@id=\"icon-ui-chevron-left\"]/path\"}\n  (Session info: headless chrome=75.0.3753.2)\n  (Driver info: chromedriver=2.43.600229 (3fae4d0cda5334b4f533bede5a4787f7b832d052),platform=Mac OS X 10.14.3 x86_64)\n",
     "output_type": "error",
     "traceback": [
      "\u001b[0;31m---------------------------------------------------------------------------\u001b[0m",
      "\u001b[0;31mNoSuchElementException\u001b[0m                    Traceback (most recent call last)",
      "\u001b[0;32m<ipython-input-153-8a788509ef8f>\u001b[0m in \u001b[0;36m<module>\u001b[0;34m()\u001b[0m\n\u001b[0;32m----> 1\u001b[0;31m \u001b[0mget_whoop\u001b[0m\u001b[0;34m(\u001b[0m\u001b[0;34m)\u001b[0m\u001b[0;34m\u001b[0m\u001b[0;34m\u001b[0m\u001b[0m\n\u001b[0m",
      "\u001b[0;32m<ipython-input-152-697e434260e6>\u001b[0m in \u001b[0;36mget_whoop\u001b[0;34m(most_recent)\u001b[0m\n\u001b[1;32m    110\u001b[0m         \u001b[0mold_strain\u001b[0m\u001b[0;34m=\u001b[0m\u001b[0mstrains\u001b[0m\u001b[0;34m\u001b[0m\u001b[0;34m\u001b[0m\u001b[0m\n\u001b[1;32m    111\u001b[0m         \u001b[0mnew_whoop\u001b[0m\u001b[0;34m.\u001b[0m\u001b[0mloc\u001b[0m\u001b[0;34m[\u001b[0m\u001b[0mlen\u001b[0m\u001b[0;34m(\u001b[0m\u001b[0mnew_whoop\u001b[0m\u001b[0;34m)\u001b[0m\u001b[0;34m]\u001b[0m\u001b[0;34m=\u001b[0m\u001b[0mnew_score\u001b[0m\u001b[0;34m[\u001b[0m\u001b[0;34m:\u001b[0m\u001b[0;36m5\u001b[0m\u001b[0;34m]\u001b[0m\u001b[0;34m+\u001b[0m\u001b[0mnew_date\u001b[0m\u001b[0;34m+\u001b[0m\u001b[0mstrains\u001b[0m\u001b[0;34m\u001b[0m\u001b[0;34m\u001b[0m\u001b[0m\n\u001b[0;32m--> 112\u001b[0;31m         \u001b[0mget_button\u001b[0m\u001b[0;34m(\u001b[0m\u001b[0;34m)\u001b[0m\u001b[0;34m\u001b[0m\u001b[0;34m\u001b[0m\u001b[0m\n\u001b[0m\u001b[1;32m    113\u001b[0m         \u001b[0mnum\u001b[0m\u001b[0;34m+=\u001b[0m\u001b[0;36m1\u001b[0m\u001b[0;34m\u001b[0m\u001b[0;34m\u001b[0m\u001b[0m\n\u001b[1;32m    114\u001b[0m     \u001b[0mprint\u001b[0m\u001b[0;34m(\u001b[0m\u001b[0mnew_whoop\u001b[0m\u001b[0;34m.\u001b[0m\u001b[0mcolumns\u001b[0m\u001b[0;34m,\u001b[0m \u001b[0mwhoo\u001b[0m\u001b[0;34m.\u001b[0m\u001b[0mcolumns\u001b[0m\u001b[0;34m)\u001b[0m\u001b[0;34m\u001b[0m\u001b[0;34m\u001b[0m\u001b[0m\n",
      "\u001b[0;32m<ipython-input-152-697e434260e6>\u001b[0m in \u001b[0;36mget_button\u001b[0;34m()\u001b[0m\n\u001b[1;32m     83\u001b[0m             \u001b[0;32mtry\u001b[0m\u001b[0;34m:\u001b[0m\u001b[0;34m\u001b[0m\u001b[0;34m\u001b[0m\u001b[0m\n\u001b[1;32m     84\u001b[0m                 \u001b[0;31m#back=browser.find_element_by_class_name('datepicker--prev')\u001b[0m\u001b[0;34m\u001b[0m\u001b[0;34m\u001b[0m\u001b[0;34m\u001b[0m\u001b[0m\n\u001b[0;32m---> 85\u001b[0;31m                 \u001b[0mback\u001b[0m\u001b[0;34m=\u001b[0m\u001b[0mbrowser\u001b[0m\u001b[0;34m.\u001b[0m\u001b[0mfind_element_by_xpath\u001b[0m\u001b[0;34m(\u001b[0m\u001b[0;34m'//*[@id=\"icon-ui-chevron-left\"]/path'\u001b[0m\u001b[0;34m)\u001b[0m\u001b[0;34m\u001b[0m\u001b[0;34m\u001b[0m\u001b[0m\n\u001b[0m\u001b[1;32m     86\u001b[0m                 \u001b[0mback\u001b[0m\u001b[0;34m.\u001b[0m\u001b[0mclick\u001b[0m\u001b[0;34m(\u001b[0m\u001b[0;34m)\u001b[0m\u001b[0;34m\u001b[0m\u001b[0;34m\u001b[0m\u001b[0m\n\u001b[1;32m     87\u001b[0m                 \u001b[0;31m#back.send_keys(Keys.ENTER)\u001b[0m\u001b[0;34m\u001b[0m\u001b[0;34m\u001b[0m\u001b[0;34m\u001b[0m\u001b[0m\n",
      "\u001b[0;32m~/anaconda2/envs/py35/lib/python3.6/site-packages/selenium/webdriver/remote/webdriver.py\u001b[0m in \u001b[0;36mfind_element_by_xpath\u001b[0;34m(self, xpath)\u001b[0m\n\u001b[1;32m    392\u001b[0m             \u001b[0melement\u001b[0m \u001b[0;34m=\u001b[0m \u001b[0mdriver\u001b[0m\u001b[0;34m.\u001b[0m\u001b[0mfind_element_by_xpath\u001b[0m\u001b[0;34m(\u001b[0m\u001b[0;34m'//div/td[1]'\u001b[0m\u001b[0;34m)\u001b[0m\u001b[0;34m\u001b[0m\u001b[0;34m\u001b[0m\u001b[0m\n\u001b[1;32m    393\u001b[0m         \"\"\"\n\u001b[0;32m--> 394\u001b[0;31m         \u001b[0;32mreturn\u001b[0m \u001b[0mself\u001b[0m\u001b[0;34m.\u001b[0m\u001b[0mfind_element\u001b[0m\u001b[0;34m(\u001b[0m\u001b[0mby\u001b[0m\u001b[0;34m=\u001b[0m\u001b[0mBy\u001b[0m\u001b[0;34m.\u001b[0m\u001b[0mXPATH\u001b[0m\u001b[0;34m,\u001b[0m \u001b[0mvalue\u001b[0m\u001b[0;34m=\u001b[0m\u001b[0mxpath\u001b[0m\u001b[0;34m)\u001b[0m\u001b[0;34m\u001b[0m\u001b[0;34m\u001b[0m\u001b[0m\n\u001b[0m\u001b[1;32m    395\u001b[0m \u001b[0;34m\u001b[0m\u001b[0m\n\u001b[1;32m    396\u001b[0m     \u001b[0;32mdef\u001b[0m \u001b[0mfind_elements_by_xpath\u001b[0m\u001b[0;34m(\u001b[0m\u001b[0mself\u001b[0m\u001b[0;34m,\u001b[0m \u001b[0mxpath\u001b[0m\u001b[0;34m)\u001b[0m\u001b[0;34m:\u001b[0m\u001b[0;34m\u001b[0m\u001b[0;34m\u001b[0m\u001b[0m\n",
      "\u001b[0;32m~/anaconda2/envs/py35/lib/python3.6/site-packages/selenium/webdriver/remote/webdriver.py\u001b[0m in \u001b[0;36mfind_element\u001b[0;34m(self, by, value)\u001b[0m\n\u001b[1;32m    976\u001b[0m         return self.execute(Command.FIND_ELEMENT, {\n\u001b[1;32m    977\u001b[0m             \u001b[0;34m'using'\u001b[0m\u001b[0;34m:\u001b[0m \u001b[0mby\u001b[0m\u001b[0;34m,\u001b[0m\u001b[0;34m\u001b[0m\u001b[0;34m\u001b[0m\u001b[0m\n\u001b[0;32m--> 978\u001b[0;31m             'value': value})['value']\n\u001b[0m\u001b[1;32m    979\u001b[0m \u001b[0;34m\u001b[0m\u001b[0m\n\u001b[1;32m    980\u001b[0m     \u001b[0;32mdef\u001b[0m \u001b[0mfind_elements\u001b[0m\u001b[0;34m(\u001b[0m\u001b[0mself\u001b[0m\u001b[0;34m,\u001b[0m \u001b[0mby\u001b[0m\u001b[0;34m=\u001b[0m\u001b[0mBy\u001b[0m\u001b[0;34m.\u001b[0m\u001b[0mID\u001b[0m\u001b[0;34m,\u001b[0m \u001b[0mvalue\u001b[0m\u001b[0;34m=\u001b[0m\u001b[0;32mNone\u001b[0m\u001b[0;34m)\u001b[0m\u001b[0;34m:\u001b[0m\u001b[0;34m\u001b[0m\u001b[0;34m\u001b[0m\u001b[0m\n",
      "\u001b[0;32m~/anaconda2/envs/py35/lib/python3.6/site-packages/selenium/webdriver/remote/webdriver.py\u001b[0m in \u001b[0;36mexecute\u001b[0;34m(self, driver_command, params)\u001b[0m\n\u001b[1;32m    319\u001b[0m         \u001b[0mresponse\u001b[0m \u001b[0;34m=\u001b[0m \u001b[0mself\u001b[0m\u001b[0;34m.\u001b[0m\u001b[0mcommand_executor\u001b[0m\u001b[0;34m.\u001b[0m\u001b[0mexecute\u001b[0m\u001b[0;34m(\u001b[0m\u001b[0mdriver_command\u001b[0m\u001b[0;34m,\u001b[0m \u001b[0mparams\u001b[0m\u001b[0;34m)\u001b[0m\u001b[0;34m\u001b[0m\u001b[0;34m\u001b[0m\u001b[0m\n\u001b[1;32m    320\u001b[0m         \u001b[0;32mif\u001b[0m \u001b[0mresponse\u001b[0m\u001b[0;34m:\u001b[0m\u001b[0;34m\u001b[0m\u001b[0;34m\u001b[0m\u001b[0m\n\u001b[0;32m--> 321\u001b[0;31m             \u001b[0mself\u001b[0m\u001b[0;34m.\u001b[0m\u001b[0merror_handler\u001b[0m\u001b[0;34m.\u001b[0m\u001b[0mcheck_response\u001b[0m\u001b[0;34m(\u001b[0m\u001b[0mresponse\u001b[0m\u001b[0;34m)\u001b[0m\u001b[0;34m\u001b[0m\u001b[0;34m\u001b[0m\u001b[0m\n\u001b[0m\u001b[1;32m    322\u001b[0m             response['value'] = self._unwrap_value(\n\u001b[1;32m    323\u001b[0m                 response.get('value', None))\n",
      "\u001b[0;32m~/anaconda2/envs/py35/lib/python3.6/site-packages/selenium/webdriver/remote/errorhandler.py\u001b[0m in \u001b[0;36mcheck_response\u001b[0;34m(self, response)\u001b[0m\n\u001b[1;32m    240\u001b[0m                 \u001b[0malert_text\u001b[0m \u001b[0;34m=\u001b[0m \u001b[0mvalue\u001b[0m\u001b[0;34m[\u001b[0m\u001b[0;34m'alert'\u001b[0m\u001b[0;34m]\u001b[0m\u001b[0;34m.\u001b[0m\u001b[0mget\u001b[0m\u001b[0;34m(\u001b[0m\u001b[0;34m'text'\u001b[0m\u001b[0;34m)\u001b[0m\u001b[0;34m\u001b[0m\u001b[0;34m\u001b[0m\u001b[0m\n\u001b[1;32m    241\u001b[0m             \u001b[0;32mraise\u001b[0m \u001b[0mexception_class\u001b[0m\u001b[0;34m(\u001b[0m\u001b[0mmessage\u001b[0m\u001b[0;34m,\u001b[0m \u001b[0mscreen\u001b[0m\u001b[0;34m,\u001b[0m \u001b[0mstacktrace\u001b[0m\u001b[0;34m,\u001b[0m \u001b[0malert_text\u001b[0m\u001b[0;34m)\u001b[0m\u001b[0;34m\u001b[0m\u001b[0;34m\u001b[0m\u001b[0m\n\u001b[0;32m--> 242\u001b[0;31m         \u001b[0;32mraise\u001b[0m \u001b[0mexception_class\u001b[0m\u001b[0;34m(\u001b[0m\u001b[0mmessage\u001b[0m\u001b[0;34m,\u001b[0m \u001b[0mscreen\u001b[0m\u001b[0;34m,\u001b[0m \u001b[0mstacktrace\u001b[0m\u001b[0;34m)\u001b[0m\u001b[0;34m\u001b[0m\u001b[0;34m\u001b[0m\u001b[0m\n\u001b[0m\u001b[1;32m    243\u001b[0m \u001b[0;34m\u001b[0m\u001b[0m\n\u001b[1;32m    244\u001b[0m     \u001b[0;32mdef\u001b[0m \u001b[0m_value_or_default\u001b[0m\u001b[0;34m(\u001b[0m\u001b[0mself\u001b[0m\u001b[0;34m,\u001b[0m \u001b[0mobj\u001b[0m\u001b[0;34m,\u001b[0m \u001b[0mkey\u001b[0m\u001b[0;34m,\u001b[0m \u001b[0mdefault\u001b[0m\u001b[0;34m)\u001b[0m\u001b[0;34m:\u001b[0m\u001b[0;34m\u001b[0m\u001b[0;34m\u001b[0m\u001b[0m\n",
      "\u001b[0;31mNoSuchElementException\u001b[0m: Message: no such element: Unable to locate element: {\"method\":\"xpath\",\"selector\":\"//*[@id=\"icon-ui-chevron-left\"]/path\"}\n  (Session info: headless chrome=75.0.3753.2)\n  (Driver info: chromedriver=2.43.600229 (3fae4d0cda5334b4f533bede5a4787f7b832d052),platform=Mac OS X 10.14.3 x86_64)\n"
     ]
    }
   ],
   "source": [
    "get_whoop()"
   ]
  },
  {
   "cell_type": "code",
   "execution_count": 90,
   "metadata": {},
   "outputs": [
    {
     "data": {
      "text/plain": [
       "achievement_count         0\n",
       "athlete_count             0\n",
       "average_speed             0\n",
       "average_watts             6\n",
       "comment_count             0\n",
       "commute                   0\n",
       "device_watts              6\n",
       "distance                  0\n",
       "elapsed_time              0\n",
       "elev_high                 0\n",
       "elev_low                  0\n",
       "external_id               0\n",
       "flagged                   0\n",
       "gear_id                   6\n",
       "has_kudoed                0\n",
       "id                        0\n",
       "kilojoules                6\n",
       "kudos_count               0\n",
       "manual                    0\n",
       "max_speed                 0\n",
       "max_watts                 6\n",
       "moving_time               0\n",
       "name                      0\n",
       "photo_count               0\n",
       "private                   0\n",
       "start_date                0\n",
       "start_date_local          0\n",
       "timezone                  0\n",
       "total_elevation_gain      0\n",
       "total_photo_count         0\n",
       "trainer                   0\n",
       "type                      0\n",
       "upload_id                 0\n",
       "weighted_average_watts    6\n",
       "workout_type              6\n",
       "dtype: int64"
      ]
     },
     "execution_count": 90,
     "metadata": {},
     "output_type": "execute_result"
    }
   ],
   "source": [
    "strav.isnull().sum()"
   ]
  },
  {
   "cell_type": "code",
   "execution_count": 109,
   "metadata": {},
   "outputs": [
    {
     "data": {
      "text/plain": [
       "3"
      ]
     },
     "execution_count": 109,
     "metadata": {},
     "output_type": "execute_result"
    }
   ],
   "source": [
    "import math\n",
    "math.ceil(450/200)"
   ]
  },
  {
   "cell_type": "code",
   "execution_count": 113,
   "metadata": {},
   "outputs": [
    {
     "data": {
      "text/plain": [
       "0"
      ]
     },
     "execution_count": 113,
     "metadata": {},
     "output_type": "execute_result"
    }
   ],
   "source": [
    "len(strav)"
   ]
  },
  {
   "cell_type": "code",
   "execution_count": null,
   "metadata": {
    "collapsed": true
   },
   "outputs": [],
   "source": []
  }
 ],
 "metadata": {
  "kernelspec": {
   "display_name": "py35",
   "language": "python",
   "name": "py35"
  },
  "language_info": {
   "codemirror_mode": {
    "name": "ipython",
    "version": 3
   },
   "file_extension": ".py",
   "mimetype": "text/x-python",
   "name": "python",
   "nbconvert_exporter": "python",
   "pygments_lexer": "ipython3",
   "version": "3.6.7"
  }
 },
 "nbformat": 4,
 "nbformat_minor": 2
}
