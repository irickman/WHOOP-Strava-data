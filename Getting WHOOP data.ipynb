{
 "cells": [
  {
   "cell_type": "code",
   "execution_count": 128,
   "metadata": {
    "collapsed": true
   },
   "outputs": [],
   "source": [
    "import requests\n",
    "import pandas as pd\n",
    "from selenium import webdriver\n",
    "from selenium.webdriver.common.keys import Keys\n",
    "from bs4 import BeautifulSoup as BS\n",
    "from selenium.webdriver.common.by import By\n",
    "from selenium.webdriver.support.ui import WebDriverWait\n",
    "from selenium.webdriver.support import expected_conditions as EC\n",
    "from selenium.common.exceptions import StaleElementReferenceException\n",
    "import configparser\n",
    "import re\n",
    "from datetime import timedelta, datetime\n",
    "import time\n",
    "import sys\n",
    "sys.path.insert(0, '/Users/irarickman/StravaPythonClient')\n",
    "import swagger_client\n",
    "from swagger_client.rest import ApiException\n",
    "from pprint import pprint"
   ]
  },
  {
   "cell_type": "code",
   "execution_count": 20,
   "metadata": {
    "collapsed": true
   },
   "outputs": [],
   "source": [
    "w='https://app.whoop.com/login'"
   ]
  },
  {
   "cell_type": "code",
   "execution_count": 44,
   "metadata": {
    "collapsed": true
   },
   "outputs": [],
   "source": [
    "browser=webdriver.Chrome('/usr/local/bin/chromedriver')\n",
    "browser.get(w)"
   ]
  },
  {
   "cell_type": "code",
   "execution_count": 45,
   "metadata": {
    "collapsed": true
   },
   "outputs": [],
   "source": [
    "username=browser.find_element_by_name('username')\n",
    "password=browser.find_element_by_name('password')\n",
    "username.send_keys('irarickman@gmail.com')\n",
    "password.send_keys('triathlon92')\n",
    "submit=browser.find_element_by_name('form')\n",
    "submit.click()"
   ]
  },
  {
   "cell_type": "code",
   "execution_count": 23,
   "metadata": {
    "collapsed": true
   },
   "outputs": [],
   "source": [
    "strain_click=browser.find_elements_by_class_name('score')[0]\n",
    "strain_click.click()"
   ]
  },
  {
   "cell_type": "code",
   "execution_count": 23,
   "metadata": {},
   "outputs": [
    {
     "data": {
      "text/plain": [
       "'16.2'"
      ]
     },
     "execution_count": 23,
     "metadata": {},
     "output_type": "execute_result"
    }
   ],
   "source": [
    "strain_amt=browser.find_element_by_class_name(\"workout-strain\")\n",
    "strain_amt.get_attribute('innerHTML')\n",
    "strain_amt.find_element_by_tag_name(\"strong\").text"
   ]
  },
  {
   "cell_type": "code",
   "execution_count": 24,
   "metadata": {},
   "outputs": [
    {
     "data": {
      "text/plain": [
       "['Running', '16.2']"
      ]
     },
     "execution_count": 24,
     "metadata": {},
     "output_type": "execute_result"
    }
   ],
   "source": [
    "buttons=browser.find_elements_by_tag_name('button')\n",
    "#[x for x in [span.find_elements_by_tag_name('span')  \n",
    "[x.text for item in [x for x in [span.find_elements_by_tag_name('span') for span in [b for b in buttons if b.get_attribute(\"ng-click\")==\"click($event, activity.id)\"]]] for x in item]\n"
   ]
  },
  {
   "cell_type": "code",
   "execution_count": 25,
   "metadata": {},
   "outputs": [
    {
     "name": "stdout",
     "output_type": "stream",
     "text": [
      "nothing <selenium.webdriver.remote.webelement.WebElement (session=\"08fde42d8d6815291fceb7d2092c9f08\", element=\"0.7561134548339705-10\")>\n",
      "nothing <selenium.webdriver.remote.webelement.WebElement (session=\"08fde42d8d6815291fceb7d2092c9f08\", element=\"0.7561134548339705-11\")>\n",
      "['Running', '16.2'] <selenium.webdriver.remote.webelement.WebElement (session=\"08fde42d8d6815291fceb7d2092c9f08\", element=\"0.7561134548339705-12\")>\n",
      "nothing <selenium.webdriver.remote.webelement.WebElement (session=\"08fde42d8d6815291fceb7d2092c9f08\", element=\"0.7561134548339705-13\")>\n",
      "nothing <selenium.webdriver.remote.webelement.WebElement (session=\"08fde42d8d6815291fceb7d2092c9f08\", element=\"0.7561134548339705-14\")>\n",
      "nothing <selenium.webdriver.remote.webelement.WebElement (session=\"08fde42d8d6815291fceb7d2092c9f08\", element=\"0.7561134548339705-15\")>\n",
      "nothing <selenium.webdriver.remote.webelement.WebElement (session=\"08fde42d8d6815291fceb7d2092c9f08\", element=\"0.7561134548339705-16\")>\n",
      "nothing <selenium.webdriver.remote.webelement.WebElement (session=\"08fde42d8d6815291fceb7d2092c9f08\", element=\"0.7561134548339705-17\")>\n",
      "nothing <selenium.webdriver.remote.webelement.WebElement (session=\"08fde42d8d6815291fceb7d2092c9f08\", element=\"0.7561134548339705-18\")>\n",
      "nothing <selenium.webdriver.remote.webelement.WebElement (session=\"08fde42d8d6815291fceb7d2092c9f08\", element=\"0.7561134548339705-19\")>\n",
      "nothing <selenium.webdriver.remote.webelement.WebElement (session=\"08fde42d8d6815291fceb7d2092c9f08\", element=\"0.7561134548339705-20\")>\n",
      "nothing <selenium.webdriver.remote.webelement.WebElement (session=\"08fde42d8d6815291fceb7d2092c9f08\", element=\"0.7561134548339705-21\")>\n",
      "nothing <selenium.webdriver.remote.webelement.WebElement (session=\"08fde42d8d6815291fceb7d2092c9f08\", element=\"0.7561134548339705-22\")>\n",
      "nothing <selenium.webdriver.remote.webelement.WebElement (session=\"08fde42d8d6815291fceb7d2092c9f08\", element=\"0.7561134548339705-23\")>\n",
      "nothing <selenium.webdriver.remote.webelement.WebElement (session=\"08fde42d8d6815291fceb7d2092c9f08\", element=\"0.7561134548339705-24\")>\n",
      "nothing <selenium.webdriver.remote.webelement.WebElement (session=\"08fde42d8d6815291fceb7d2092c9f08\", element=\"0.7561134548339705-25\")>\n"
     ]
    }
   ],
   "source": [
    "for x in buttons:\n",
    "    if x.get_attribute(\"ng-click\")==\"click($event, activity.id)\":\n",
    "        spans=x.find_elements_by_tag_name(\"span\")\n",
    "        print([x.text for x in spans], x)\n",
    "    else:\n",
    "        print(\"nothing\", x)"
   ]
  },
  {
   "cell_type": "code",
   "execution_count": 24,
   "metadata": {
    "collapsed": true,
    "scrolled": true
   },
   "outputs": [],
   "source": [
    "def go_to_strain():\n",
    "    work=0\n",
    "    try:\n",
    "        strain_click=browser.find_elements_by_class_name('score')[0]\n",
    "        strain_click.click()\n",
    "        work=1\n",
    "    except StaleElementReferenceException:\n",
    "        work=0"
   ]
  },
  {
   "cell_type": "code",
   "execution_count": 25,
   "metadata": {
    "collapsed": true
   },
   "outputs": [],
   "source": [
    "## goal function is to look for the activity - if it doesn't exist, then look for \"no activity\" \n",
    "## store the result, if the old activity strain is the same as the new\n",
    "\n",
    "def get_activity_strain(old_strain,old_date):\n",
    "    work=0\n",
    "    while work==0:\n",
    "        try:\n",
    "            buttons=browser.find_elements_by_tag_name('button')\n",
    "            new_strain=[x.text for item in [x for x in [span.find_elements_by_tag_name('span') for span in [b for b in buttons if b.get_attribute(\"ng-click\")==\"click($event, activity.id)\"]]] for x in item]\n",
    "            if len(new_strain)==0:\n",
    "                new_strains=[\"null\"]*6\n",
    "            elif len(new_strain)<7:\n",
    "                new_strains=new_strain+['null']*(6-len(new_strain))\n",
    "            else:\n",
    "                new_strains=new_strain\n",
    "            if old_strain!=new_strains:\n",
    "                return new_strains\n",
    "                work=1\n",
    "            elif old_date!=get_date(old_date):\n",
    "                return new_strains\n",
    "                work=1\n",
    "        except StaleElementReferencException:\n",
    "            work=0"
   ]
  },
  {
   "cell_type": "code",
   "execution_count": 26,
   "metadata": {
    "collapsed": true
   },
   "outputs": [],
   "source": [
    "def get_date(old_date):\n",
    "    work=0\n",
    "    while work==0:\n",
    "        try:\n",
    "            new_day=browser.find_element_by_class_name('datepicker--label')\n",
    "            new_date=new_day.text\n",
    "            if new_date!=old_date:\n",
    "                return [new_date]\n",
    "                work=1\n",
    "        except StaleElementReferenceException:\n",
    "            work=0"
   ]
  },
  {
   "cell_type": "code",
   "execution_count": 27,
   "metadata": {
    "collapsed": true
   },
   "outputs": [],
   "source": [
    "def get_scores(old_scores):\n",
    "    work=0\n",
    "    while work==0:\n",
    "        try:\n",
    "            new_scores=browser.find_elements_by_class_name('score')\n",
    "            new_score_list=[x.text for x in new_scores]\n",
    "            if new_score_list!=old_scores:\n",
    "                return new_score_list\n",
    "                work=1\n",
    "        except StaleElementReferenceException:\n",
    "            work=0\n",
    "            "
   ]
  },
  {
   "cell_type": "code",
   "execution_count": 28,
   "metadata": {
    "collapsed": true
   },
   "outputs": [],
   "source": [
    "def get_button():\n",
    "    work=0\n",
    "    while work==0:\n",
    "        try: \n",
    "            back=browser.find_element_by_class_name('datepicker--prev')\n",
    "            back.click()\n",
    "            work=1\n",
    "        except StaleElementReferenceException:\n",
    "            work=0"
   ]
  },
  {
   "cell_type": "code",
   "execution_count": 38,
   "metadata": {},
   "outputs": [
    {
     "data": {
      "text/plain": [
       "False"
      ]
     },
     "execution_count": 38,
     "metadata": {},
     "output_type": "execute_result"
    }
   ],
   "source": [
    "num=1\n",
    "(get_date('today')[0].strip().lower()!='wed, may 30th' and num<300)"
   ]
  },
  {
   "cell_type": "code",
   "execution_count": 46,
   "metadata": {
    "collapsed": true
   },
   "outputs": [],
   "source": [
    "whoop=pd.DataFrame(columns=['strain','recovery','sleep_perf','sleep','rec_sleep','date', \n",
    "                            'activity_1','activity_1_score','activity_2','activity_2_score',\n",
    "                           'activity_3','activity_3_score'])\n",
    "num=0\n",
    "old_date='today'\n",
    "old_scores=['none']\n",
    "old_strain=['null']\n",
    "go_to_strain()\n",
    "new_date=get_date(old_date)\n",
    "while (new_date[0].strip().lower()!='wed, may 30th' and num<300):\n",
    "    new_date=get_date(old_date)\n",
    "    new_score=get_scores(old_scores)\n",
    "    strains=get_activity_strain(old_strain,old_date)\n",
    "    old_date=new_date\n",
    "    old_scores=new_score\n",
    "    old_strain=strains\n",
    "    whoop.loc[len(whoop)]=new_score[:5]+new_date+strains\n",
    "    get_button()\n",
    "    num+=1"
   ]
  },
  {
   "cell_type": "code",
   "execution_count": 48,
   "metadata": {
    "collapsed": true
   },
   "outputs": [],
   "source": [
    "whoop.to_csv('../Data/whoop_data.csv',index=False)"
   ]
  }
 ],
 "metadata": {
  "kernelspec": {
   "display_name": "py35",
   "language": "python",
   "name": "py35"
  },
  "language_info": {
   "codemirror_mode": {
    "name": "ipython",
    "version": 3
   },
   "file_extension": ".py",
   "mimetype": "text/x-python",
   "name": "python",
   "nbconvert_exporter": "python",
   "pygments_lexer": "ipython3",
   "version": "3.6.7"
  }
 },
 "nbformat": 4,
 "nbformat_minor": 2
}
