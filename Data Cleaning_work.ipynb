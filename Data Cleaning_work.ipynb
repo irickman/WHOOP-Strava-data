{
 "cells": [
  {
   "cell_type": "code",
   "execution_count": 1,
   "metadata": {},
   "outputs": [],
   "source": [
    "import pandas as pd\n",
    "import numpy as np\n",
    "import matplotlib.pyplot as plt\n",
    "import seaborn as sns\n",
    "\n",
    "%matplotlib inline\n",
    "pd.options.display.max_rows=100\n",
    "pd.options.display.max_columns=100"
   ]
  },
  {
   "cell_type": "code",
   "execution_count": 2,
   "metadata": {},
   "outputs": [],
   "source": [
    "whoop=pd.read_csv('whoop_data.csv')"
   ]
  },
  {
   "cell_type": "code",
   "execution_count": 3,
   "metadata": {},
   "outputs": [],
   "source": [
    "strava=pd.read_csv('my_actvities.csv')"
   ]
  },
  {
   "cell_type": "code",
   "execution_count": 4,
   "metadata": {},
   "outputs": [
    {
     "data": {
      "text/plain": [
       "((173, 35), (222, 12))"
      ]
     },
     "execution_count": 4,
     "metadata": {},
     "output_type": "execute_result"
    }
   ],
   "source": [
    "strava.shape, whoop.shape"
   ]
  },
  {
   "cell_type": "code",
   "execution_count": 5,
   "metadata": {},
   "outputs": [],
   "source": [
    "mult_mile=0.000621371\n",
    "strava['miles']=strava.distance*mult_mile"
   ]
  },
  {
   "cell_type": "markdown",
   "metadata": {},
   "source": [
    "## Whoop data discovery"
   ]
  },
  {
   "cell_type": "code",
   "execution_count": 6,
   "metadata": {},
   "outputs": [
    {
     "data": {
      "text/html": [
       "<div>\n",
       "<style scoped>\n",
       "    .dataframe tbody tr th:only-of-type {\n",
       "        vertical-align: middle;\n",
       "    }\n",
       "\n",
       "    .dataframe tbody tr th {\n",
       "        vertical-align: top;\n",
       "    }\n",
       "\n",
       "    .dataframe thead th {\n",
       "        text-align: right;\n",
       "    }\n",
       "</style>\n",
       "<table border=\"1\" class=\"dataframe\">\n",
       "  <thead>\n",
       "    <tr style=\"text-align: right;\">\n",
       "      <th></th>\n",
       "      <th>strain</th>\n",
       "      <th>recovery</th>\n",
       "      <th>sleep_perf</th>\n",
       "      <th>sleep</th>\n",
       "      <th>rec_sleep</th>\n",
       "      <th>date</th>\n",
       "      <th>activity_1</th>\n",
       "      <th>activity_1_score</th>\n",
       "      <th>activity_2</th>\n",
       "      <th>activity_2_score</th>\n",
       "      <th>activity_3</th>\n",
       "      <th>activity_3_score</th>\n",
       "    </tr>\n",
       "  </thead>\n",
       "  <tbody>\n",
       "    <tr>\n",
       "      <th>0</th>\n",
       "      <td>17.3</td>\n",
       "      <td>78%</td>\n",
       "      <td>100%</td>\n",
       "      <td>10:02</td>\n",
       "      <td>8:40</td>\n",
       "      <td>Today, Jan 4th</td>\n",
       "      <td>Running</td>\n",
       "      <td>15.4</td>\n",
       "      <td>NaN</td>\n",
       "      <td>NaN</td>\n",
       "      <td>NaN</td>\n",
       "      <td>NaN</td>\n",
       "    </tr>\n",
       "    <tr>\n",
       "      <th>1</th>\n",
       "      <td>12.8</td>\n",
       "      <td>50%</td>\n",
       "      <td>86%</td>\n",
       "      <td>8:27</td>\n",
       "      <td>9:52</td>\n",
       "      <td>Thu, Jan 3rd</td>\n",
       "      <td>Weightlifting</td>\n",
       "      <td>7.0</td>\n",
       "      <td>NaN</td>\n",
       "      <td>NaN</td>\n",
       "      <td>NaN</td>\n",
       "      <td>NaN</td>\n",
       "    </tr>\n",
       "    <tr>\n",
       "      <th>2</th>\n",
       "      <td>17.6</td>\n",
       "      <td>28%</td>\n",
       "      <td>69%</td>\n",
       "      <td>6:09</td>\n",
       "      <td>8:55</td>\n",
       "      <td>Wed, Jan 2nd</td>\n",
       "      <td>Running</td>\n",
       "      <td>16.3</td>\n",
       "      <td>NaN</td>\n",
       "      <td>NaN</td>\n",
       "      <td>NaN</td>\n",
       "      <td>NaN</td>\n",
       "    </tr>\n",
       "    <tr>\n",
       "      <th>3</th>\n",
       "      <td>18.1</td>\n",
       "      <td>37%</td>\n",
       "      <td>96%</td>\n",
       "      <td>7:44</td>\n",
       "      <td>8:04</td>\n",
       "      <td>Tue, Jan 1st</td>\n",
       "      <td>Running</td>\n",
       "      <td>15.7</td>\n",
       "      <td>Activity</td>\n",
       "      <td>7.3</td>\n",
       "      <td>NaN</td>\n",
       "      <td>NaN</td>\n",
       "    </tr>\n",
       "    <tr>\n",
       "      <th>4</th>\n",
       "      <td>12.1</td>\n",
       "      <td>36%</td>\n",
       "      <td>100%</td>\n",
       "      <td>9:53</td>\n",
       "      <td>8:37</td>\n",
       "      <td>Mon, Dec 31st</td>\n",
       "      <td>NaN</td>\n",
       "      <td>NaN</td>\n",
       "      <td>NaN</td>\n",
       "      <td>NaN</td>\n",
       "      <td>NaN</td>\n",
       "      <td>NaN</td>\n",
       "    </tr>\n",
       "  </tbody>\n",
       "</table>\n",
       "</div>"
      ],
      "text/plain": [
       "  strain recovery sleep_perf  sleep rec_sleep            date     activity_1  \\\n",
       "0   17.3      78%       100%  10:02      8:40  Today, Jan 4th        Running   \n",
       "1   12.8      50%        86%   8:27      9:52    Thu, Jan 3rd  Weightlifting   \n",
       "2   17.6      28%        69%   6:09      8:55    Wed, Jan 2nd        Running   \n",
       "3   18.1      37%        96%   7:44      8:04    Tue, Jan 1st        Running   \n",
       "4   12.1      36%       100%   9:53      8:37   Mon, Dec 31st            NaN   \n",
       "\n",
       "   activity_1_score activity_2  activity_2_score activity_3  activity_3_score  \n",
       "0              15.4        NaN               NaN        NaN               NaN  \n",
       "1               7.0        NaN               NaN        NaN               NaN  \n",
       "2              16.3        NaN               NaN        NaN               NaN  \n",
       "3              15.7   Activity               7.3        NaN               NaN  \n",
       "4               NaN        NaN               NaN        NaN               NaN  "
      ]
     },
     "execution_count": 6,
     "metadata": {},
     "output_type": "execute_result"
    }
   ],
   "source": [
    "whoop.head()"
   ]
  },
  {
   "cell_type": "code",
   "execution_count": 7,
   "metadata": {},
   "outputs": [
    {
     "data": {
      "text/plain": [
       "24%                 8\n",
       "32%                 7\n",
       "36%                 7\n",
       "27%                 6\n",
       "30%                 6\n",
       "25%                 6\n",
       "85%                 6\n",
       "49%                 6\n",
       "37%                 6\n",
       "38%                 5\n",
       "63%                 5\n",
       "44%                 5\n",
       "16%                 5\n",
       "35%                 5\n",
       "28%                 5\n",
       "21%                 5\n",
       "26%                 4\n",
       "34%                 4\n",
       "75%                 4\n",
       "61%                 4\n",
       "33%                 4\n",
       "69%                 4\n",
       "94%                 4\n",
       "48%                 4\n",
       "18%                 4\n",
       "46%                 3\n",
       "54%                 3\n",
       "Incomplete\\nData    3\n",
       "29%                 3\n",
       "89%                 3\n",
       "19%                 3\n",
       "60%                 3\n",
       "59%                 3\n",
       "17%                 3\n",
       "13%                 3\n",
       "20%                 2\n",
       "---                 2\n",
       "78%                 2\n",
       "11%                 2\n",
       "82%                 2\n",
       "47%                 2\n",
       "67%                 2\n",
       "23%                 2\n",
       "70%                 2\n",
       "86%                 2\n",
       "41%                 2\n",
       "95%                 2\n",
       "55%                 2\n",
       "93%                 2\n",
       "87%                 2\n",
       "39%                 2\n",
       "58%                 2\n",
       "62%                 1\n",
       "74%                 1\n",
       "97%                 1\n",
       "84%                 1\n",
       "5%                  1\n",
       "52%                 1\n",
       "40%                 1\n",
       "96%                 1\n",
       "64%                 1\n",
       "45%                 1\n",
       "92%                 1\n",
       "76%                 1\n",
       "Pending             1\n",
       "22%                 1\n",
       "31%                 1\n",
       "88%                 1\n",
       "50%                 1\n",
       "83%                 1\n",
       "72%                 1\n",
       "56%                 1\n",
       "77%                 1\n",
       "14%                 1\n",
       "81%                 1\n",
       "68%                 1\n",
       "12%                 1\n",
       "43%                 1\n",
       "90%                 1\n",
       "42%                 1\n",
       "57%                 1\n",
       "Name: recovery, dtype: int64"
      ]
     },
     "execution_count": 7,
     "metadata": {},
     "output_type": "execute_result"
    }
   ],
   "source": [
    "whoop.recovery.value_counts()"
   ]
  },
  {
   "cell_type": "code",
   "execution_count": 8,
   "metadata": {},
   "outputs": [
    {
     "name": "stdout",
     "output_type": "stream",
     "text": [
      "Running               69\n",
      "Cycling               26\n",
      "Swimming              15\n",
      "Weightlifting          6\n",
      "Activity               5\n",
      "Hiking/Rucking         3\n",
      "Other                  2\n",
      "Triathlon              2\n",
      "Football               1\n",
      "Functional Fitness     1\n",
      "Golf                   1\n",
      "Soccer                 1\n",
      "Name: activity_1, dtype: int64\n",
      "Running     9\n",
      "Activity    6\n",
      "Cycling     4\n",
      "Swimming    3\n",
      "Other       2\n",
      "Name: activity_2, dtype: int64\n",
      "Cycling    4\n",
      "Other      1\n",
      "Running    1\n",
      "Name: activity_3, dtype: int64\n"
     ]
    }
   ],
   "source": [
    "print(whoop.activity_1.value_counts())\n",
    "print(whoop.activity_2.value_counts())\n",
    "print(whoop.activity_3.value_counts())"
   ]
  },
  {
   "cell_type": "code",
   "execution_count": 9,
   "metadata": {},
   "outputs": [],
   "source": [
    "whoop['recovery']=whoop['recovery'].astype(str).apply(lambda x: np.nan if '%' not in x else float(x[:len(x)-1])/100)\n",
    "whoop['sleep_perf']=whoop['sleep_perf'].astype(str).apply(lambda x: np.nan if '-' in x or \"na\" in x else float(x[:len(x)-1])/100)\n"
   ]
  },
  {
   "cell_type": "code",
   "execution_count": 10,
   "metadata": {},
   "outputs": [
    {
     "data": {
      "text/plain": [
       "red       83\n",
       "yellow    83\n",
       "green     50\n",
       "none       6\n",
       "Name: rec_color, dtype: int64"
      ]
     },
     "execution_count": 10,
     "metadata": {},
     "output_type": "execute_result"
    }
   ],
   "source": [
    "whoop['rec_color']=whoop.recovery.apply(lambda x: 'red' if x<.34 else ('yellow' if x<.67 else ('none' if np.isnan(x) else 'green') ))\n",
    "whoop.rec_color.value_counts()"
   ]
  },
  {
   "cell_type": "code",
   "execution_count": 11,
   "metadata": {},
   "outputs": [
    {
     "data": {
      "text/html": [
       "<div>\n",
       "<style scoped>\n",
       "    .dataframe tbody tr th:only-of-type {\n",
       "        vertical-align: middle;\n",
       "    }\n",
       "\n",
       "    .dataframe tbody tr th {\n",
       "        vertical-align: top;\n",
       "    }\n",
       "\n",
       "    .dataframe thead th {\n",
       "        text-align: right;\n",
       "    }\n",
       "</style>\n",
       "<table border=\"1\" class=\"dataframe\">\n",
       "  <thead>\n",
       "    <tr style=\"text-align: right;\">\n",
       "      <th></th>\n",
       "      <th>strain</th>\n",
       "      <th>recovery</th>\n",
       "      <th>sleep_perf</th>\n",
       "      <th>sleep</th>\n",
       "      <th>rec_sleep</th>\n",
       "      <th>date</th>\n",
       "      <th>activity_1</th>\n",
       "      <th>activity_1_score</th>\n",
       "      <th>activity_2</th>\n",
       "      <th>activity_2_score</th>\n",
       "      <th>activity_3</th>\n",
       "      <th>activity_3_score</th>\n",
       "      <th>rec_color</th>\n",
       "    </tr>\n",
       "  </thead>\n",
       "  <tbody>\n",
       "    <tr>\n",
       "      <th>0</th>\n",
       "      <td>17.3</td>\n",
       "      <td>0.78</td>\n",
       "      <td>1.00</td>\n",
       "      <td>10:02</td>\n",
       "      <td>8:40</td>\n",
       "      <td>Today, Jan 4th</td>\n",
       "      <td>Running</td>\n",
       "      <td>15.4</td>\n",
       "      <td>NaN</td>\n",
       "      <td>NaN</td>\n",
       "      <td>NaN</td>\n",
       "      <td>NaN</td>\n",
       "      <td>green</td>\n",
       "    </tr>\n",
       "    <tr>\n",
       "      <th>1</th>\n",
       "      <td>12.8</td>\n",
       "      <td>0.50</td>\n",
       "      <td>0.86</td>\n",
       "      <td>8:27</td>\n",
       "      <td>9:52</td>\n",
       "      <td>Thu, Jan 3rd</td>\n",
       "      <td>Weightlifting</td>\n",
       "      <td>7.0</td>\n",
       "      <td>NaN</td>\n",
       "      <td>NaN</td>\n",
       "      <td>NaN</td>\n",
       "      <td>NaN</td>\n",
       "      <td>yellow</td>\n",
       "    </tr>\n",
       "    <tr>\n",
       "      <th>2</th>\n",
       "      <td>17.6</td>\n",
       "      <td>0.28</td>\n",
       "      <td>0.69</td>\n",
       "      <td>6:09</td>\n",
       "      <td>8:55</td>\n",
       "      <td>Wed, Jan 2nd</td>\n",
       "      <td>Running</td>\n",
       "      <td>16.3</td>\n",
       "      <td>NaN</td>\n",
       "      <td>NaN</td>\n",
       "      <td>NaN</td>\n",
       "      <td>NaN</td>\n",
       "      <td>red</td>\n",
       "    </tr>\n",
       "    <tr>\n",
       "      <th>3</th>\n",
       "      <td>18.1</td>\n",
       "      <td>0.37</td>\n",
       "      <td>0.96</td>\n",
       "      <td>7:44</td>\n",
       "      <td>8:04</td>\n",
       "      <td>Tue, Jan 1st</td>\n",
       "      <td>Running</td>\n",
       "      <td>15.7</td>\n",
       "      <td>Activity</td>\n",
       "      <td>7.3</td>\n",
       "      <td>NaN</td>\n",
       "      <td>NaN</td>\n",
       "      <td>yellow</td>\n",
       "    </tr>\n",
       "    <tr>\n",
       "      <th>4</th>\n",
       "      <td>12.1</td>\n",
       "      <td>0.36</td>\n",
       "      <td>1.00</td>\n",
       "      <td>9:53</td>\n",
       "      <td>8:37</td>\n",
       "      <td>Mon, Dec 31st</td>\n",
       "      <td>NaN</td>\n",
       "      <td>NaN</td>\n",
       "      <td>NaN</td>\n",
       "      <td>NaN</td>\n",
       "      <td>NaN</td>\n",
       "      <td>NaN</td>\n",
       "      <td>yellow</td>\n",
       "    </tr>\n",
       "  </tbody>\n",
       "</table>\n",
       "</div>"
      ],
      "text/plain": [
       "  strain  recovery  sleep_perf  sleep rec_sleep            date  \\\n",
       "0   17.3      0.78        1.00  10:02      8:40  Today, Jan 4th   \n",
       "1   12.8      0.50        0.86   8:27      9:52    Thu, Jan 3rd   \n",
       "2   17.6      0.28        0.69   6:09      8:55    Wed, Jan 2nd   \n",
       "3   18.1      0.37        0.96   7:44      8:04    Tue, Jan 1st   \n",
       "4   12.1      0.36        1.00   9:53      8:37   Mon, Dec 31st   \n",
       "\n",
       "      activity_1  activity_1_score activity_2  activity_2_score activity_3  \\\n",
       "0        Running              15.4        NaN               NaN        NaN   \n",
       "1  Weightlifting               7.0        NaN               NaN        NaN   \n",
       "2        Running              16.3        NaN               NaN        NaN   \n",
       "3        Running              15.7   Activity               7.3        NaN   \n",
       "4            NaN               NaN        NaN               NaN        NaN   \n",
       "\n",
       "   activity_3_score rec_color  \n",
       "0               NaN     green  \n",
       "1               NaN    yellow  \n",
       "2               NaN       red  \n",
       "3               NaN    yellow  \n",
       "4               NaN    yellow  "
      ]
     },
     "execution_count": 11,
     "metadata": {},
     "output_type": "execute_result"
    }
   ],
   "source": [
    "whoop.head()"
   ]
  },
  {
   "cell_type": "code",
   "execution_count": 12,
   "metadata": {
    "scrolled": false
   },
   "outputs": [
    {
     "data": {
      "text/plain": [
       "(array([ 1.,  0.,  1., 10., 27., 39., 47., 40., 36., 21.]),\n",
       " array([ 0.  ,  2.07,  4.14,  6.21,  8.28, 10.35, 12.42, 14.49, 16.56,\n",
       "        18.63, 20.7 ]),\n",
       " <a list of 10 Patch objects>)"
      ]
     },
     "execution_count": 12,
     "metadata": {},
     "output_type": "execute_result"
    },
    {
     "data": {
      "image/png": "[encoded data removed]",
      "text/plain": [
       "<Figure size 432x288 with 1 Axes>"
      ]
     },
     "metadata": {
      "needs_background": "light"
     },
     "output_type": "display_data"
    }
   ],
   "source": [
    "whoop.strain=whoop.strain.apply(lambda x: float(x) if x!=\"---\" else 0)\n",
    "plt.hist(whoop.strain)"
   ]
  },
  {
   "cell_type": "code",
   "execution_count": 13,
   "metadata": {},
   "outputs": [
    {
     "name": "stdout",
     "output_type": "stream",
     "text": [
      "0.01339240935736611\n",
      "0.04043527262019506\n",
      "0.12884124388214863\n",
      "0.0557647046489472\n",
      "-0.015350577169256781\n",
      "-0.015275776233907717\n",
      "0.08873767330893535\n"
     ]
    }
   ],
   "source": [
    "for i in range(1,8):\n",
    "    print(whoop.recovery.autocorr(lag=i))"
   ]
  },
  {
   "cell_type": "code",
   "execution_count": 14,
   "metadata": {},
   "outputs": [
    {
     "data": {
      "text/plain": [
       "strain              float64\n",
       "recovery            float64\n",
       "sleep_perf          float64\n",
       "sleep                object\n",
       "rec_sleep            object\n",
       "date                 object\n",
       "activity_1           object\n",
       "activity_1_score    float64\n",
       "activity_2           object\n",
       "activity_2_score    float64\n",
       "activity_3           object\n",
       "activity_3_score    float64\n",
       "rec_color            object\n",
       "dtype: object"
      ]
     },
     "execution_count": 14,
     "metadata": {},
     "output_type": "execute_result"
    }
   ],
   "source": [
    "whoop.dtypes"
   ]
  },
  {
   "cell_type": "code",
   "execution_count": 15,
   "metadata": {},
   "outputs": [],
   "source": [
    "def time_to_dec(t):\n",
    "    if \":\" in t:\n",
    "        hr=float(t[:t.find(':')])\n",
    "        m=float(t[t.find(':')+1:])/60\n",
    "        return hr+m\n",
    "    else:\n",
    "        return np.nan\n",
    "whoop.sleep=whoop.sleep.astype(str).apply(time_to_dec)\n",
    "whoop.rec_sleep=whoop.rec_sleep.astype(str).apply(time_to_dec)"
   ]
  },
  {
   "cell_type": "code",
   "execution_count": 16,
   "metadata": {},
   "outputs": [
    {
     "data": {
      "text/html": [
       "<div>\n",
       "<style scoped>\n",
       "    .dataframe tbody tr th:only-of-type {\n",
       "        vertical-align: middle;\n",
       "    }\n",
       "\n",
       "    .dataframe tbody tr th {\n",
       "        vertical-align: top;\n",
       "    }\n",
       "\n",
       "    .dataframe thead th {\n",
       "        text-align: right;\n",
       "    }\n",
       "</style>\n",
       "<table border=\"1\" class=\"dataframe\">\n",
       "  <thead>\n",
       "    <tr style=\"text-align: right;\">\n",
       "      <th></th>\n",
       "      <th>strain</th>\n",
       "      <th>recovery</th>\n",
       "      <th>sleep_perf</th>\n",
       "      <th>sleep</th>\n",
       "      <th>rec_sleep</th>\n",
       "      <th>date</th>\n",
       "      <th>activity_1</th>\n",
       "      <th>activity_1_score</th>\n",
       "      <th>activity_2</th>\n",
       "      <th>activity_2_score</th>\n",
       "      <th>activity_3</th>\n",
       "      <th>activity_3_score</th>\n",
       "      <th>rec_color</th>\n",
       "    </tr>\n",
       "  </thead>\n",
       "  <tbody>\n",
       "    <tr>\n",
       "      <th>0</th>\n",
       "      <td>17.3</td>\n",
       "      <td>0.78</td>\n",
       "      <td>1.00</td>\n",
       "      <td>10.033333</td>\n",
       "      <td>8.666667</td>\n",
       "      <td>Today, Jan 4th</td>\n",
       "      <td>Running</td>\n",
       "      <td>15.4</td>\n",
       "      <td>NaN</td>\n",
       "      <td>NaN</td>\n",
       "      <td>NaN</td>\n",
       "      <td>NaN</td>\n",
       "      <td>green</td>\n",
       "    </tr>\n",
       "    <tr>\n",
       "      <th>1</th>\n",
       "      <td>12.8</td>\n",
       "      <td>0.50</td>\n",
       "      <td>0.86</td>\n",
       "      <td>8.450000</td>\n",
       "      <td>9.866667</td>\n",
       "      <td>Thu, Jan 3rd</td>\n",
       "      <td>Weightlifting</td>\n",
       "      <td>7.0</td>\n",
       "      <td>NaN</td>\n",
       "      <td>NaN</td>\n",
       "      <td>NaN</td>\n",
       "      <td>NaN</td>\n",
       "      <td>yellow</td>\n",
       "    </tr>\n",
       "    <tr>\n",
       "      <th>2</th>\n",
       "      <td>17.6</td>\n",
       "      <td>0.28</td>\n",
       "      <td>0.69</td>\n",
       "      <td>6.150000</td>\n",
       "      <td>8.916667</td>\n",
       "      <td>Wed, Jan 2nd</td>\n",
       "      <td>Running</td>\n",
       "      <td>16.3</td>\n",
       "      <td>NaN</td>\n",
       "      <td>NaN</td>\n",
       "      <td>NaN</td>\n",
       "      <td>NaN</td>\n",
       "      <td>red</td>\n",
       "    </tr>\n",
       "    <tr>\n",
       "      <th>3</th>\n",
       "      <td>18.1</td>\n",
       "      <td>0.37</td>\n",
       "      <td>0.96</td>\n",
       "      <td>7.733333</td>\n",
       "      <td>8.066667</td>\n",
       "      <td>Tue, Jan 1st</td>\n",
       "      <td>Running</td>\n",
       "      <td>15.7</td>\n",
       "      <td>Activity</td>\n",
       "      <td>7.3</td>\n",
       "      <td>NaN</td>\n",
       "      <td>NaN</td>\n",
       "      <td>yellow</td>\n",
       "    </tr>\n",
       "    <tr>\n",
       "      <th>4</th>\n",
       "      <td>12.1</td>\n",
       "      <td>0.36</td>\n",
       "      <td>1.00</td>\n",
       "      <td>9.883333</td>\n",
       "      <td>8.616667</td>\n",
       "      <td>Mon, Dec 31st</td>\n",
       "      <td>NaN</td>\n",
       "      <td>NaN</td>\n",
       "      <td>NaN</td>\n",
       "      <td>NaN</td>\n",
       "      <td>NaN</td>\n",
       "      <td>NaN</td>\n",
       "      <td>yellow</td>\n",
       "    </tr>\n",
       "  </tbody>\n",
       "</table>\n",
       "</div>"
      ],
      "text/plain": [
       "   strain  recovery  sleep_perf      sleep  rec_sleep            date  \\\n",
       "0    17.3      0.78        1.00  10.033333   8.666667  Today, Jan 4th   \n",
       "1    12.8      0.50        0.86   8.450000   9.866667    Thu, Jan 3rd   \n",
       "2    17.6      0.28        0.69   6.150000   8.916667    Wed, Jan 2nd   \n",
       "3    18.1      0.37        0.96   7.733333   8.066667    Tue, Jan 1st   \n",
       "4    12.1      0.36        1.00   9.883333   8.616667   Mon, Dec 31st   \n",
       "\n",
       "      activity_1  activity_1_score activity_2  activity_2_score activity_3  \\\n",
       "0        Running              15.4        NaN               NaN        NaN   \n",
       "1  Weightlifting               7.0        NaN               NaN        NaN   \n",
       "2        Running              16.3        NaN               NaN        NaN   \n",
       "3        Running              15.7   Activity               7.3        NaN   \n",
       "4            NaN               NaN        NaN               NaN        NaN   \n",
       "\n",
       "   activity_3_score rec_color  \n",
       "0               NaN     green  \n",
       "1               NaN    yellow  \n",
       "2               NaN       red  \n",
       "3               NaN    yellow  \n",
       "4               NaN    yellow  "
      ]
     },
     "execution_count": 16,
     "metadata": {},
     "output_type": "execute_result"
    }
   ],
   "source": [
    "whoop.head()"
   ]
  },
  {
   "cell_type": "markdown",
   "metadata": {},
   "source": [
    "### Making Variables"
   ]
  },
  {
   "cell_type": "code",
   "execution_count": 17,
   "metadata": {},
   "outputs": [
    {
     "data": {
      "text/plain": [
       "1    108\n",
       "0     90\n",
       "2     18\n",
       "3      6\n",
       "Name: activity_total, dtype: int64"
      ]
     },
     "execution_count": 17,
     "metadata": {},
     "output_type": "execute_result"
    }
   ],
   "source": [
    "whoop['activity_total']=whoop[['activity_1_score','activity_2_score','activity_3_score']].apply(lambda x: sum([0 if np.isnan(y) else 1 for y in x ]),axis=1 )\n",
    "whoop.activity_total.value_counts()"
   ]
  },
  {
   "cell_type": "code",
   "execution_count": 18,
   "metadata": {},
   "outputs": [],
   "source": [
    "whoop['sleep_addition']=whoop.rec_sleep-7.75"
   ]
  },
  {
   "cell_type": "code",
   "execution_count": 19,
   "metadata": {},
   "outputs": [],
   "source": [
    "whoop['pday_rec']=whoop['recovery'].shift(-1)\n",
    "whoop['pday_rec_col']=whoop['rec_color'].shift(-1)\n",
    "whoop['pday_acts']=whoop['activity_total'].shift(-1)\n",
    "whoop['pday_strain']=whoop['strain']\n",
    "whoop['pday_sleep']=whoop.sleep.shift(-1)\n",
    "whoop['pday_sleep_perf']=whoop.sleep_perf.shift(-1)"
   ]
  },
  {
   "cell_type": "code",
   "execution_count": 20,
   "metadata": {},
   "outputs": [],
   "source": [
    "whoop['rolling_prev_2']=whoop.pday_sleep.rolling(2).mean()\n",
    "whoop['prev_strain_rec_gap']=whoop.pday_strain/whoop.pday_strain.max()-whoop.pday_rec"
   ]
  },
  {
   "cell_type": "code",
   "execution_count": 21,
   "metadata": {},
   "outputs": [
    {
     "data": {
      "text/plain": [
       "<matplotlib.legend.Legend at 0x1bc2727e908>"
      ]
     },
     "execution_count": 21,
     "metadata": {},
     "output_type": "execute_result"
    },
    {
     "data": {
      "image/png": "[encoded data removed]",
      "text/plain": [
       "<Figure size 432x288 with 1 Axes>"
      ]
     },
     "metadata": {
      "needs_background": "light"
     },
     "output_type": "display_data"
    }
   ],
   "source": [
    "palet={'green':'green','yellow':'yellow','green':'green','none':'black','red':'red'}\n",
    "sns.scatterplot('pday_strain','recovery',data=whoop, hue='pday_rec_col',\n",
    "                hue_order=['green','yellow','red','none'],\n",
    "               palette=palet)\n",
    "plt.legend(bbox_to_anchor=(1,1))"
   ]
  },
  {
   "cell_type": "code",
   "execution_count": 22,
   "metadata": {},
   "outputs": [
    {
     "data": {
      "text/html": [
       "<div>\n",
       "<style scoped>\n",
       "    .dataframe tbody tr th:only-of-type {\n",
       "        vertical-align: middle;\n",
       "    }\n",
       "\n",
       "    .dataframe tbody tr th {\n",
       "        vertical-align: top;\n",
       "    }\n",
       "\n",
       "    .dataframe thead th {\n",
       "        text-align: right;\n",
       "    }\n",
       "</style>\n",
       "<table border=\"1\" class=\"dataframe\">\n",
       "  <thead>\n",
       "    <tr style=\"text-align: right;\">\n",
       "      <th></th>\n",
       "      <th>strain</th>\n",
       "      <th>recovery</th>\n",
       "      <th>sleep_perf</th>\n",
       "      <th>sleep</th>\n",
       "      <th>rec_sleep</th>\n",
       "      <th>date</th>\n",
       "      <th>activity_1</th>\n",
       "      <th>activity_1_score</th>\n",
       "      <th>activity_2</th>\n",
       "      <th>activity_2_score</th>\n",
       "      <th>activity_3</th>\n",
       "      <th>activity_3_score</th>\n",
       "      <th>rec_color</th>\n",
       "      <th>activity_total</th>\n",
       "      <th>sleep_addition</th>\n",
       "      <th>pday_rec</th>\n",
       "      <th>pday_rec_col</th>\n",
       "      <th>pday_acts</th>\n",
       "      <th>pday_strain</th>\n",
       "      <th>pday_sleep</th>\n",
       "      <th>pday_sleep_perf</th>\n",
       "      <th>rolling_prev_2</th>\n",
       "      <th>prev_strain_rec_gap</th>\n",
       "    </tr>\n",
       "  </thead>\n",
       "  <tbody>\n",
       "    <tr>\n",
       "      <th>0</th>\n",
       "      <td>17.3</td>\n",
       "      <td>0.78</td>\n",
       "      <td>1.00</td>\n",
       "      <td>10.033333</td>\n",
       "      <td>8.666667</td>\n",
       "      <td>Today, Jan 4th</td>\n",
       "      <td>Running</td>\n",
       "      <td>15.4</td>\n",
       "      <td>NaN</td>\n",
       "      <td>NaN</td>\n",
       "      <td>NaN</td>\n",
       "      <td>NaN</td>\n",
       "      <td>green</td>\n",
       "      <td>1</td>\n",
       "      <td>0.916667</td>\n",
       "      <td>0.50</td>\n",
       "      <td>yellow</td>\n",
       "      <td>1.0</td>\n",
       "      <td>17.3</td>\n",
       "      <td>8.450000</td>\n",
       "      <td>0.86</td>\n",
       "      <td>NaN</td>\n",
       "      <td>0.335749</td>\n",
       "    </tr>\n",
       "    <tr>\n",
       "      <th>1</th>\n",
       "      <td>12.8</td>\n",
       "      <td>0.50</td>\n",
       "      <td>0.86</td>\n",
       "      <td>8.450000</td>\n",
       "      <td>9.866667</td>\n",
       "      <td>Thu, Jan 3rd</td>\n",
       "      <td>Weightlifting</td>\n",
       "      <td>7.0</td>\n",
       "      <td>NaN</td>\n",
       "      <td>NaN</td>\n",
       "      <td>NaN</td>\n",
       "      <td>NaN</td>\n",
       "      <td>yellow</td>\n",
       "      <td>1</td>\n",
       "      <td>2.116667</td>\n",
       "      <td>0.28</td>\n",
       "      <td>red</td>\n",
       "      <td>1.0</td>\n",
       "      <td>12.8</td>\n",
       "      <td>6.150000</td>\n",
       "      <td>0.69</td>\n",
       "      <td>7.300000</td>\n",
       "      <td>0.338357</td>\n",
       "    </tr>\n",
       "    <tr>\n",
       "      <th>2</th>\n",
       "      <td>17.6</td>\n",
       "      <td>0.28</td>\n",
       "      <td>0.69</td>\n",
       "      <td>6.150000</td>\n",
       "      <td>8.916667</td>\n",
       "      <td>Wed, Jan 2nd</td>\n",
       "      <td>Running</td>\n",
       "      <td>16.3</td>\n",
       "      <td>NaN</td>\n",
       "      <td>NaN</td>\n",
       "      <td>NaN</td>\n",
       "      <td>NaN</td>\n",
       "      <td>red</td>\n",
       "      <td>1</td>\n",
       "      <td>1.166667</td>\n",
       "      <td>0.37</td>\n",
       "      <td>yellow</td>\n",
       "      <td>2.0</td>\n",
       "      <td>17.6</td>\n",
       "      <td>7.733333</td>\n",
       "      <td>0.96</td>\n",
       "      <td>6.941667</td>\n",
       "      <td>0.480242</td>\n",
       "    </tr>\n",
       "    <tr>\n",
       "      <th>3</th>\n",
       "      <td>18.1</td>\n",
       "      <td>0.37</td>\n",
       "      <td>0.96</td>\n",
       "      <td>7.733333</td>\n",
       "      <td>8.066667</td>\n",
       "      <td>Tue, Jan 1st</td>\n",
       "      <td>Running</td>\n",
       "      <td>15.7</td>\n",
       "      <td>Activity</td>\n",
       "      <td>7.3</td>\n",
       "      <td>NaN</td>\n",
       "      <td>NaN</td>\n",
       "      <td>yellow</td>\n",
       "      <td>2</td>\n",
       "      <td>0.316667</td>\n",
       "      <td>0.36</td>\n",
       "      <td>yellow</td>\n",
       "      <td>0.0</td>\n",
       "      <td>18.1</td>\n",
       "      <td>9.883333</td>\n",
       "      <td>1.00</td>\n",
       "      <td>8.808333</td>\n",
       "      <td>0.514396</td>\n",
       "    </tr>\n",
       "    <tr>\n",
       "      <th>4</th>\n",
       "      <td>12.1</td>\n",
       "      <td>0.36</td>\n",
       "      <td>1.00</td>\n",
       "      <td>9.883333</td>\n",
       "      <td>8.616667</td>\n",
       "      <td>Mon, Dec 31st</td>\n",
       "      <td>NaN</td>\n",
       "      <td>NaN</td>\n",
       "      <td>NaN</td>\n",
       "      <td>NaN</td>\n",
       "      <td>NaN</td>\n",
       "      <td>NaN</td>\n",
       "      <td>yellow</td>\n",
       "      <td>0</td>\n",
       "      <td>0.866667</td>\n",
       "      <td>0.16</td>\n",
       "      <td>red</td>\n",
       "      <td>1.0</td>\n",
       "      <td>12.1</td>\n",
       "      <td>5.583333</td>\n",
       "      <td>0.63</td>\n",
       "      <td>7.733333</td>\n",
       "      <td>0.424541</td>\n",
       "    </tr>\n",
       "  </tbody>\n",
       "</table>\n",
       "</div>"
      ],
      "text/plain": [
       "   strain  recovery  sleep_perf      sleep  rec_sleep            date  \\\n",
       "0    17.3      0.78        1.00  10.033333   8.666667  Today, Jan 4th   \n",
       "1    12.8      0.50        0.86   8.450000   9.866667    Thu, Jan 3rd   \n",
       "2    17.6      0.28        0.69   6.150000   8.916667    Wed, Jan 2nd   \n",
       "3    18.1      0.37        0.96   7.733333   8.066667    Tue, Jan 1st   \n",
       "4    12.1      0.36        1.00   9.883333   8.616667   Mon, Dec 31st   \n",
       "\n",
       "      activity_1  activity_1_score activity_2  activity_2_score activity_3  \\\n",
       "0        Running              15.4        NaN               NaN        NaN   \n",
       "1  Weightlifting               7.0        NaN               NaN        NaN   \n",
       "2        Running              16.3        NaN               NaN        NaN   \n",
       "3        Running              15.7   Activity               7.3        NaN   \n",
       "4            NaN               NaN        NaN               NaN        NaN   \n",
       "\n",
       "   activity_3_score rec_color  activity_total  sleep_addition  pday_rec  \\\n",
       "0               NaN     green               1        0.916667      0.50   \n",
       "1               NaN    yellow               1        2.116667      0.28   \n",
       "2               NaN       red               1        1.166667      0.37   \n",
       "3               NaN    yellow               2        0.316667      0.36   \n",
       "4               NaN    yellow               0        0.866667      0.16   \n",
       "\n",
       "  pday_rec_col  pday_acts  pday_strain  pday_sleep  pday_sleep_perf  \\\n",
       "0       yellow        1.0         17.3    8.450000             0.86   \n",
       "1          red        1.0         12.8    6.150000             0.69   \n",
       "2       yellow        2.0         17.6    7.733333             0.96   \n",
       "3       yellow        0.0         18.1    9.883333             1.00   \n",
       "4          red        1.0         12.1    5.583333             0.63   \n",
       "\n",
       "   rolling_prev_2  prev_strain_rec_gap  \n",
       "0             NaN             0.335749  \n",
       "1        7.300000             0.338357  \n",
       "2        6.941667             0.480242  \n",
       "3        8.808333             0.514396  \n",
       "4        7.733333             0.424541  "
      ]
     },
     "execution_count": 22,
     "metadata": {},
     "output_type": "execute_result"
    }
   ],
   "source": [
    "whoop.head()"
   ]
  },
  {
   "cell_type": "code",
   "execution_count": 27,
   "metadata": {},
   "outputs": [
    {
     "data": {
      "text/plain": [
       "217     Fri, Jun 1st\n",
       "218    Thu, May 31st\n",
       "219    Wed, May 30th\n",
       "220    Tue, May 29th\n",
       "221    Mon, May 28th\n",
       "Name: date, dtype: object"
      ]
     },
     "execution_count": 27,
     "metadata": {},
     "output_type": "execute_result"
    }
   ],
   "source": [
    "whoop.date.tail()"
   ]
  },
  {
   "cell_type": "code",
   "execution_count": 25,
   "metadata": {},
   "outputs": [
    {
     "data": {
      "text/plain": [
       "(dtype('O'), dtype('O'))"
      ]
     },
     "execution_count": 25,
     "metadata": {},
     "output_type": "execute_result"
    }
   ],
   "source": [
    "strava.start_date.dtype,whoop.date.dtype"
   ]
  },
  {
   "cell_type": "code",
   "execution_count": 26,
   "metadata": {},
   "outputs": [
    {
     "data": {
      "text/plain": [
       "0    2018-04-01 15:54:18+00:00\n",
       "1    2018-04-03 10:35:19+00:00\n",
       "2    2018-04-04 10:58:33+00:00\n",
       "3    2018-04-05 10:29:13+00:00\n",
       "4    2018-04-06 21:56:04+00:00\n",
       "Name: start_date, dtype: object"
      ]
     },
     "execution_count": 26,
     "metadata": {},
     "output_type": "execute_result"
    }
   ],
   "source": [
    "strava.start_date.head()"
   ]
  },
  {
   "cell_type": "code",
   "execution_count": 110,
   "metadata": {},
   "outputs": [],
   "source": [
    "month_dict={'Jan':1,'Feb':2,'Mar':3,'Apr':4, 'May':5,'Jun':6,'Jul':7,'Aug':8,'Sep':9,'Oct':10,'Nov':11,'Dec':12}\n",
    "whoop['month']=whoop.date.apply(lambda x: month_dict[x[x.find(',')+1:x.find(',')+5].strip(\" \")])\n",
    "whoop['day']=whoop.date.apply(lambda x: x[-4:-2])\n",
    "whoop['year']=whoop.month.apply(lambda x: 2018 if x!=1 else 2019)\n",
    "whoop['date_string']=whoop.year.astype(str) + \"-\" + whoop.month.astype(str).str.strip(' ').str.zfill(2) + \"-\" + whoop.day.astype(str).str.strip(' ').str.zfill(2)"
   ]
  },
  {
   "cell_type": "code",
   "execution_count": 112,
   "metadata": {},
   "outputs": [],
   "source": [
    "strava['day']=strava.start_date.apply(lambda x: x[8:10])\n",
    "strava['month']=strava.start_date.apply(lambda x: x[5:7])\n",
    "strava['year']=strava.start_date.apply(lambda x: x[:4])\n",
    "strava['date_string']=strava.start_date.apply(lambda x: x[:10])"
   ]
  },
  {
   "cell_type": "code",
   "execution_count": 156,
   "metadata": {},
   "outputs": [
    {
     "data": {
      "text/plain": [
       "73     2018-07-15 06:50:01+00:00\n",
       "74     2018-07-15 07:39:48+00:00\n",
       "75     2018-07-15 08:57:52+00:00\n",
       "132    2018-10-03 06:27:25+00:00\n",
       "133    2018-10-03 07:20:42+00:00\n",
       "169    2018-12-25 16:51:37+00:00\n",
       "170    2018-12-26 06:40:44+00:00\n",
       "Name: start_date_local, dtype: object"
      ]
     },
     "execution_count": 156,
     "metadata": {},
     "output_type": "execute_result"
    }
   ],
   "source": [
    "## Checking to see if there are more than one run on each day (since that will complicate things)\n",
    "multi_act=strava.groupby(['date_string','type']).type.count().sort_values(ascending=False).unstack()\n",
    "multi_dates=multi_act[multi_act.Run>1].index.values\n",
    "mult_df=strava[strava.date_string.isin(multi_dates)]\n",
    "mult_df.start_date_local \n",
    "## way to do it is to sort on date and assign an activity number in strava, \n",
    "## reshape activities in whoop so it's activity unique rows, then merge on activity number and activity type and date"
   ]
  },
  {
   "cell_type": "code",
   "execution_count": 157,
   "metadata": {},
   "outputs": [
    {
     "data": {
      "text/html": [
       "<div>\n",
       "<style scoped>\n",
       "    .dataframe tbody tr th:only-of-type {\n",
       "        vertical-align: middle;\n",
       "    }\n",
       "\n",
       "    .dataframe tbody tr th {\n",
       "        vertical-align: top;\n",
       "    }\n",
       "\n",
       "    .dataframe thead th {\n",
       "        text-align: right;\n",
       "    }\n",
       "</style>\n",
       "<table border=\"1\" class=\"dataframe\">\n",
       "  <thead>\n",
       "    <tr style=\"text-align: right;\">\n",
       "      <th></th>\n",
       "      <th>strain</th>\n",
       "      <th>recovery</th>\n",
       "      <th>sleep_perf</th>\n",
       "      <th>sleep</th>\n",
       "      <th>rec_sleep</th>\n",
       "      <th>date</th>\n",
       "      <th>activity_1</th>\n",
       "      <th>activity_1_score</th>\n",
       "      <th>activity_2</th>\n",
       "      <th>activity_2_score</th>\n",
       "      <th>activity_3</th>\n",
       "      <th>activity_3_score</th>\n",
       "      <th>rec_color</th>\n",
       "      <th>activity_total</th>\n",
       "      <th>sleep_addition</th>\n",
       "      <th>pday_rec</th>\n",
       "      <th>pday_rec_col</th>\n",
       "      <th>pday_acts</th>\n",
       "      <th>pday_strain</th>\n",
       "      <th>pday_sleep</th>\n",
       "      <th>pday_sleep_perf</th>\n",
       "      <th>rolling_prev_2</th>\n",
       "      <th>prev_strain_rec_gap</th>\n",
       "      <th>month</th>\n",
       "      <th>day</th>\n",
       "      <th>year</th>\n",
       "      <th>date_string</th>\n",
       "    </tr>\n",
       "  </thead>\n",
       "  <tbody>\n",
       "    <tr>\n",
       "      <th>0</th>\n",
       "      <td>17.3</td>\n",
       "      <td>0.78</td>\n",
       "      <td>1.00</td>\n",
       "      <td>10.033333</td>\n",
       "      <td>8.666667</td>\n",
       "      <td>Today, Jan 4th</td>\n",
       "      <td>Running</td>\n",
       "      <td>15.4</td>\n",
       "      <td>NaN</td>\n",
       "      <td>NaN</td>\n",
       "      <td>NaN</td>\n",
       "      <td>NaN</td>\n",
       "      <td>green</td>\n",
       "      <td>1</td>\n",
       "      <td>0.916667</td>\n",
       "      <td>0.50</td>\n",
       "      <td>yellow</td>\n",
       "      <td>1.0</td>\n",
       "      <td>17.3</td>\n",
       "      <td>8.450000</td>\n",
       "      <td>0.86</td>\n",
       "      <td>NaN</td>\n",
       "      <td>0.335749</td>\n",
       "      <td>1</td>\n",
       "      <td>4</td>\n",
       "      <td>2019</td>\n",
       "      <td>2019-01-04</td>\n",
       "    </tr>\n",
       "    <tr>\n",
       "      <th>1</th>\n",
       "      <td>12.8</td>\n",
       "      <td>0.50</td>\n",
       "      <td>0.86</td>\n",
       "      <td>8.450000</td>\n",
       "      <td>9.866667</td>\n",
       "      <td>Thu, Jan 3rd</td>\n",
       "      <td>Weightlifting</td>\n",
       "      <td>7.0</td>\n",
       "      <td>NaN</td>\n",
       "      <td>NaN</td>\n",
       "      <td>NaN</td>\n",
       "      <td>NaN</td>\n",
       "      <td>yellow</td>\n",
       "      <td>1</td>\n",
       "      <td>2.116667</td>\n",
       "      <td>0.28</td>\n",
       "      <td>red</td>\n",
       "      <td>1.0</td>\n",
       "      <td>12.8</td>\n",
       "      <td>6.150000</td>\n",
       "      <td>0.69</td>\n",
       "      <td>7.300000</td>\n",
       "      <td>0.338357</td>\n",
       "      <td>1</td>\n",
       "      <td>3</td>\n",
       "      <td>2019</td>\n",
       "      <td>2019-01-03</td>\n",
       "    </tr>\n",
       "    <tr>\n",
       "      <th>2</th>\n",
       "      <td>17.6</td>\n",
       "      <td>0.28</td>\n",
       "      <td>0.69</td>\n",
       "      <td>6.150000</td>\n",
       "      <td>8.916667</td>\n",
       "      <td>Wed, Jan 2nd</td>\n",
       "      <td>Running</td>\n",
       "      <td>16.3</td>\n",
       "      <td>NaN</td>\n",
       "      <td>NaN</td>\n",
       "      <td>NaN</td>\n",
       "      <td>NaN</td>\n",
       "      <td>red</td>\n",
       "      <td>1</td>\n",
       "      <td>1.166667</td>\n",
       "      <td>0.37</td>\n",
       "      <td>yellow</td>\n",
       "      <td>2.0</td>\n",
       "      <td>17.6</td>\n",
       "      <td>7.733333</td>\n",
       "      <td>0.96</td>\n",
       "      <td>6.941667</td>\n",
       "      <td>0.480242</td>\n",
       "      <td>1</td>\n",
       "      <td>2</td>\n",
       "      <td>2019</td>\n",
       "      <td>2019-01-02</td>\n",
       "    </tr>\n",
       "    <tr>\n",
       "      <th>3</th>\n",
       "      <td>18.1</td>\n",
       "      <td>0.37</td>\n",
       "      <td>0.96</td>\n",
       "      <td>7.733333</td>\n",
       "      <td>8.066667</td>\n",
       "      <td>Tue, Jan 1st</td>\n",
       "      <td>Running</td>\n",
       "      <td>15.7</td>\n",
       "      <td>Activity</td>\n",
       "      <td>7.3</td>\n",
       "      <td>NaN</td>\n",
       "      <td>NaN</td>\n",
       "      <td>yellow</td>\n",
       "      <td>2</td>\n",
       "      <td>0.316667</td>\n",
       "      <td>0.36</td>\n",
       "      <td>yellow</td>\n",
       "      <td>0.0</td>\n",
       "      <td>18.1</td>\n",
       "      <td>9.883333</td>\n",
       "      <td>1.00</td>\n",
       "      <td>8.808333</td>\n",
       "      <td>0.514396</td>\n",
       "      <td>1</td>\n",
       "      <td>1</td>\n",
       "      <td>2019</td>\n",
       "      <td>2019-01-01</td>\n",
       "    </tr>\n",
       "    <tr>\n",
       "      <th>4</th>\n",
       "      <td>12.1</td>\n",
       "      <td>0.36</td>\n",
       "      <td>1.00</td>\n",
       "      <td>9.883333</td>\n",
       "      <td>8.616667</td>\n",
       "      <td>Mon, Dec 31st</td>\n",
       "      <td>NaN</td>\n",
       "      <td>NaN</td>\n",
       "      <td>NaN</td>\n",
       "      <td>NaN</td>\n",
       "      <td>NaN</td>\n",
       "      <td>NaN</td>\n",
       "      <td>yellow</td>\n",
       "      <td>0</td>\n",
       "      <td>0.866667</td>\n",
       "      <td>0.16</td>\n",
       "      <td>red</td>\n",
       "      <td>1.0</td>\n",
       "      <td>12.1</td>\n",
       "      <td>5.583333</td>\n",
       "      <td>0.63</td>\n",
       "      <td>7.733333</td>\n",
       "      <td>0.424541</td>\n",
       "      <td>12</td>\n",
       "      <td>31</td>\n",
       "      <td>2018</td>\n",
       "      <td>2018-12-31</td>\n",
       "    </tr>\n",
       "  </tbody>\n",
       "</table>\n",
       "</div>"
      ],
      "text/plain": [
       "   strain  recovery  sleep_perf      sleep  rec_sleep            date  \\\n",
       "0    17.3      0.78        1.00  10.033333   8.666667  Today, Jan 4th   \n",
       "1    12.8      0.50        0.86   8.450000   9.866667    Thu, Jan 3rd   \n",
       "2    17.6      0.28        0.69   6.150000   8.916667    Wed, Jan 2nd   \n",
       "3    18.1      0.37        0.96   7.733333   8.066667    Tue, Jan 1st   \n",
       "4    12.1      0.36        1.00   9.883333   8.616667   Mon, Dec 31st   \n",
       "\n",
       "      activity_1  activity_1_score activity_2  activity_2_score activity_3  \\\n",
       "0        Running              15.4        NaN               NaN        NaN   \n",
       "1  Weightlifting               7.0        NaN               NaN        NaN   \n",
       "2        Running              16.3        NaN               NaN        NaN   \n",
       "3        Running              15.7   Activity               7.3        NaN   \n",
       "4            NaN               NaN        NaN               NaN        NaN   \n",
       "\n",
       "   activity_3_score rec_color  activity_total  sleep_addition  pday_rec  \\\n",
       "0               NaN     green               1        0.916667      0.50   \n",
       "1               NaN    yellow               1        2.116667      0.28   \n",
       "2               NaN       red               1        1.166667      0.37   \n",
       "3               NaN    yellow               2        0.316667      0.36   \n",
       "4               NaN    yellow               0        0.866667      0.16   \n",
       "\n",
       "  pday_rec_col  pday_acts  pday_strain  pday_sleep  pday_sleep_perf  \\\n",
       "0       yellow        1.0         17.3    8.450000             0.86   \n",
       "1          red        1.0         12.8    6.150000             0.69   \n",
       "2       yellow        2.0         17.6    7.733333             0.96   \n",
       "3       yellow        0.0         18.1    9.883333             1.00   \n",
       "4          red        1.0         12.1    5.583333             0.63   \n",
       "\n",
       "   rolling_prev_2  prev_strain_rec_gap  month day  year date_string  \n",
       "0             NaN             0.335749      1   4  2019  2019-01-04  \n",
       "1        7.300000             0.338357      1   3  2019  2019-01-03  \n",
       "2        6.941667             0.480242      1   2  2019  2019-01-02  \n",
       "3        8.808333             0.514396      1   1  2019  2019-01-01  \n",
       "4        7.733333             0.424541     12  31  2018  2018-12-31  "
      ]
     },
     "execution_count": 157,
     "metadata": {},
     "output_type": "execute_result"
    }
   ],
   "source": []
  },
  {
   "cell_type": "markdown",
   "metadata": {},
   "source": [
    "## Next steps\n",
    "\n",
    "1. Make a few more features\n",
    "2. Attach whoop to strava\n",
    "3. Run linear reg - see how it does"
   ]
  },
  {
   "cell_type": "code",
   "execution_count": null,
   "metadata": {
    "collapsed": true
   },
   "outputs": [],
   "source": []
  },
  {
   "cell_type": "code",
   "execution_count": null,
   "metadata": {
    "collapsed": true
   },
   "outputs": [],
   "source": []
  },
  {
   "cell_type": "code",
   "execution_count": null,
   "metadata": {
    "collapsed": true
   },
   "outputs": [],
   "source": []
  },
  {
   "cell_type": "code",
   "execution_count": null,
   "metadata": {
    "collapsed": true
   },
   "outputs": [],
   "source": []
  },
  {
   "cell_type": "code",
   "execution_count": null,
   "metadata": {
    "collapsed": true
   },
   "outputs": [],
   "source": []
  },
  {
   "cell_type": "code",
   "execution_count": null,
   "metadata": {
    "collapsed": true
   },
   "outputs": [],
   "source": []
  },
  {
   "cell_type": "code",
   "execution_count": null,
   "metadata": {
    "collapsed": true
   },
   "outputs": [],
   "source": []
  },
  {
   "cell_type": "code",
   "execution_count": null,
   "metadata": {
    "collapsed": true
   },
   "outputs": [],
   "source": []
  },
  {
   "cell_type": "code",
   "execution_count": 171,
   "metadata": {},
   "outputs": [
    {
     "name": "stderr",
     "output_type": "stream",
     "text": [
      "/Users/irarickman/anaconda2/envs/py35/lib/python3.6/site-packages/scipy/stats/stats.py:1713: FutureWarning: Using a non-tuple sequence for multidimensional indexing is deprecated; use `arr[tuple(seq)]` instead of `arr[seq]`. In the future this will be interpreted as an array index, `arr[np.array(seq)]`, which will result either in an error or a different result.\n",
      "  return np.add.reduce(sorted[indexer] * weights, axis=axis) / sumval\n"
     ]
    },
    {
     "data": {
      "text/plain": [
       "<matplotlib.axes._subplots.AxesSubplot at 0x1a15901f60>"
      ]
     },
     "execution_count": 171,
     "metadata": {},
     "output_type": "execute_result"
    },
    {
     "data": {
      "image/png": "[encoded data removed]",
      "text/plain": [
       "<Figure size 432x288 with 1 Axes>"
      ]
     },
     "metadata": {},
     "output_type": "display_data"
    }
   ],
   "source": [
    "## maybe logarithimc?\n",
    "sns.regplot(whoop.sleep_perf, whoop.recovery)"
   ]
  },
  {
   "cell_type": "code",
   "execution_count": 172,
   "metadata": {},
   "outputs": [
    {
     "name": "stderr",
     "output_type": "stream",
     "text": [
      "/Users/irarickman/anaconda2/envs/py35/lib/python3.6/site-packages/scipy/stats/stats.py:1713: FutureWarning: Using a non-tuple sequence for multidimensional indexing is deprecated; use `arr[tuple(seq)]` instead of `arr[seq]`. In the future this will be interpreted as an array index, `arr[np.array(seq)]`, which will result either in an error or a different result.\n",
      "  return np.add.reduce(sorted[indexer] * weights, axis=axis) / sumval\n"
     ]
    },
    {
     "data": {
      "text/plain": [
       "<matplotlib.axes._subplots.AxesSubplot at 0x1a1593a2e8>"
      ]
     },
     "execution_count": 172,
     "metadata": {},
     "output_type": "execute_result"
    },
    {
     "data": {
      "image/png": "[encoded data removed]",
      "text/plain": [
       "<Figure size 432x288 with 1 Axes>"
      ]
     },
     "metadata": {},
     "output_type": "display_data"
    }
   ],
   "source": [
    "sns.regplot(whoop.sleep, whoop.recovery)"
   ]
  },
  {
   "cell_type": "code",
   "execution_count": null,
   "metadata": {
    "collapsed": true
   },
   "outputs": [],
   "source": []
  }
 ],
 "metadata": {
  "kernelspec": {
   "display_name": "Python 3",
   "language": "python",
   "name": "python3"
  },
  "language_info": {
   "codemirror_mode": {
    "name": "ipython",
    "version": 3
   },
   "file_extension": ".py",
   "mimetype": "text/x-python",
   "name": "python",
   "nbconvert_exporter": "python",
   "pygments_lexer": "ipython3",
   "version": "3.7.0"
  }
 },
 "nbformat": 4,
 "nbformat_minor": 2
}
